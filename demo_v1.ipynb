{
 "cells": [
  {
   "cell_type": "code",
   "execution_count": 2,
   "id": "a95bae7a",
   "metadata": {},
   "outputs": [],
   "source": [
    "%%capture\n",
    "!pip install widgetsnbextension\n",
    "!pip install ipywidgets\n",
    "!pip install voila\n",
    "!jupyter nbextension enable --py widgetsnbextension --sys-prefix\n",
    "!jupyter serverextension enable voila --sys-prefix\n",
    "!pip install rudalle\n",
    "!pip install scikit-learn==0.13"
   ]
  },
  {
   "cell_type": "code",
   "execution_count": null,
   "id": "dc3fae93",
   "metadata": {},
   "outputs": [],
   "source": []
  },
  {
   "cell_type": "code",
   "execution_count": 15,
   "id": "e56db6a9",
   "metadata": {},
   "outputs": [],
   "source": [
    "import warnings \n",
    "warnings.filterwarnings('ignore')"
   ]
  },
  {
   "cell_type": "code",
   "execution_count": null,
   "id": "408bf856",
   "metadata": {},
   "outputs": [],
   "source": [
    "categories = ['Accessories', 'Amulets', 'Architectural fittings', 'Architecture', \n",
    "'Arms & Armour', 'Black History', 'Books', 'Ceramics', 'Ceremonial objects', 'Christianity (Religion)', \n",
    "'Clocks & Watches', 'Containers', 'Designs', 'Drawings', 'Drinking', 'Eating', 'Enamels', 'Entertainment & Leisure', \n",
    "'Fakes & forgeries', 'Food vessels & Tableware', 'Furniture', 'Glass', 'Hinduism (Religion)', 'Household objects', \n",
    "'Islam (Religion)', 'Jewellery', 'Judaism (Religion)', 'Lighting', 'Metalwork', 'National Art Library', 'Ornament prints',\n",
    " 'Pattern books', 'Photographs', 'Rubbings', 'Scientific instruments', 'Sculpture']\n",
    "\n",
    "\n",
    "england_cities = ['Stoke-on-Trent', 'London', 'Exeter', 'Suffolk', 'Birmingham', 'Edinburgh (Edinboro)', 'Chipping Campden', 'Olton', 'Essex', \n",
    "'Glasgow', 'Chelsea', 'Cardona', 'Falkirk']\n",
    "\n",
    "indian_cities = ['Pudukottai', 'Pune', 'Karnataka']\n",
    "\n",
    "malaysian_cities = ['Perak', 'Kuala Lumpur']\n",
    "\n",
    "italian_cities = ['Venice', 'Rome', 'Catania', 'Latium', 'Piedmont', 'Arienzo', 'Messina (Sicily)', 'Syracuse (Sicily)', 'Sicily', \n",
    "'Naples', 'Sardinia', 'Papal States', 'Parma', 'Lombardy', 'Novara', 'Florence', 'Crusinallo']\n",
    "\n",
    "german_cities = ['Nuremberg', 'Munich', 'Cologne', 'Neuberg an der Donau', 'Saxony', 'Augsburg', 'Wesel', 'Strasbourg', 'Memmingen', 'Hamburg', 'Dresden', 'Stuttgart']\n",
    "\n",
    "french_cities = ['Paris', 'Toulouse', 'Lille']\n",
    "\n",
    "israeli_cities = ['Tel Aviv-Jaffa']\n",
    "\n",
    "indonesian_cities = ['Sumatra']\n",
    "\n",
    "swedish_cities = ['Stockholm', 'Lund', 'Norrköping', 'Arboga', 'Luleå', 'Göteborg', 'Piteå']\n",
    "\n",
    "US_states = ['Seattle', 'New Jersey', 'Massachussets', 'South Carolina', 'New York', 'Houston', 'Iowa']\n",
    "\n",
    "chinese_cities = ['Shanghai']\n",
    "\n",
    "russian_cities = ['Moscow']\n",
    "\n",
    "dutch_cities = ['Zwolle', 'Sneek', 'Amsterdam', 'Leeuwarden', 'The Hague','Groningen', 'Delft']\n",
    "\n",
    "finnish_cities = ['Nuutajärvi']\n",
    "\n",
    "canadian_cities = ['Toronto']\n",
    "\n",
    "danish_cities = ['Copenhagen', 'Elsinore', 'Hillerod']\n",
    "\n",
    "spanish_cities = ['Barcelona', 'Santiago de Compostela', 'Toledo', 'Seville', 'Valencia', 'Avila', 'Córdoba', 'Madrid']\n",
    "\n",
    "belgium_cities = ['Flanders', 'Ghent', 'Flanders', 'Mechelen', 'Liège']\n",
    "\n",
    "norwegian_cities = ['Trondheim', 'Bergen', 'Oslo']\n",
    "\n",
    "portuguese_cities = ['Lisbon', 'Porto']\n",
    "\n",
    "polish_cities = ['Gdansk', 'Stolp']\n",
    "\n",
    "swiss_cities = ['Zurich']\n",
    "\n",
    "latvian_cities = ['Riga']\n",
    "\n",
    "pakistani_cities = ['Gujranwala']\n",
    "\n",
    "countries = ['Egypt', 'India', 'Malaysia', 'Italy', 'England / Britain / United Kingdom', 'Germany', 'France', 'Israel', 'Netherlands', 'Indonesia',\n",
    " 'Sweden', 'Russia', 'Denmark', 'United States of America (USA)', 'China', 'Iceland', 'Syria', 'Belgium', 'Norway', 'Spain', 'Finland', 'Canada', 'Ghana', 'Latvia',\n",
    " 'Ethiopia',  'Switzerland', 'Japan', 'Portugal', 'Malta', 'Turkey', 'Poland', 'Ireland', 'Pakistan', 'Sri Lanka']\n",
    "\n",
    "\n",
    "styles = ['Egyptian', 'Renaissance', 'Modernist', 'Regence', 'Baroque', 'Neoclassical', 'Chinoiserie', 'Georgian', \n",
    "'Regency', 'Rococo', 'Victorian', 'Art Deco', 'Ayyubid', 'Stuart', 'Archaeological', 'Asante', 'Roman', 'Arts and Crafts', 'Art Nouveau', \n",
    "'Gothic Revival', '20th century', 'Rococo', 'Gothic', 'Mannerism', \n",
    "'Shang-Zhou dynasties', 'Veneto-Saracenic', 'Mannerist', 'Medieval', 'Mamluk', 'Late Baroque']\n",
    "\n",
    "techniques = ['engraving', 'rubbing', 'chasing', 'raising', 'forging', 'soldering', 'dotted manner', 'calligraphy', 'gilding', 'carving', 'casting', 'repousse',\n",
    "'glazed', 'gilt', 'painting', 'raised', 'stamping', 'incised', 'piercing', 'drawing', 'photography',\n",
    "'filigree', 'inlay', 'enamelling',  'hammering', 'polishing', 'plating', 'electroplating', 'embossing', 'granulation',\n",
    " 'oil painting', 'embroidery', 'enamelled', 'stone setting', 'repoussé', 'cloisonné', 'lost-wax process', 'faceting', \n",
    " 'hammered', 'embossed', 'turned', 'inscribed', 'digital inkjet', \n",
    "'die stamping', 'spinning', 'folding', 'tinning', 'etching', 'printing', 'frottage', 'plaiting']\n",
    "\n",
    "\n",
    "artists = ['Pugin, Augustus Welby Northmore', 'Owen, Simon', 'Jones, John', 'Jamnitzer, Wenzel', 'Short MBE, Jane', 'Benney, Gerald (CBE, RDI)',\n",
    "'Durbin, Leslie', 'Caspar Gottlieb Eisler', 'Bourguet, Jean', 'André-Charles Boulle', 'Baffert, Martin', 'Ferdinand Berthoud','Le Bon, Charles', \n",
    "'Firstenfelder, B', 'Borlion, Jacques', 'Angel Santini', 'Carter, John', 'Tanqueray, Anne', 'Charles Aldridge', 'Brangwyn, Frank (Sir)', 'Scott, Digby', 'Eli Gera', 'McMeekin, Susan Phillips', \n",
    "'Flinkenberg', 'Wallengren', 'Niclas Bleckberg', 'Aspelin', 'Jörgensson', 'Clavette, Brigitte',\n",
    " 'Wyancko, Ronald J.', 'Defner, Jesus Elisabeth Kodré', 'Boulton, Matthew', 'Hadid, Zaha', 'Amman, Jost', 'Watkins, Miranda', 'Wahlgren', 'Dorph-Jensen, Sidsel', 'Davie, Alan',\n",
    "   'Frost, Terry (Sir)', 'Frink, Elizabeth (Dame)', 'Koppel, Henning', 'Podolsky, Eyna Wolko', 'Quick, John', 'Gilbert, Walter', 'Gérard Sandoz', 'Martin, Abraham', 'Corwin, Nancy Megan', \n",
    "   'Butt, Harlan W.', 'Brophy, Michael', 'Baker-Wood, Florence', 'Amendolara, Suzanne', 'Ward, Alfred', \"O'Neil, Shannon\", 'Musgrove, Peter', 'Mudd, Alan', 'Mina, Jacqueline', 'Miller, Hector',\n",
    "    'McFadyen, Angus', 'McCrory, Michael', 'Leslie Durbin', 'Linwood, Mathew', 'Suzuki, Hiroshi', 'Bolten, Arent von', 'Belli, Valerio', 'Unite, George', 'Reynolds, Joshua (Sir)', 'Eberl, Christian Ulrich', \n",
    "    'Salo', 'Paul de Lamerie', 'Morrow, Ross', 'Giuliano, Carlo', 'di Verdura, Fulco', 'Reid, William', 'Rawlings, Charles', 'Alexis Falize', 'Leane, Shaun', 'Willmore, Joseph', 'Wheeler, Gervase', 'Reilly, John', \n",
    "    'Bridge, John', 'Charles Rawlings', 'Edwards, Edward', 'F., W.', 'Skidmore, Francis Alexander (the younger)', 'Holmberg, Christina Dorothea', 'Håkan Lärka', 'Larsson', 'Dahlberg', 'Millberg', 'Wahlberg', 'Ramberg, Sven Magnus', \n",
    "    'Jonas Wahlberg', 'Stephensen, Magnus', 'Sottsass', 'Krezner, Michael (III)', 'Antonio Caccavallo', 'Copson, Carrie', 'Gaskin, Georgie Cave', 'Ramsay, Frances', 'Lalique, René Jules', 'Grange, Kenneth', 'Bodendick, Jacob', \n",
    "    'Kandler, Charles Frederick', 'Watson, J.', 'Scott, Georgia', 'Macdonald, Margaret', 'Alexandra Raphael', 'Rivière, James', 'Shaun Grace', 'Ute Decker', 'Jonathan Boyd', 'Clay, Charles', 'Monogrammist P. M',\n",
    "     'Rebecca de Quin', 'Bally, Boris', 'Welch, Robert', 'Jans, Wyger', 'Langweer, Pieter Johannes', 'Nieuwenhuis, Hendrik', 'van Giffen, Lambertus', 'Marguerit, Gabriel', 'Fernandes, Belchior', 'Nunez', 'Franci, Juan', \n",
    "     'Herrera', 'Nolin, Nicholas', 'Cyrén, Gunnar (Professor)', 'Mills, Ernestine', 'Farrell, Edward', 'Middeldorf, Ulrich (Professor)', 'Bott, Rudolf', 'Harvey, John', 'Dresser, Christopher', 'Burges, William',\n",
    "     'Defner, Jesus Elisabeth Kodre', 'Krüger, Daniel', 'Piazza, Diego', 'Spagnolo, Pino', 'Juvarra, Sebastian', 'Pace, Andrea', 'Wallbaum, Matthaüs', 'Saint Raymond, Jean Francis', 'Jongh, Jean de', 'Dixon, Arthur Stansfield', \n",
    "     'Benson, William Arthur Smith', 'Voysey', 'Dawson, Nelson Ethelred', 'Hermes, Gertrude (RA)', 'Winter, George', 'Loir, Jean-Baptiste', 'Frolich, Gierdt', 'Thelot, Johann Andreas', 'Philippe Luyda', 'Mahmud al-Kurdi', \n",
    "     'Orstedt, Nils', 'Reutz, Andreas', 'Gadd, Johan', 'Lude, Andreas', 'Rømer, Ernst Peter Michelsen', 'Joen (Jochum) Andersen', 'Erhart, Christopher', 'Lauer, Hans Christoph', 'Kessbayr, Jacob', 'Gross, Elias', 'Cornelius Erb', \n",
    "     'Barthel Birtsch', 'Thomas Stoer II', 'Mylius, Daniel Friedrich von', 'Poppe, Cornelius', 'Jorgensen, Oluf', 'Brockmuller, Gabriel', 'Moller, Henrik', 'Dragman, Johan', 'Johan Nutzel', 'Bruchon, J. F.', 'Taylboyes, Robert', \n",
    "     'Wickes, George', 'Löfvander, Olaf (the younger)', 'Dort, Franz von (I)', 'Mittscherlich, Christoffel', 'Jose de Madrid', 'Thomas Cubitt', 'Adam, Robert', 'Edgar Brandt', 'Somers, Wierick (I)', 'Christian Mundt', \n",
    "     'Brockner, Berendt Johann', 'Stenglin, Philipp', 'Flint, Roger', 'Garthorne, George', 'Robert Welch MBE, RDI', 'Gillois, Pierre', 'Elie Pacot', 'Pacot, Elie', 'Weldon, William Archibald', 'Robert Adam', 'Richard Hollis', '',\n",
    "      'Andrews II, John', 'Elliott, William', 'Elkington, Frederick', 'Houle, John', 'Esaias Hulsen', 'Hans Janssen', 'Charles Thurston Thompson', 'Thompson, Charles Thurston', 'Longfield, Thomas Henry F.S.A', 'Penbeton, Samuel',\n",
    "'Ramshaw, Wendy', 'Welch, Robert RDI', 'Robert Welch', 'A. Forrer', 'Adams, George W.', 'Jacob Halder', 'William Burges', 'Taylor, Lucian', 'Whitelaw, Julie', 'Book, Flora', 'Butler, Robert', 'Callender, Wade', 'Chunghi Choo']\n",
    "\n",
    "\n",
    "materials = ['bronze', 'glass', 'silver', 'metal', 'gilt', 'wax', 'paper',  'gold', 'enamel', 'pewter', 'wood',  'ink', 'brass', 'alabaster', 'ormolu', \n",
    "'copper',  'steel', 'iron',  'watercolour', 'Sheffield plate',  'pencil', 'gouache', \n",
    "'paste', 'albumen', 'velvet', 'sapphire', 'tortoiseshell', 'emerald',  'cork', 'ruby', 'diamond',   'oil colour', 'carnelian', 'pearl', 'quartz', 'ebony', 'moonstone',\n",
    "  'hair', 'ivory', 'garnet', 'agate',  'vellum', 'crystal',  'ceramic',  'wire', 'foil',\n",
    "   'coral', 'lead', 'plastic',  'turquoise', 'ribbon', 'textile', 'blood-stone', 'onyx', 'opal', \n",
    "  'tourmaline', 'chrome', 'paktong',  'nickel alloy',  'board', \n",
    " 'aluminium', 'latten', 'wicker', 'topaz','rush', 'tin', 'Siena marble', 'jasper', 'Serpentine', 'oak', 'bakelite', \n",
    "   'paint', 'smalt', 'size (material)', 'pigment', 'card', 'graphite', 'felt tip', 'wash', 'pen', 'crayon', 'lapis lazuli']"
   ]
  },
  {
   "cell_type": "code",
   "execution_count": null,
   "id": "a1fdb91c",
   "metadata": {},
   "outputs": [],
   "source": [
    "city_countries = {\"Egypt\": [], \"India\": indian_cities, \"Malaysia\": malaysian_cities, \"Italy\": italian_cities, \"Germany\": german_cities, \"England / Britain / United Kingdom\": england_cities, \"France\": french_cities, \"Israel\": israeli_cities, \"Netherlands\": dutch_cities, \n",
    "\"Indonesia\" :indonesian_cities, \"Sweden\" : swedish_cities, \"Russia\": russian_cities, \"Denmark\": danish_cities, 'United States of America (USA)': US_states, \"China\": chinese_cities, \"Iceland\": [], \"Syria\": [], \"Belgium\": belgium_cities, \"Norway\": norwegian_cities, \n",
    "\"Spain\":spanish_cities, \"Finland\": finnish_cities, \"Canada\":canadian_cities, \"Ghana\": [], \"Latvia\": latvian_cities, \"Ethipia\": [], \"Switzerland\":swiss_cities, \"Japan\": [], \"Portugal\": portuguese_cities, \"Malta\":[], \"Turkey\":[], \"Poland\": polish_cities, \"Ireland\": [],\n",
    "\"Pakistan\": pakistani_cities, \"Sri Lanka\": [] }"
   ]
  },
  {
   "cell_type": "code",
   "execution_count": 16,
   "id": "73c2a42d",
   "metadata": {},
   "outputs": [],
   "source": [
    "import ipywidgets as widgets\n",
    "from IPython.display import display, clear_output, Image\n",
    "import os"
   ]
  },
  {
   "cell_type": "code",
   "execution_count": 9,
   "id": "14bf09ab",
   "metadata": {},
   "outputs": [],
   "source": [
    "layout = widgets.Layout(width='400px', height='50px')"
   ]
  },
  {
   "cell_type": "code",
   "execution_count": 11,
   "id": "4a7c5bd6",
   "metadata": {},
   "outputs": [],
   "source": [
    "import numpy as np\n",
    "checkpoint = widgets.DropDown(\n",
    "            options=np.linspace(20,20*100,100).astype('int'), description = 'Model Checkpoint',\n",
    "        )"
   ]
  },
  {
   "cell_type": "code",
   "execution_count": 13,
   "id": "2ed825ae",
   "metadata": {},
   "outputs": [],
   "source": [
    "confidence = widgets.ToggleButtons(\n",
    "            options=['Ultra-Low', 'Low', 'Medium', 'High', 'Ultra-High'],description='Confidence',\n",
    "            style= {'description_width': 'initial'})\n",
    "variability = widgets.ToggleButtons(\n",
    "            options=['Ultra-Low', 'Low', 'Medium', 'High', 'Ultra-High'], description = 'Variability',\n",
    "            style= {'description_width': 'initial'})"
   ]
  },
  {
   "cell_type": "code",
   "execution_count": null,
   "id": "4fd91e51",
   "metadata": {},
   "outputs": [],
   "source": [
    "img_amount = widgets.IntSlider(value=2,min=1,max=9,step=1,description='Image amount',style= {'description_width': 'initial'}, layout = layout)"
   ]
  },
  {
   "cell_type": "code",
   "execution_count": null,
   "id": "e8bf378b",
   "metadata": {},
   "outputs": [],
   "source": [
    "filtered = widgets.IntSlider(value=2,min=1,max=9,step=1,description='Filtered Images',style= {'description_width': 'initial'}, layout = layout)"
   ]
  },
  {
   "cell_type": "code",
   "execution_count": null,
   "id": "17ff8148",
   "metadata": {},
   "outputs": [],
   "source": [
    "img_amount.style.handle_color = 'lightblue'\n",
    "filtered.style.handle_color = 'lightblue'"
   ]
  },
  {
   "cell_type": "code",
   "execution_count": null,
   "id": "1262958d",
   "metadata": {},
   "outputs": [
    {
     "data": {
      "application/vnd.jupyter.widget-view+json": {
       "model_id": "84981f992b3c40b6afd8d0c922415690",
       "version_major": 2,
       "version_minor": 0
      },
      "text/plain": [
       "IntSlider(value=2, description='Image amount', max=9, min=1)"
      ]
     },
     "metadata": {},
     "output_type": "display_data"
    },
    {
     "data": {
      "application/vnd.jupyter.widget-view+json": {
       "model_id": "15ae6d55ab3d467eb64b6fc415d89790",
       "version_major": 2,
       "version_minor": 0
      },
      "text/plain": [
       "IntSlider(value=2, description='Filtered Images', max=9, min=1)"
      ]
     },
     "metadata": {},
     "output_type": "display_data"
    }
   ],
   "source": [
    "display(img_amount)\n",
    "display(filtered)"
   ]
  },
  {
   "cell_type": "code",
   "execution_count": null,
   "id": "63ab8884",
   "metadata": {},
   "outputs": [],
   "source": [
    "category = widgets.DropDown(options = sorted(categories), description = 'Category')\n",
    "country = widgets.DropDown(options = sorted(countries), description = 'Countries', value = None)"
   ]
  },
  {
   "cell_type": "code",
   "execution_count": null,
   "id": "043fab57",
   "metadata": {},
   "outputs": [],
   "source": [
    "city = widgets.DropDown(options = sorted(england_cities), description = 'City / State / Region', value = None)\n",
    "\n",
    "def on_update_country_widget():\n",
    "    city.options = sorted(city_countries[country.value])\n",
    "\n",
    "country.observe(on_update_country_widget, 'value')"
   ]
  },
  {
   "cell_type": "code",
   "execution_count": null,
   "id": "2c465765",
   "metadata": {},
   "outputs": [],
   "source": [
    "style = widgets.Dropdown(options = sorted(styles), description = 'Styles', value = None)\n",
    "material = widgets.DropDown(options = sorted(materials), description = 'Materials',  value = None)\n",
    "technique = widgets.DropDown(options = sorted(techniques), description = 'Techniques', value = None)\n",
    "artist = widgets.DropDown(options = sorted(artists), description = 'Artists', value = None)"
   ]
  },
  {
   "cell_type": "code",
   "execution_count": null,
   "id": "2258668e",
   "metadata": {},
   "outputs": [],
   "source": []
  },
  {
   "cell_type": "code",
   "execution_count": null,
   "id": "5e994ae4",
   "metadata": {},
   "outputs": [
    {
     "data": {
      "application/vnd.jupyter.widget-view+json": {
       "model_id": "39215c828b5c4afea466ebd36b8b2eaf",
       "version_major": 2,
       "version_minor": 0
      },
      "text/plain": [
       "Text(value='', placeholder='Input your prompt')"
      ]
     },
     "metadata": {},
     "output_type": "display_data"
    }
   ],
   "source": [
    "display(category)\n",
    "display(country)\n",
    "display(city)\n",
    "display(artist)\n",
    "display(style)\n",
    "display(technique)\n",
    "display(material)"
   ]
  },
  {
   "cell_type": "code",
   "execution_count": null,
   "id": "0dc90fec",
   "metadata": {},
   "outputs": [],
   "source": []
  },
  {
   "cell_type": "code",
   "execution_count": null,
   "id": "4e21047a",
   "metadata": {},
   "outputs": [],
   "source": [
    "display(checkpoint)\n"
   ]
  },
  {
   "cell_type": "code",
   "execution_count": null,
   "id": "5c577562",
   "metadata": {},
   "outputs": [
    {
     "data": {
      "application/vnd.jupyter.widget-view+json": {
       "model_id": "1b88bf570526435790c523c65e7df277",
       "version_major": 2,
       "version_minor": 0
      },
      "text/plain": [
       "ToggleButtons(description='confidence', options=('Ultra-Low', 'Low', 'Medium', 'High', 'Ultra-High'), value='U…"
      ]
     },
     "metadata": {},
     "output_type": "display_data"
    }
   ],
   "source": [
    "display(confidence)"
   ]
  },
  {
   "cell_type": "code",
   "execution_count": null,
   "id": "23aaa461",
   "metadata": {},
   "outputs": [
    {
     "data": {
      "application/vnd.jupyter.widget-view+json": {
       "model_id": "eb5aa349d2754c68bda4aba8e152b8d2",
       "version_major": 2,
       "version_minor": 0
      },
      "text/plain": [
       "ToggleButtons(description='variability', options=('Ultra-Low', 'Low', 'Medium', 'High', 'Ultra-High'), value='…"
      ]
     },
     "metadata": {},
     "output_type": "display_data"
    }
   ],
   "source": [
    "display(variability)"
   ]
  },
  {
   "cell_type": "code",
   "execution_count": null,
   "id": "caf506f8",
   "metadata": {},
   "outputs": [],
   "source": [
    "print(\"Below you can construct the inputs for the model. Feel free to leave some of them blank if you prefer!\")"
   ]
  },
  {
   "cell_type": "code",
   "execution_count": null,
   "id": "5e994ae4",
   "metadata": {},
   "outputs": [
    {
     "data": {
      "application/vnd.jupyter.widget-view+json": {
       "model_id": "39215c828b5c4afea466ebd36b8b2eaf",
       "version_major": 2,
       "version_minor": 0
      },
      "text/plain": [
       "Text(value='', placeholder='Input your prompt')"
      ]
     },
     "metadata": {},
     "output_type": "display_data"
    }
   ],
   "source": [
    "display(category)\n",
    "display(country)\n",
    "display(city)\n",
    "display(artist)\n",
    "display(style)\n",
    "display(technique)\n",
    "display(material)"
   ]
  },
  {
   "cell_type": "code",
   "execution_count": null,
   "id": "4685484e",
   "metadata": {},
   "outputs": [],
   "source": []
  },
  {
   "cell_type": "code",
   "execution_count": null,
   "id": "126e54aa",
   "metadata": {},
   "outputs": [],
   "source": [
    "button_run = widgets.Button(description = 'Run model', tooltip='Send',\n",
    "                style={'description_width': 'initial'}, layout = layout)"
   ]
  },
  {
   "cell_type": "code",
   "execution_count": null,
   "id": "23d66307",
   "metadata": {},
   "outputs": [],
   "source": [
    "button_run.style.button_color = 'lightblue'"
   ]
  },
  {
   "cell_type": "code",
   "execution_count": null,
   "id": "8fc10339",
   "metadata": {},
   "outputs": [],
   "source": [
    "output = widgets.Output()"
   ]
  },
  {
   "cell_type": "code",
   "execution_count": null,
   "id": "2fa6fc71",
   "metadata": {
    "scrolled": true
   },
   "outputs": [],
   "source": [
    "%%capture\n",
    "\n",
    "from rudalle import get_rudalle_model, get_vae\n",
    "import torch\n",
    "from model.functions import generate, get_closest_training_images_by_clip\n",
    "\n",
    "device = torch.device(\"cuda:0\" if torch.cuda.is_available() else \"cpu\")\n",
    "model = get_rudalle_model(\"Malevich\", pretrained=True, fp16=True, device=device)"
   ]
  },
  {
   "cell_type": "code",
   "execution_count": null,
   "id": "3e97c025",
   "metadata": {
    "scrolled": true
   },
   "outputs": [],
   "source": [
    "%%capture\n",
    "vae = get_vae().to(\"cuda\")"
   ]
  },
  {
   "cell_type": "code",
   "execution_count": null,
   "id": "43fd322d",
   "metadata": {},
   "outputs": [],
   "source": [
    "def construct_prompt():\n",
    "    prompt = ''\n",
    "    if material.value is not None:\n",
    "        prompt += f'{material.value}, '\n",
    "    if technique.value is not None:\n",
    "        prompt += f'{technique.value} '\n",
    "    if category.value is not None:\n",
    "        prompt += f'{category.value} '\n",
    "    if artist.value is not None:\n",
    "        prompt += f'made by {artist.value} '\n",
    "    if style.value is not None:\n",
    "        prompt += f'of style {style.value} '\n",
    "    if city.value is not None:\n",
    "        prompt += f' from {city.value}'\n",
    "        if country.value is not None:\n",
    "            prompt += f', {country.value}'\n",
    "    if city.value is None and country.value is not None:\n",
    "        prompt += f' from {country.value}'\n",
    "    return prompt"
   ]
  },
  {
   "cell_type": "code",
   "execution_count": null,
   "id": "9a64e34e",
   "metadata": {},
   "outputs": [],
   "source": [
    "import os\n",
    "\n",
    "def on_button_clicked(event):\n",
    "    with output:\n",
    "        prompt = construct_prompt()\n",
    "\n",
    "        print(f'Running model with prompt: {prompt}')\n",
    "\n",
    "        clear_output()\n",
    "        model_path = os.path.join(f'checkpoints/lookingglass_dalle_{checkpoint.value}00.pt')\n",
    "        if not os.path.exists('output/'):\n",
    "            os.mkdir('output/')\n",
    "        filepath = f'output/{prompt}:{checkpoint.value}:{confidence.value}:{variability.value}'\n",
    "        if not os.path.exists(filepath):\n",
    "            os.mkdir(filepath)\n",
    "        model.load_state_dict(torch.load(model_path))\n",
    "        filenames = generate(vae, model, prompt, confidence = confidence.value, variability = variability.value, rurealesrgan_multiplier=\"x1\", output_filepath=filepath, num_filtered = filtered.value, image_amount = img_amount.value)\n",
    "        print(f'Images saved in {filepath}')\n",
    "\n",
    "        for image in filenames:\n",
    "            img = Image(image)\n",
    "            display(img)\n",
    "            "
   ]
  },
  {
   "cell_type": "code",
   "execution_count": null,
   "id": "e6bfb185",
   "metadata": {},
   "outputs": [
    {
     "ename": "NameError",
     "evalue": "name 'button_run' is not defined",
     "output_type": "error",
     "traceback": [
      "\u001b[0;31m---------------------------------------------------------------------------\u001b[0m",
      "\u001b[0;31mNameError\u001b[0m                                 Traceback (most recent call last)",
      "\u001b[0;32m<ipython-input-31-874c3cbd5fbb>\u001b[0m in \u001b[0;36m<module>\u001b[0;34m\u001b[0m\n\u001b[0;32m----> 1\u001b[0;31m \u001b[0mbutton_run\u001b[0m\u001b[0;34m.\u001b[0m\u001b[0mon_click\u001b[0m\u001b[0;34m(\u001b[0m\u001b[0mon_button_clicked\u001b[0m\u001b[0;34m)\u001b[0m\u001b[0;34m\u001b[0m\u001b[0;34m\u001b[0m\u001b[0m\n\u001b[0m",
      "\u001b[0;31mNameError\u001b[0m: name 'button_run' is not defined"
     ]
    }
   ],
   "source": [
    "button_run.on_click(on_button_clicked)"
   ]
  },
  {
   "cell_type": "code",
   "execution_count": null,
   "id": "cb9e0013",
   "metadata": {},
   "outputs": [],
   "source": [
    "display(button_run, output)"
   ]
  },
  {
   "cell_type": "code",
   "execution_count": null,
   "id": "52acba0b",
   "metadata": {},
   "outputs": [],
   "source": [
    "vbox_result = widgets.VBox([button_run, output])"
   ]
  },
  {
   "cell_type": "code",
   "execution_count": null,
   "id": "3b683f94",
   "metadata": {},
   "outputs": [
    {
     "data": {
      "application/vnd.jupyter.widget-view+json": {
       "model_id": "f28a154faef74006b2cb6365e91d3853",
       "version_major": 2,
       "version_minor": 0
      },
      "text/plain": [
       "Button(description='Explore training images', style=ButtonStyle(), tooltip='Send')"
      ]
     },
     "metadata": {},
     "output_type": "display_data"
    },
    {
     "data": {
      "application/vnd.jupyter.widget-view+json": {
       "model_id": "023dd77ff4c94b18bd61c24d83e4ab25",
       "version_major": 2,
       "version_minor": 0
      },
      "text/plain": [
       "Output()"
      ]
     },
     "metadata": {},
     "output_type": "display_data"
    }
   ],
   "source": []
  },
  {
   "cell_type": "code",
   "execution_count": null,
   "id": "b413691f",
   "metadata": {},
   "outputs": [],
   "source": [
    "button_run_2 = widgets.Button(description = 'Explore training images', tooltip='Send',\n",
    "                style={'description_width': 'initial'}, layout = layout)"
   ]
  },
  {
   "cell_type": "code",
   "execution_count": null,
   "id": "adc2b5f9",
   "metadata": {},
   "outputs": [],
   "source": [
    "button_run_2.style.button_color = 'lightblue'"
   ]
  },
  {
   "cell_type": "code",
   "execution_count": null,
   "id": "5f9bedd3",
   "metadata": {},
   "outputs": [],
   "source": [
    "output = widgets.Output()"
   ]
  },
  {
   "cell_type": "code",
   "execution_count": null,
   "id": "4d991595",
   "metadata": {},
   "outputs": [],
   "source": [
    "def on_button_clicked_2(event):\n",
    "    from PIL import Image\n",
    "    with output:\n",
    "        prompt = construct_prompt()\n",
    "\n",
    "        img_filename = get_closest_training_images_by_clip(prompt.value, '../images-labelled')\n",
    "        img = Image.open(f'../images-labelled/{img_filename}')\n",
    "        display(img.resize((int(img.width*0.3), int(img.height*0.3))))\n",
    "\n",
    "        "
   ]
  },
  {
   "cell_type": "code",
   "execution_count": null,
   "id": "50b6e512",
   "metadata": {},
   "outputs": [],
   "source": [
    "button_run_2.on_click(on_button_clicked_2)"
   ]
  },
  {
   "cell_type": "code",
   "execution_count": null,
   "id": "9306a14b",
   "metadata": {},
   "outputs": [],
   "source": [
    "display(button_run_2, output)"
   ]
  },
  {
   "cell_type": "code",
   "execution_count": null,
   "id": "947d0316",
   "metadata": {},
   "outputs": [],
   "source": [
    "vbox_result_2 = widgets.VBox([button_run_2, output])"
   ]
  }
 ],
 "metadata": {
  "interpreter": {
   "hash": "31f2aee4e71d21fbe5cf8b01ff0e069b9275f58929596ceb00d14d90e3e16cd6"
  },
  "kernelspec": {
   "display_name": "Python 3.6.9 64-bit",
   "language": "python",
   "name": "python3"
  },
  "language_info": {
   "codemirror_mode": {
    "name": "ipython",
    "version": 3
   },
   "file_extension": ".py",
   "mimetype": "text/x-python",
   "name": "python",
   "nbconvert_exporter": "python",
   "pygments_lexer": "ipython3",
   "version": "3.6.9"
  }
 },
 "nbformat": 4,
 "nbformat_minor": 5
}
