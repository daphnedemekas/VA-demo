{
 "cells": [
  {
   "cell_type": "code",
   "execution_count": 8,
   "id": "a95bae7a",
   "metadata": {},
   "outputs": [],
   "source": [
    "#pip install widgetsnbextension"
   ]
  },
  {
   "cell_type": "code",
   "execution_count": 7,
   "id": "f35e8556",
   "metadata": {},
   "outputs": [],
   "source": [
    "#pip install ipywidgets"
   ]
  },
  {
   "cell_type": "code",
   "execution_count": 17,
   "id": "79cdfc39",
   "metadata": {},
   "outputs": [],
   "source": [
    "#pip install voila"
   ]
  },
  {
   "cell_type": "code",
   "execution_count": 5,
   "id": "c787610b",
   "metadata": {},
   "outputs": [],
   "source": [
    "#!jupyter nbextension enable --py widgetsnbextension --sys-prefix\n",
    "#!jupyter serverextension enable voila --sys-prefix"
   ]
  },
  {
   "cell_type": "code",
   "execution_count": 44,
   "id": "73c2a42d",
   "metadata": {},
   "outputs": [],
   "source": [
    "import ipywidgets as widgets\n",
    "from IPython.display import display, clear_output, Image\n",
    "import os"
   ]
  },
  {
   "cell_type": "code",
   "execution_count": 5,
   "id": "557f7bbb",
   "metadata": {},
   "outputs": [],
   "source": [
    "checkpoint = widgets.ToggleButtons(\n",
    "            options=['lookingglass_dalle_12000.pt','lookingglass_dalle_2000.pt','lookingglass_dalle_4000.pt',\n",
    "                     'lookingglass_dalle_6000.pt','lookingglass_dalle_8000.pt','lookingglass_dalle_10000.pt',\n",
    "                     'lookingglass_dalle_12000.pt','lookingglass_dalle_14000.pt','lookingglass_dalle_16000.pt',\n",
    "                    'lookingglass_dalle_18000.pt','lookingglass_dalle_20000.pt']\n",
    "        )"
   ]
  },
  {
   "cell_type": "code",
   "execution_count": 21,
   "id": "2ed825ae",
   "metadata": {},
   "outputs": [],
   "source": [
    "confidence = widgets.ToggleButtons(\n",
    "            options=['Ultra-Low', 'Low', 'Medium', 'High', 'Ultra-High'],description='confidence')\n",
    "variability = widgets.ToggleButtons(\n",
    "            options=['Ultra-Low', 'Low', 'Medium', 'High', 'Ultra-High'], description = 'variability')"
   ]
  },
  {
   "cell_type": "code",
   "execution_count": 22,
   "id": "0dc90fec",
   "metadata": {},
   "outputs": [],
   "source": [
    "prompt = widgets.Text(placeholder='Input your prompt')"
   ]
  },
  {
   "cell_type": "code",
   "execution_count": 23,
   "id": "5c577562",
   "metadata": {},
   "outputs": [
    {
     "data": {
      "application/vnd.jupyter.widget-view+json": {
       "model_id": "087a500b061a4643bc473649c2b062b5",
       "version_major": 2,
       "version_minor": 0
      },
      "text/plain": [
       "ToggleButtons(description='confidence', options=('Ultra-Low', 'Low', 'Medium', 'High', 'Ultra-High'), value='U…"
      ]
     },
     "metadata": {},
     "output_type": "display_data"
    }
   ],
   "source": [
    "display(confidence)"
   ]
  },
  {
   "cell_type": "code",
   "execution_count": 24,
   "id": "23aaa461",
   "metadata": {},
   "outputs": [
    {
     "data": {
      "application/vnd.jupyter.widget-view+json": {
       "model_id": "2853f56c4627431c8f6a1d381ae056f9",
       "version_major": 2,
       "version_minor": 0
      },
      "text/plain": [
       "ToggleButtons(description='variability', options=('Ultra-Low', 'Low', 'Medium', 'High', 'Ultra-High'), value='…"
      ]
     },
     "metadata": {},
     "output_type": "display_data"
    }
   ],
   "source": [
    "display(variability)"
   ]
  },
  {
   "cell_type": "code",
   "execution_count": 26,
   "id": "5e994ae4",
   "metadata": {},
   "outputs": [
    {
     "data": {
      "application/vnd.jupyter.widget-view+json": {
       "model_id": "41cad0252dd84df5865c17a0045e0eff",
       "version_major": 2,
       "version_minor": 0
      },
      "text/plain": [
       "Text(value='', placeholder='Input your prompt')"
      ]
     },
     "metadata": {},
     "output_type": "display_data"
    }
   ],
   "source": [
    "display(prompt)"
   ]
  },
  {
   "cell_type": "code",
   "execution_count": 8,
   "id": "126e54aa",
   "metadata": {},
   "outputs": [],
   "source": [
    "button_run = widgets.Button(description = 'Run model', tooltip='Send',\n",
    "                style={'description_width': 'initial'})"
   ]
  },
  {
   "cell_type": "code",
   "execution_count": 9,
   "id": "8fc10339",
   "metadata": {},
   "outputs": [],
   "source": [
    "output = widgets.Output()"
   ]
  },
  {
   "cell_type": "code",
   "execution_count": 10,
   "id": "2fa6fc71",
   "metadata": {
    "scrolled": true
   },
   "outputs": [
    {
     "name": "stdout",
     "output_type": "stream",
     "text": [
      "tokenizer --> ready\n",
      "◼️ Malevich is 1.3 billion params model from the family GPT3-like, that uses Russian language and text+image multi-modality.\n"
     ]
    }
   ],
   "source": [
    "from rudalle import get_rudalle_model, get_tokenizer, get_vae\n",
    "import torch\n",
    "from model.functions import generate\n",
    "\n",
    "device = torch.device(\"cuda:0\" if torch.cuda.is_available() else \"cpu\")\n",
    "\n",
    "model = get_rudalle_model(\"Malevich\", pretrained=True, fp16=True, device=device)"
   ]
  },
  {
   "cell_type": "code",
   "execution_count": 11,
   "id": "3e97c025",
   "metadata": {},
   "outputs": [
    {
     "name": "stdout",
     "output_type": "stream",
     "text": [
      "Working with z of shape (1, 256, 32, 32) = 262144 dimensions.\n",
      "vae --> ready\n"
     ]
    }
   ],
   "source": [
    "vae = get_vae().to(\"cpu\")"
   ]
  },
  {
   "cell_type": "code",
   "execution_count": 45,
   "id": "9a64e34e",
   "metadata": {},
   "outputs": [],
   "source": [
    "def on_button_clicked(event):\n",
    "    with output:\n",
    "        clear_output()\n",
    "        import os\n",
    "        model_path = os.path.join(f'checkpoints/{checkpoint.value}')\n",
    "        filepath = f'{prompt.value}-{checkpoint.value}-{confidence.value}-{variability.value}'\n",
    "        model.load_state_dict(torch.load(model_path))\n",
    "        generate(vae, model, prompt.value, confidence = confidence.value, variability = variability.value, rurealesrgan_multiplier=\"x4\", output_filepath=filepath, filter_by_top = 5, image_amount = 9)\n",
    "        print(f'Images saved in {filepath}')\n",
    "        \n",
    "        import os \n",
    "        for image in os.listdir(filepath):\n",
    "            Image(f'filepath/{image}')\n",
    "            "
   ]
  },
  {
   "cell_type": "code",
   "execution_count": 46,
   "id": "e6bfb185",
   "metadata": {},
   "outputs": [],
   "source": [
    "button_run.on_click(on_button_clicked)"
   ]
  },
  {
   "cell_type": "code",
   "execution_count": 47,
   "id": "52acba0b",
   "metadata": {},
   "outputs": [],
   "source": [
    "vbox_result = widgets.VBox([button_run, output])"
   ]
  },
  {
   "cell_type": "code",
   "execution_count": 48,
   "id": "9282d1bd",
   "metadata": {},
   "outputs": [
    {
     "data": {
      "application/vnd.jupyter.widget-view+json": {
       "model_id": "659a4e7fb34c45adbc865496c4f96ab2",
       "version_major": 2,
       "version_minor": 0
      },
      "text/plain": [
       "Button(description='Run model', style=ButtonStyle())"
      ]
     },
     "metadata": {},
     "output_type": "display_data"
    },
    {
     "data": {
      "application/vnd.jupyter.widget-view+json": {
       "model_id": "614668d50f734a9da1dcdaaaa8ad2a93",
       "version_major": 2,
       "version_minor": 0
      },
      "text/plain": [
       "Output(outputs=({'output_type': 'error', 'ename': 'UnboundLocalError', 'evalue': \"local variable 'os' referenc…"
      ]
     },
     "metadata": {},
     "output_type": "display_data"
    }
   ],
   "source": [
    "display(button_run, output)"
   ]
  },
  {
   "cell_type": "code",
   "execution_count": null,
   "id": "3b683f94",
   "metadata": {},
   "outputs": [],
   "source": []
  }
 ],
 "metadata": {
  "kernelspec": {
   "display_name": "Python 3 (ipykernel)",
   "language": "python",
   "name": "python3"
  },
  "language_info": {
   "codemirror_mode": {
    "name": "ipython",
    "version": 3
   },
   "file_extension": ".py",
   "mimetype": "text/x-python",
   "name": "python",
   "nbconvert_exporter": "python",
   "pygments_lexer": "ipython3",
   "version": "3.8.13"
  }
 },
 "nbformat": 4,
 "nbformat_minor": 5
}
