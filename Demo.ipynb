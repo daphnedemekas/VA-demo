{
 "cells": [
  {
   "cell_type": "code",
   "execution_count": 8,
   "id": "a95bae7a",
   "metadata": {},
   "outputs": [],
   "source": [
    "#pip install widgetsnbextension"
   ]
  },
  {
   "cell_type": "code",
   "execution_count": 7,
   "id": "f35e8556",
   "metadata": {},
   "outputs": [],
   "source": [
    "#pip install ipywidgets"
   ]
  },
  {
   "cell_type": "code",
   "execution_count": 17,
   "id": "79cdfc39",
   "metadata": {},
   "outputs": [],
   "source": [
    "#pip install voila"
   ]
  },
  {
   "cell_type": "code",
   "execution_count": 5,
   "id": "c787610b",
   "metadata": {},
   "outputs": [],
   "source": [
    "#!jupyter nbextension enable --py widgetsnbextension --sys-prefix\n",
    "#!jupyter serverextension enable voila --sys-prefix"
   ]
  },
  {
   "cell_type": "code",
   "execution_count": null,
   "id": "73c2a42d",
   "metadata": {},
   "outputs": [],
   "source": [
    "import ipywidgets as widgets\n",
    "from IPython.display import display, clear_output, Image\n",
    "import os"
   ]
  },
  {
   "cell_type": "code",
   "execution_count": null,
   "id": "557f7bbb",
   "metadata": {},
   "outputs": [],
   "source": [
    "checkpoint = widgets.ToggleButtons(\n",
    "            options=['lookingglass_dalle_12000.pt','lookingglass_dalle_2000.pt','lookingglass_dalle_4000.pt',\n",
    "                     'lookingglass_dalle_6000.pt','lookingglass_dalle_8000.pt','lookingglass_dalle_10000.pt',\n",
    "                     'lookingglass_dalle_12000.pt','lookingglass_dalle_14000.pt','lookingglass_dalle_16000.pt',\n",
    "                    'lookingglass_dalle_18000.pt','lookingglass_dalle_20000.pt']\n",
    "        )"
   ]
  },
  {
   "cell_type": "code",
   "execution_count": null,
   "id": "57b3a898",
   "metadata": {},
   "outputs": [],
   "source": [
    "checkpoint = widgets.ToggleButtons(\n",
    "            options=[\n",
    "                    'lookingglass_dalle_4000.pt']\n",
    "        )"
   ]
  },
  {
   "cell_type": "code",
   "execution_count": null,
   "id": "2ed825ae",
   "metadata": {},
   "outputs": [],
   "source": [
    "confidence = widgets.ToggleButtons(\n",
    "            options=['Ultra-Low', 'Low', 'Medium', 'High', 'Ultra-High'],description='confidence')\n",
    "variability = widgets.ToggleButtons(\n",
    "            options=['Ultra-Low', 'Low', 'Medium', 'High', 'Ultra-High'], description = 'variability')"
   ]
  },
  {
   "cell_type": "code",
   "execution_count": null,
   "id": "0dc90fec",
   "metadata": {},
   "outputs": [],
   "source": [
    "prompt = widgets.Text(placeholder='Input your prompt')"
   ]
  },
  {
   "cell_type": "code",
   "execution_count": null,
   "id": "4fd03163",
   "metadata": {},
   "outputs": [],
   "source": [
    "display(confidence)"
   ]
  },
  {
   "cell_type": "code",
   "execution_count": null,
   "id": "a34e2914",
   "metadata": {},
   "outputs": [],
   "source": [
    "display(variability)"
   ]
  },
  {
   "cell_type": "code",
   "execution_count": null,
   "id": "39833b2c",
   "metadata": {},
   "outputs": [],
   "source": [
    "display(prompt)"
   ]
  },
  {
   "cell_type": "code",
   "execution_count": null,
   "id": "126e54aa",
   "metadata": {},
   "outputs": [],
   "source": [
    "button_run = widgets.Button(description = 'Run model', tooltip='Send',\n",
    "                style={'description_width': 'initial'})"
   ]
  },
  {
   "cell_type": "code",
   "execution_count": null,
   "id": "8fc10339",
   "metadata": {},
   "outputs": [],
   "source": [
    "output = widgets.Output()"
   ]
  },
  {
   "cell_type": "code",
   "execution_count": null,
   "id": "2fa6fc71",
   "metadata": {
    "scrolled": true
   },
   "outputs": [],
   "source": [
    "from rudalle import get_rudalle_model, get_tokenizer, get_vae\n",
    "import torch\n",
    "from model.functions import generate\n",
    "\n",
    "device = torch.device(\"cuda:0\" if torch.cuda.is_available() else \"cpu\")\n",
    "\n"
   ]
  },
  {
   "cell_type": "code",
   "execution_count": 27,
   "id": "3e97c025",
   "metadata": {},
   "outputs": [
    {
     "name": "stdout",
     "output_type": "stream",
     "text": [
      "Working with z of shape (1, 256, 32, 32) = 262144 dimensions.\n",
      "vae --> ready\n"
     ]
    }
   ],
   "source": [
    "if device == \"cpu\":\n",
    "    vae = get_vae().to(\"cpu\")\n",
    "    model = get_rudalle_model(\"Malevich\", pretrained=True, fp16=False, device=device)\n",
    "else:\n",
    "    vae = get_vae().to(\"cuda:0\")\n",
    "    model = get_rudalle_model(\"Malevich\", pretrained=True, fp16=True, device=device)"
   ]
  },
  {
   "cell_type": "code",
   "execution_count": null,
   "id": "9a64e34e",
   "metadata": {},
   "outputs": [],
   "source": [
    "import os\n",
    "\n",
    "def on_button_clicked(event):\n",
    "    with output:\n",
    "        clear_output()\n",
    "        model_path = os.path.join(f'checkpoints/{checkpoint.value}')\n",
    "        filepath = f'{prompt.value}-{checkpoint.value}-{confidence.value}-{variability.value}'\n",
    "        model.load_state_dict(torch.load(model_path, map_location ='cpu'))\n",
    "        with torch.no_grad():\n",
    "\n",
    "            generate(vae, model, prompt.value, confidence = confidence.value, variability = variability.value, rurealesrgan_multiplier=\"x1\", output_filepath=filepath, num_filtered = 1, image_amount = 1)\n",
    "        print(f'Images saved in {filepath}')\n",
    "\n",
    "        for image in os.listdir(filepath):\n",
    "            Image(f'filepath/{image}')\n"
   ]
  },
  {
   "cell_type": "code",
   "execution_count": 31,
   "id": "e6bfb185",
   "metadata": {},
   "outputs": [],
   "source": [
    "button_run.on_click(on_button_clicked)"
   ]
  },
  {
   "cell_type": "code",
   "execution_count": 32,
   "id": "52acba0b",
   "metadata": {},
   "outputs": [],
   "source": [
    "vbox_result = widgets.VBox([button_run, output])"
   ]
  },
  {
   "cell_type": "code",
   "execution_count": 33,
   "id": "402bc7df",
   "metadata": {},
   "outputs": [
    {
     "data": {
      "application/vnd.jupyter.widget-view+json": {
       "model_id": "a73c0ff48891485d8bf377d0bce3ebf8",
       "version_major": 2,
       "version_minor": 0
      },
      "text/plain": [
       "Button(description='Run model', style=ButtonStyle(), tooltip='Send')"
      ]
     },
     "metadata": {},
     "output_type": "display_data"
    },
    {
     "data": {
      "application/vnd.jupyter.widget-view+json": {
       "model_id": "f029ec356e434108992b7207c1f363a8",
       "version_major": 2,
       "version_minor": 0
      },
      "text/plain": [
       "Output(outputs=({'output_type': 'display_data', 'data': {'text/plain': '  0%|          | 0/1024 [00:00<?, ?it/…"
      ]
     },
     "metadata": {},
     "output_type": "display_data"
    }
   ],
   "source": [
    "display(button_run, output)"
   ]
  },
  {
   "cell_type": "code",
   "execution_count": null,
   "id": "8e26c73f",
   "metadata": {},
   "outputs": [],
   "source": []
  }
 ],
 "metadata": {
  "kernelspec": {
   "display_name": "Python 3 (ipykernel)",
   "language": "python",
   "name": "python3"
  },
  "language_info": {
   "codemirror_mode": {
    "name": "ipython",
    "version": 3
   },
   "file_extension": ".py",
   "mimetype": "text/x-python",
   "name": "python",
   "nbconvert_exporter": "python",
   "pygments_lexer": "ipython3",
   "version": "3.8.13"
  }
 },
 "nbformat": 4,
 "nbformat_minor": 5
}
