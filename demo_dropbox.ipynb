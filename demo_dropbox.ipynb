{
 "cells": [
  {
   "cell_type": "code",
   "execution_count": 1,
   "id": "a95bae7a",
   "metadata": {},
   "outputs": [],
   "source": [
    "%%capture\n",
    "!pip install widgetsnbextension\n",
    "!pip install ipywidgets\n",
    "!pip install voila\n",
    "!jupyter nbextension enable --py widgetsnbextension --sys-prefix\n",
    "!jupyter serverextension enable voila --sys-prefix"
   ]
  },
  {
   "cell_type": "code",
   "execution_count": 2,
   "id": "b15c1be6",
   "metadata": {},
   "outputs": [],
   "source": [
    "import pathlib\n",
    "import dropbox\n",
    "from dropbox.exceptions import AuthError\n",
    "import zipfile"
   ]
  },
  {
   "cell_type": "code",
   "execution_count": 3,
   "id": "407bec67",
   "metadata": {},
   "outputs": [],
   "source": [
    "access_token=\"sl.BPDzrUREug8W5dmPwy9mr6ALH4pqhZOkZrtAeBY3OaP_YdaUBZ_hzdw4dOTbPfHRY8hJZa6eBeaGypoFw2Fk5sjh3oF--ztXyrOR4-oyXzAV1P8Dfe85o7a4ZJe5DLJicOMkUzPLe4o5\""
   ]
  },
  {
   "cell_type": "code",
   "execution_count": 4,
   "id": "3e6a2db6",
   "metadata": {},
   "outputs": [],
   "source": [
    "def dropbox_connect():\n",
    "    \"\"\"Create a connection to Dropbox.\"\"\"\n",
    "\n",
    "    try:\n",
    "        dbx = dropbox.Dropbox(access_token)\n",
    "    except AuthError as e:\n",
    "        print('Error connecting to Dropbox with access token: ' + str(e))\n",
    "    return dbx"
   ]
  },
  {
   "cell_type": "code",
   "execution_count": 5,
   "id": "65e9f52f",
   "metadata": {},
   "outputs": [],
   "source": [
    "dbx = dropbox_connect()"
   ]
  },
  {
   "cell_type": "code",
   "execution_count": 6,
   "id": "f1802c8e",
   "metadata": {},
   "outputs": [],
   "source": [
    "def dropbox_download_file(dbx, dropbox_file_path, local_file_path):\n",
    "    \"\"\"Download a file from Dropbox to the local machine.\"\"\"\n",
    "    with open(local_file_path, 'wb') as f:\n",
    "        metadata, result = dbx.files_download(path=dropbox_file_path)\n",
    "        f.write(result.content)\n"
   ]
  },
  {
   "cell_type": "code",
   "execution_count": 7,
   "id": "bf245f78",
   "metadata": {},
   "outputs": [],
   "source": [
    "from IPython.display import display, clear_output, Image\n",
    "import ipywidgets as widgets\n",
    "import os\n",
    "from ipywidgets import Layout"
   ]
  },
  {
   "cell_type": "code",
   "execution_count": 8,
   "id": "8e2b9756",
   "metadata": {},
   "outputs": [],
   "source": [
    "import warnings \n",
    "warnings.filterwarnings('ignore')"
   ]
  },
  {
   "cell_type": "code",
   "execution_count": 9,
   "id": "0cc6b9f5",
   "metadata": {},
   "outputs": [],
   "source": [
    "#note to go through data and see which of the categories are most represented"
   ]
  },
  {
   "cell_type": "code",
   "execution_count": 10,
   "id": "4e681d11",
   "metadata": {},
   "outputs": [],
   "source": [
    "\n",
    "\n",
    "ceramic_artist_desc = {'Delft': {'description': ', also known as Delft Blue is a general term now used for Dutch tin-glazed earthenware, a form of faience. Most of it is blue and white pottery, and the city of Delft in the Netherlands was the major centre of production. Delftware includes pottery objects of all descriptions such plates, vases, figurines and other ornamental forms and tiles. The start of the style was around 1600, and the most highly regarded period of production is about 1640–1740, but Delftware continues to be produced. In the 17th and 18th centuries Delftware was a major industry, exporting all over Europe.',\n",
    "                                'source': 'Wikipedia', 'url':'https://en.wikipedia.org/wiki/Delft'},\n",
    "                        'Lucie Rie': {'description': ' was an Austrian-born British ceramics artist. Rie’s works, usually consisting of hand-thrown pots, bottles, and bowl forms, are noteworthy for their Modernist forms and her use of bright colors.',\n",
    "                                    'source': 'ArtNet', 'url':'http://www.artnet.com/artists/lucie-rie/'},\n",
    "                        'Johann Kandler': {'description': ' was a German sculptor who became the most important modeller of the Meissen porcelain manufactury, and arguably of all European porcelain. Meissen pieces of all sorts were normally made with moulds, whose designs Kändler mostly created, supervising the production of the moulds, and checking the quality of the many examples cast. He was often not involved with their painting, which can vary between examples.',\n",
    "                                            'source':'Wikipedia', 'url':'https://en.wikipedia.org/wiki/Johann_Joachim_K%C3%A4ndler'},\n",
    "                        'Martin Hunt': {'description': ', who has died aged 75, was one of Britain’s most distinguished designers. Although Hunt designed for glass and lighting, he will be remembered for the pure form of his ceramic work, characterised by an absence of surface decoration.',\n",
    "                                        'source': 'The Guardian', 'url':'https://www.theguardian.com/artanddesign/2018/jun/25/martin-hunt-obituary'},\n",
    "                        'Iznik': {'description':' pottery, or Iznik ware, named after the town of İznik in western Anatolia where it was made, is a decorated ceramic that was produced from the last quarter of the 15th century until the end of the 17th century. İznik was an established centre for the production of simple earthenware pottery with an underglaze decoration when, in the last quarter of the 15th century, craftsmen in the town began to manufacture high quality pottery with a fritware body painted with cobalt blue under a colourless transparent lead glaze. The designs combined traditional Ottoman arabesque patterns with Chinese elements. The change was almost certainly a result of active intervention and patronage by the recently established Ottoman court in Istanbul who greatly valued Chinese blue-and-white porcelain.',\n",
    "                                'source': 'Wikipedia', 'url': 'https://en.wikipedia.org/wiki/Iznik_pottery'},\n",
    "                        'Wedgwood': {'description': 'Wedgwood is an English fine china, porcelain and luxury accessories manufacturer that was founded on 1 May 1759[1] by the potter and entrepreneur Josiah Wedgwood and was first incorporated in 1895 as Josiah Wedgwood and Sons Ltd. Wedgwood is especially associated with the \"dry-bodied\" (unglazed) stoneware Jasperware in contrasting colours, and in particular that in \"Wedgwood blue\" and white, always much the most popular colours, though there are several others.',\n",
    "                                    'source': 'Wikipedia', 'url': 'https://en.wikipedia.org/wiki/Wedgwood'},\n",
    "                        'Keith Murray': {'description': ' (5 July 1892 – 16 May 1981) was a New-Zealand-born British architect and industrial designer, known for ceramic, silver and glass designs. He is considered to be one of the most influential designers of the Art Deco / Modern age.', \n",
    "                                        'source': 'Wikipedia', 'url': 'https://en.wikipedia.org/wiki/Keith_Murray_(ceramic_artist)'},\n",
    "                        'Susie Cooper': {'description': ' was a household name in the Potteries during the 1920s through to the 1980s. She is known for bright art deco pieces and fine bone china tea sets, mixed with distinctively shaped tea and coffee pots, all decorated with beautifully crafted designs – lithograph pictures, floral patterns or clean lines.',\n",
    "                                        'source': 'Potteries Auction', 'url':'https://www.potteriesauctions.com/news/susie-cooper-pottery-markings-guide'}\n",
    "                        }\n",
    "\n",
    "\n",
    "fashion_artist_desc = {'Barbara Brown': {'description': ' was a British designer, best known for her Op Art designs in the 60s and early 70s, although her career continued beyond that point. She began supplying Heals in 1958, and became their most high profile designer. Heals was one of the leading suppliers of quality fabrics (and still is). Decor is one of Brown’s most famous designs. Her work is characterised by bold designs, large geometric shapes – a sign of the exuberance, confidence and optimism of the decade, and the ascendency of youth',\n",
    "                                'source': 'Jules Tern', 'url':'https://juliennedickey.wordpress.com/archive-2015/pattern-universe-research/4-barbara-brown-textile-designer/'},\n",
    "                        'William Morris': {'description': '(24 March 1834 – 3 October 1896) was a British textile designer, poet, artist, novelist, architectural conservationist, printer, translator and socialist activist associated with the British Arts and Crafts Movement. Morris studied many examples of early woven textiles in the collections of the South Kensington Museum (later to become the V&A). Many of his designs were inspired by 16th- and 17th-century Italian silks, and Peacock and Dragon, an imposing yet popular design from 1878, used striking, medieval-style figuration.',\n",
    "                                    'source': 'Victoria and Albert', 'url':'https://www.vam.ac.uk/articles/willam-morris-textiles'},\n",
    "                        'Balenciaga': {'description': ' is a luxury fashion house founded in 1919 by the Spanish designer Cristóbal Balenciaga in San Sebastian, Spain and later acquired by French luxury group Kering. Balenciaga had a reputation as a couturier of uncompromising standards and was called \"the master of us all\" by Christian Dior. His bubble skirts and odd, feminine, yet \"modernistic\" silhouettes became the trademarks of the house. Balenciaga closed in 1972 and was reopened under new ownership in 1986. Owned by Kering, Balenciaga headquarters are in Paris. ',\n",
    "                                            'source':'Wikipedia', 'url':'https://en.wikipedia.org/wiki/Balenciaga'},\n",
    "                        'Versace': {'description': ' is an Italian luxury fashion company and trade name founded by Gianni Versace in 1978. The company produces upmarket Italian-made ready-to-wear and accessories, as well as haute couture pieces under the Atelier Versace brand.',\n",
    "                                        'source': 'Wikipedia', 'url':'https://en.wikipedia.org/wiki/Versace'},\n",
    "                        'Vivienne Westwood': {'description':' is an English fashion designer and businesswoman, largely responsible for bringing modern punk and new wave fashions into the mainstream.[1]Westwood came to public notice when she made clothes for Malcolm McLaren and her boutique in the Kings Road, which became known as SEX. Their ability to synthesise clothing and music shaped the 1970s UK punk scene which was dominated by McLarens band, the Sex Pistols. She viewed punk as a way of \"seeing if one could put a spoke in the system\".',\n",
    "                                'source': 'Wikipedia', 'url': 'https://en.wikipedia.org/wiki/Vivienne_Westwood'},\n",
    "                        'Yves Saint Laurent': {'description': 'Yves Saint Lauren is a French luxury fashion house founded by Yves Saint Laurent and his partner, Pierre Bergé. Founded in 1962, today Saint Laurent markets a range of womens and mens ready-to-wear products, leather goods, shoes and jewellery. Yves Saint Laurent Beauté also has a presence in the beauty and fragrance market, although this is owned by LOréal, which holds exclusive licenses for the name. ',\n",
    "                                    'source': 'Wikipedia', 'url': 'https://en.wikipedia.org/wiki/Yves_Saint_Laurent_(brand)'},\n",
    "\n",
    "                        'Yoruba Women': {'description': ': Adire is the name given to indigo dyed cloth produced by Yoruba women of south western Nigeria using a variety of resist dye techniques. Adire translates as tie and dye, and the earliest cloths were probably simple tied designs on locally-woven hand-spun cotton cloth much like those still produced in Mali. In the early decades of the twentieth century however, the new access to large quantities of imported shirting material made possible by the spread of European textile merchants in certain Yoruba towns, notably Abeokuta, enabled women dyers to become both artists and entrepreneurs in a booming new medium.', \n",
    "                                        'source': 'Adire African Textiles', 'url': 'https://www.adireafricantextiles.com/textiles-resources-sub-saharan-africa/some-major-west-african-textile-traditions/adire-cloth-of-the-yorubas/'},\n",
    "                        }\n",
    "\n",
    "\n",
    "\n",
    "furniture_artist_desc = {'Paul Storr': {'description': ' was an English goldsmith and silversmith working in the Neoclassical and other styles during the late eighteenth and early nineteenth centuries. His works range from simple tableware to magnificent sculptural pieces made for royalty.',\n",
    "                                'source': 'Wikipedia', 'url':'https://en.wikipedia.org/wiki/Paul_Storr'},\n",
    "                        'Ashbee Robert': {'description': ' (17 May 1863 – 23 May 1942) was an English architect and designer who was a prime mover of the Arts and Crafts movement, which took its craft ethic from the works of John Ruskin and its co-operative structure from the socialism of William Morris. Ashbee was defined by one source as \"designer, architect, entrepreneur, and social reformer\". His disciplines included metalwork, textile design, furniture, jewellery and other objects in the Modern Style (British Art Nouveau style) and Arts and Crafts genres.',\n",
    "                                    'source': 'Wikipedia', 'url':'https://en.wikipedia.org/wiki/Charles_Robert_Ashbee'},\n",
    "                        'Garrard Robert': {'description': ' was part of an important and long-established firm of silversmiths (R. and S. Garrard and Co.), specialising in elaborate domestic silver and fine jewellery, during the last century Garrard produced some of the finest presentation plate. R. and S. Garrard and Co. produced a wide variety of useful and highly decorative silverware, frequently displayed at the national and international exhibitions; these provide an idea of Garrards range of items as well as stylistic design.',\n",
    "                                            'source':'Richard Redding Antiques', 'url':'https://www.richardreddingantiques.com/artists/289-robert-garrard/biography/'},\n",
    "                        'Hester Bateman': {'description': ' (bap. 1708 – 16 September 1794[1]) was an English silversmith, renowned for her high quality flatware and ornamental silverware. A craftswoman working within the family business, she was succeeded in turn by her sons, daughter-in-law, grandson and great-grandson. The Bateman family silversmithing company lasted until the middle of the nineteenth century.',\n",
    "                                        'source': 'Wikipedia', 'url':'https://en.wikipedia.org/wiki/Hester_Bateman'},\n",
    "\n",
    "\n",
    "                        'Joseph Wilmore': {'description':', Birmingham Silvermaker. Registered his mark at the Birmingham Assay Office as a snuff-box maker in 1806. In 1816 after his grandfather Thomas Willmor (a well known silversmith himself) died Joseph incorporated his grandfathers business into his own giving him more scope to expand the variety of silver wares he could make and sell. Joseph had a showroom in Bouverie street London. He continued to register marks untill 1843 and died in 1855.',\n",
    "                                'source': 'Antiques Atlas', 'url': 'https://www.antiques-atlas.com/antiques/maker/joseph_willmore'},\n",
    "}\n"
   ]
  },
  {
   "cell_type": "code",
   "execution_count": 11,
   "id": "0dbb34f1",
   "metadata": {},
   "outputs": [],
   "source": [
    "time_period = ['16th century', '18th century', '20th century']\n"
   ]
  },
  {
   "cell_type": "code",
   "execution_count": 12,
   "id": "408bf856",
   "metadata": {},
   "outputs": [],
   "source": [
    "ceramic_subjects = ['None','Teapot', 'Figure', 'Tile']\n",
    "\n",
    "ceramic_materials = ['None','Earthenware','Glass', 'Marble']\n",
    "\n",
    "ceramic_styles = ['None','Ottoman', 'Modernist',  'Arts & Crafts']\n",
    "\n",
    "ceramic_artists = ['None','Lucie Rie', 'Johann Kandler', 'Iznik']"
   ]
  },
  {
   "cell_type": "code",
   "execution_count": 13,
   "id": "b2ba7aec",
   "metadata": {},
   "outputs": [],
   "source": [
    "\n",
    "fashion_subjects = ['None','Costume','Dress', 'Shoes']\n",
    "\n",
    "fashion_styles = ['None','High Fashion', 'East Asian', 'Theatrical']\n",
    "\n",
    "fashion_materials = ['None','Cotton', 'Silk',  'Leather']\n",
    "\n",
    "fashion_artists = [ 'None','Versace', 'Vivienne Westwood', 'Yoruba Women' ]"
   ]
  },
  {
   "cell_type": "code",
   "execution_count": 14,
   "id": "4f303236",
   "metadata": {},
   "outputs": [],
   "source": [
    "\n",
    "furniture_subjects = ['None', 'Chair', 'Candlestick', 'Clock']\n",
    "\n",
    "furniture_styles = ['None','Rococo', 'Baroque', 'Art Deco']\n",
    "\n",
    "furniture_materials = ['None','Wood', 'Metal', 'Silver']\n",
    "\n",
    "furniture_artists = ['None','Ashbee Robert','Hester Bateman', 'Joseph Wilmore']"
   ]
  },
  {
   "cell_type": "code",
   "execution_count": 15,
   "id": "aa5202e2",
   "metadata": {},
   "outputs": [],
   "source": [
    "ceramic_material = widgets.Dropdown(options = ceramic_materials, layout=Layout(width='12%', height='80px'))\n",
    "fashion_material = widgets.Dropdown(options = fashion_materials, layout=Layout(width='12%', height='80px'))\n",
    "furniture_material = widgets.Dropdown(options = furniture_materials, layout=Layout(width='12%', height='80px'))"
   ]
  },
  {
   "cell_type": "code",
   "execution_count": 16,
   "id": "14bf09ab",
   "metadata": {},
   "outputs": [],
   "source": [
    "layout_big = widgets.Layout(width='400px', height='50px')\n",
    "\n",
    "layout_small = widgets.Layout(width='200px', height='25px')\n",
    "\n",
    "select_layout = Layout(width='12%', height='80px')"
   ]
  },
  {
   "cell_type": "code",
   "execution_count": 17,
   "id": "116bc531",
   "metadata": {},
   "outputs": [],
   "source": [
    "century = widgets.Dropdown(options = time_period, layout = Layout(width='15%', height='30px'))"
   ]
  },
  {
   "cell_type": "code",
   "execution_count": 18,
   "id": "05643226",
   "metadata": {},
   "outputs": [
    {
     "data": {
      "application/vnd.jupyter.widget-view+json": {
       "model_id": "1746ef45381547b89bf95c1060520b81",
       "version_major": 2,
       "version_minor": 0
      },
      "text/plain": [
       "HTML(value=\"<b><font size=5><font color='darkblue'>Design Generator </b>\", layout=Layout(height='30px', width=…"
      ]
     },
     "metadata": {},
     "output_type": "display_data"
    }
   ],
   "source": [
    "title = widgets.HTML(value = \"<b><font size=5><font color='darkblue'>Design Generator </b>\", layout=Layout(width='80%', height='30px'))\n",
    "display(title)"
   ]
  },
  {
   "cell_type": "code",
   "execution_count": 19,
   "id": "316e78fa",
   "metadata": {},
   "outputs": [
    {
     "data": {
      "application/vnd.jupyter.widget-view+json": {
       "model_id": "8d58fad9c81b485a8b7393074ce05d33",
       "version_major": 2,
       "version_minor": 0
      },
      "text/plain": [
       "HTML(value=\"<font size=2><font color='black'>Welcome to the Design Generator. Below you can generate a custom …"
      ]
     },
     "metadata": {},
     "output_type": "display_data"
    },
    {
     "data": {
      "application/vnd.jupyter.widget-view+json": {
       "model_id": "f73f19df974f4722a660b678b814ae35",
       "version_major": 2,
       "version_minor": 0
      },
      "text/plain": [
       "HTML(value=\"<b><font size=2><font color='black'>Please select just one from each row. Set the other two option…"
      ]
     },
     "metadata": {},
     "output_type": "display_data"
    },
    {
     "data": {
      "application/vnd.jupyter.widget-view+json": {
       "model_id": "5bf72a8c91ba4423922ccf4013993bed",
       "version_major": 2,
       "version_minor": 0
      },
      "text/plain": [
       "HTML(value=\"<font size=2><font color='black'>If you want more information about the generator, check out this …"
      ]
     },
     "metadata": {},
     "output_type": "display_data"
    }
   ],
   "source": [
    "text1 = widgets.HTML(value = \"<font size=2><font color='black'>Welcome to the Design Generator. Below you can generate a custom AI art piece inspired by items in the Victoria & Albert collection. We'll ask you to select from objects, styles, materials and makers across three different collections.\", layout=Layout(width='80%', height='60px'))\n",
    "text123 = widgets.HTML(value = \"<b><font size=2><font color='black'>Please select just one from each row. Set the other two options in a row to None. </b> \", layout=Layout(width='80%', height='40px'))\n",
    "\n",
    "text12 = widgets.HTML(value = \"<font size=2><font color='black'>If you want more information about the generator, check out this link: (link to the github page)\", layout=Layout(width='80%', height='30px'))\n",
    "display(text1)\n",
    "display(text123)\n",
    "display(text12)\n"
   ]
  },
  {
   "cell_type": "code",
   "execution_count": 20,
   "id": "d7123191",
   "metadata": {},
   "outputs": [
    {
     "data": {
      "application/vnd.jupyter.widget-view+json": {
       "model_id": "929ea22a1c3d4e26a9e9cd7c292108ef",
       "version_major": 2,
       "version_minor": 0
      },
      "text/plain": [
       "HTML(value=\"<font size=2><font color='black'>First, select a collection and a century.\", layout=Layout(height=…"
      ]
     },
     "metadata": {},
     "output_type": "display_data"
    }
   ],
   "source": [
    "text3 = widgets.HTML(value = \"<font size=2><font color='black'>First, select a collection and a century.\", layout=Layout(width='100%', height='20px'))\n",
    "display(text3)"
   ]
  },
  {
   "cell_type": "code",
   "execution_count": 21,
   "id": "5dea153a",
   "metadata": {},
   "outputs": [],
   "source": [
    "collection = widgets.Dropdown(options = ['Ceramics', 'Fashion', 'Furniture & Metalwork'], layout = Layout(width='15%', height='30px'))\n",
    "collection_and_century = widgets.HTML(value = \"<b>Collection & Century: </b>\", layout=Layout(width='11%', height='20px'))"
   ]
  },
  {
   "cell_type": "code",
   "execution_count": 22,
   "id": "49dc72f5",
   "metadata": {},
   "outputs": [
    {
     "data": {
      "application/vnd.jupyter.widget-view+json": {
       "model_id": "49d91e2e340b4908ab34f42343af8528",
       "version_major": 2,
       "version_minor": 0
      },
      "text/plain": [
       "HBox(children=(HTML(value='<b>Collection & Century: </b>', layout=Layout(height='20px', width='11%')), Dropdow…"
      ]
     },
     "metadata": {},
     "output_type": "display_data"
    }
   ],
   "source": [
    "display(widgets.HBox((collection_and_century, collection, century)))"
   ]
  },
  {
   "cell_type": "code",
   "execution_count": 23,
   "id": "22cdc7cf",
   "metadata": {},
   "outputs": [],
   "source": [
    "space = widgets.HTML(value = \"\", layout=Layout(width='3%', height='40px'))\n",
    "space1 = widgets.HTML(value = \"\", layout=Layout(width='9%', height='20px'))\n",
    "header1 = widgets.HTML(value = \"<font size=3><font color='black'>Ceramics\", layout=Layout(width='15%', height='20px'))\n",
    "header2 = widgets.HTML(value = \"<font size=3><font color='black'>Fashion\", layout=Layout(width='15%', height='20px'))\n",
    "header3 = widgets.HTML(value = \"<font size=3><font color='black'>Furniture\", layout=Layout(width='15%', height='20px'))\n",
    "\n",
    "object_text = widgets.HTML(value = \"<b><font size=2><font color='black'>Object</b>\", layout=Layout(width='5%', height='80px'))\n"
   ]
  },
  {
   "cell_type": "code",
   "execution_count": null,
   "id": "40a8525c",
   "metadata": {},
   "outputs": [],
   "source": []
  },
  {
   "cell_type": "code",
   "execution_count": 24,
   "id": "1858a9e2",
   "metadata": {},
   "outputs": [],
   "source": [
    "ceramic_subject = widgets.Dropdown(options = ceramic_subjects,value = 'None', layout=Layout(width='12%', height='80px'))\n",
    "fashion_subject = widgets.Dropdown(options = fashion_subjects,value = 'None', layout=Layout(width='12%', height='80px'))\n",
    "furniture_subject = widgets.Dropdown(options = furniture_subjects,value = 'None', layout=Layout(width='12%', height='80px'))"
   ]
  },
  {
   "cell_type": "code",
   "execution_count": 25,
   "id": "1e56eb94",
   "metadata": {},
   "outputs": [
    {
     "data": {
      "application/vnd.jupyter.widget-view+json": {
       "model_id": "2efff46396ff4c3bac508948778bee82",
       "version_major": 2,
       "version_minor": 0
      },
      "text/plain": [
       "HTML(value=\"<font size=2><font color='black'>Here, you can select across styles, materials, objects and makers…"
      ]
     },
     "metadata": {},
     "output_type": "display_data"
    }
   ],
   "source": [
    "text4 = widgets.HTML(value = \"<font size=2><font color='black'>Here, you can select across styles, materials, objects and makers. Remember to select just one from each row. Get creative!\", layout=Layout(width='100%', height='40px'))\n",
    "display(text4)"
   ]
  },
  {
   "cell_type": "code",
   "execution_count": 26,
   "id": "704a5152",
   "metadata": {},
   "outputs": [
    {
     "data": {
      "application/vnd.jupyter.widget-view+json": {
       "model_id": "a480feed14bf400dacc97e5646ce6a34",
       "version_major": 2,
       "version_minor": 0
      },
      "text/plain": [
       "HBox(children=(HTML(value='', layout=Layout(height='20px', width='9%')), HTML(value=\"<font size=3><font color=…"
      ]
     },
     "metadata": {},
     "output_type": "display_data"
    }
   ],
   "source": [
    "display(widgets.HBox((space1, header1, header2, header3)))"
   ]
  },
  {
   "cell_type": "code",
   "execution_count": 27,
   "id": "f56cc9f2",
   "metadata": {},
   "outputs": [
    {
     "data": {
      "application/vnd.jupyter.widget-view+json": {
       "model_id": "d3e9f9b227d440e5ae94ddea75ac0473",
       "version_major": 2,
       "version_minor": 0
      },
      "text/plain": [
       "HBox(children=(HTML(value=\"<b><font size=2><font color='black'>Object</b>\", layout=Layout(height='80px', width…"
      ]
     },
     "metadata": {},
     "output_type": "display_data"
    }
   ],
   "source": [
    "display(widgets.HBox((object_text, ceramic_subject, space, fashion_subject, space, furniture_subject)))\n"
   ]
  },
  {
   "cell_type": "code",
   "execution_count": 28,
   "id": "c1fb0c45",
   "metadata": {},
   "outputs": [],
   "source": [
    "style_text = widgets.HTML(value = \"<b><font size=2><font color='black'>Style</b>\", layout=Layout(width='5%', height='80px'))\n",
    "material_text = widgets.HTML(value = \"<b><font size=2><font color='black'>Material</b>\", layout=Layout(width='5%', height='80px'))\n"
   ]
  },
  {
   "cell_type": "code",
   "execution_count": 29,
   "id": "5a384749",
   "metadata": {},
   "outputs": [],
   "source": [
    "ceramic_style = widgets.Dropdown(options = ceramic_styles,layout = select_layout)\n",
    "fashion_style = widgets.Dropdown(options = fashion_styles,layout = select_layout)\n",
    "furniture_style = widgets.Dropdown(options = furniture_styles,layout = select_layout)"
   ]
  },
  {
   "cell_type": "code",
   "execution_count": 30,
   "id": "69270d32",
   "metadata": {},
   "outputs": [
    {
     "data": {
      "application/vnd.jupyter.widget-view+json": {
       "model_id": "16ebfdbca94f4545bf93f571f5554216",
       "version_major": 2,
       "version_minor": 0
      },
      "text/plain": [
       "HBox(children=(HTML(value=\"<b><font size=2><font color='black'>Style</b>\", layout=Layout(height='80px', width=…"
      ]
     },
     "metadata": {},
     "output_type": "display_data"
    }
   ],
   "source": [
    "display(widgets.HBox((style_text, ceramic_style, space, fashion_style, space, furniture_style)))\n"
   ]
  },
  {
   "cell_type": "code",
   "execution_count": 31,
   "id": "23880079",
   "metadata": {},
   "outputs": [
    {
     "data": {
      "application/vnd.jupyter.widget-view+json": {
       "model_id": "db2e6ba747b0478aac80f9155332176b",
       "version_major": 2,
       "version_minor": 0
      },
      "text/plain": [
       "HBox(children=(HTML(value=\"<b><font size=2><font color='black'>Material</b>\", layout=Layout(height='80px', wid…"
      ]
     },
     "metadata": {},
     "output_type": "display_data"
    }
   ],
   "source": [
    "display(widgets.HBox((material_text, ceramic_material, space, fashion_material, space, furniture_material)))\n"
   ]
  },
  {
   "cell_type": "code",
   "execution_count": 32,
   "id": "404cccae",
   "metadata": {},
   "outputs": [],
   "source": [
    "artist_text = widgets.HTML(value = \"<b><font size=2><font color='black'>Maker</b>\", layout=Layout(width='5%', height='80px'))\n"
   ]
  },
  {
   "cell_type": "code",
   "execution_count": 33,
   "id": "6bb4dac2",
   "metadata": {},
   "outputs": [],
   "source": [
    "ceramic_artist = widgets.Dropdown(options = ceramic_artists, layout = select_layout)\n",
    "fashion_artist = widgets.Dropdown(options = fashion_artists, layout = select_layout)\n",
    "furniture_artist = widgets.Dropdown(options = furniture_artists, layout = select_layout)"
   ]
  },
  {
   "cell_type": "code",
   "execution_count": 34,
   "id": "230e0841",
   "metadata": {},
   "outputs": [
    {
     "data": {
      "application/vnd.jupyter.widget-view+json": {
       "model_id": "17fd53e7f2674b50bfc4064e01efa796",
       "version_major": 2,
       "version_minor": 0
      },
      "text/plain": [
       "HBox(children=(HTML(value=\"<b><font size=2><font color='black'>Maker</b>\", layout=Layout(height='80px', width=…"
      ]
     },
     "metadata": {},
     "output_type": "display_data"
    }
   ],
   "source": [
    "display(widgets.HBox((artist_text, ceramic_artist, space, fashion_artist,space, furniture_artist)))\n"
   ]
  },
  {
   "cell_type": "code",
   "execution_count": 35,
   "id": "7f189187",
   "metadata": {},
   "outputs": [],
   "source": [
    "def artist_description():\n",
    "    if ceramic_artist.value != 'None':\n",
    "        artist = ceramic_artist.value\n",
    "        description = ceramic_artist_desc[artist]['description']\n",
    "        ceramic_artist_widget = widgets.HTML(value = f\"<b><font size=3.5><font color='black'>{artist}</b>\" + f\"<font size=3><font color='black'>{description}\" + '<hr>', placeholder = artist)\n",
    "        display(ceramic_artist_widget)\n",
    "    if fashion_artist.value != 'None':\n",
    "        artist = fashion_artist.value\n",
    "        description = fashion_artist_desc[artist]['description']\n",
    "        fashion_artist_widget = widgets.HTML(value = f\"<b><font size=3.5><font color='black'>{artist}</b>\" + f\"<font size=3><font color='black'>{description}\" + '<hr>', placeholder = artist)\n",
    "        display(fashion_artist_widget)\n",
    "\n",
    "    if furniture_artist.value != 'None':\n",
    "        artist = furniture_artist.value\n",
    "        description = furniture_artist_desc[artist]['description']\n",
    "        furniture_artist_widget = widgets.HTML(value = f\"<b><font size=3.5><font color='black'>{artist}</b>\" + f\"<font size=3><font color='black'>{description}\" + '<hr>', placeholder = artist)\n",
    "        display(furniture_artist_widget)   "
   ]
  },
  {
   "cell_type": "code",
   "execution_count": 36,
   "id": "6cbd6ac7",
   "metadata": {},
   "outputs": [
    {
     "data": {
      "application/vnd.jupyter.widget-view+json": {
       "model_id": "21b5a8818a494188b4f3bb73b3118b32",
       "version_major": 2,
       "version_minor": 0
      },
      "text/plain": [
       "Button(description='Artist / Maker Description', layout=Layout(height='25px', width='200px'), style=ButtonStyl…"
      ]
     },
     "metadata": {},
     "output_type": "display_data"
    },
    {
     "data": {
      "application/vnd.jupyter.widget-view+json": {
       "model_id": "090b8b9bb20e44df971c6c7eb207390f",
       "version_major": 2,
       "version_minor": 0
      },
      "text/plain": [
       "Output()"
      ]
     },
     "metadata": {},
     "output_type": "display_data"
    }
   ],
   "source": [
    "#Artist Descriptions \n",
    "output1 = widgets.Output()\n",
    "\n",
    "button_description = widgets.Button(description = 'Artist / Maker Description', tooltip='Send',\n",
    "                style={'description_width': 'initial'}, layout = layout_small)\n",
    "\n",
    "button_description.style.button_color = 'lightgreen'\n",
    "\n",
    "def on_button_description_clicked(event):\n",
    "    clear_output()\n",
    "\n",
    "    with output1:\n",
    "        prompt = artist_description() \n",
    "\n",
    "    \n",
    "button_description.on_click(on_button_description_clicked)\n",
    "\n",
    "display(button_description, output1)"
   ]
  },
  {
   "cell_type": "code",
   "execution_count": 37,
   "id": "bba9fa65",
   "metadata": {},
   "outputs": [],
   "source": [
    "\n",
    "\n",
    "def get_closest_training_images_by_clip(artist, prompt, directory):\n",
    "    pass\n",
    "\n",
    "    "
   ]
  },
  {
   "cell_type": "code",
   "execution_count": 38,
   "id": "9c4706d6",
   "metadata": {},
   "outputs": [],
   "source": [
    "artist_dictionary = {}"
   ]
  },
  {
   "cell_type": "code",
   "execution_count": 39,
   "id": "110a4a6c",
   "metadata": {},
   "outputs": [],
   "source": [
    "def construct_prompt(collection, century):\n",
    "    if ceramic_style.value != 'None':\n",
    "        style = ceramic_style.value \n",
    "    elif fashion_style.value != 'None':\n",
    "        style = fashion_style.value \n",
    "    elif furniture_style.value != 'None':\n",
    "        style = furniture_style.value\n",
    "    if ceramic_artist.value != 'None':\n",
    "        artist = ceramic_artist.value \n",
    "    elif fashion_artist.value != 'None':\n",
    "        artist = fashion_artist.value \n",
    "    elif furniture_artist.value != 'None':\n",
    "        artist = furniture_artist.value\n",
    "    if ceramic_material.value != 'None':\n",
    "        material = ceramic_material.value \n",
    "    elif fashion_material.value != 'None':\n",
    "        material = fashion_material.value \n",
    "    elif furniture_material.value != 'None':\n",
    "        material = furniture_material.value\n",
    "    if ceramic_subject.value != 'None':\n",
    "        subject = ceramic_subject.value \n",
    "    elif fashion_subject.value != 'None':\n",
    "        subject = fashion_subject.value \n",
    "    elif furniture_subject.value != 'None':\n",
    "        subject = furniture_subject.value\n",
    "    prompt = ''\n",
    "    prompt += f'{collection}, '\n",
    "    prompt += f'{century}, '\n",
    "    prompt += f'of style {style}, '\n",
    "    if artist == 'Rie Lucie':\n",
    "        artist = 'Lucie Rie'\n",
    "    if artist == 'Iznik':\n",
    "        artist = 'IZNIK'\n",
    "    prompt += f'by {artist}, '\n",
    "    prompt += f'{subject}, '\n",
    "    prompt += f'{material}'\n",
    "\n",
    "    return prompt"
   ]
  },
  {
   "cell_type": "code",
   "execution_count": 40,
   "id": "a8ea7389",
   "metadata": {},
   "outputs": [],
   "source": [
    "output2 = widgets.Output()\n"
   ]
  },
  {
   "cell_type": "code",
   "execution_count": 41,
   "id": "7fe40883",
   "metadata": {},
   "outputs": [
    {
     "data": {
      "application/vnd.jupyter.widget-view+json": {
       "model_id": "01e51c8102b2429b948437af6374bdd0",
       "version_major": 2,
       "version_minor": 0
      },
      "text/plain": [
       "Button(description='Construct prompt', layout=Layout(height='25px', width='200px'), style=ButtonStyle(button_c…"
      ]
     },
     "metadata": {},
     "output_type": "display_data"
    },
    {
     "data": {
      "application/vnd.jupyter.widget-view+json": {
       "model_id": "d6f19a39fcea415ea959e587821e0c25",
       "version_major": 2,
       "version_minor": 0
      },
      "text/plain": [
       "Output()"
      ]
     },
     "metadata": {},
     "output_type": "display_data"
    }
   ],
   "source": [
    "#View prompt\n",
    "\n",
    "view_prompt_button = widgets.Button(description = 'Construct prompt', tooltip='Send',\n",
    "                style={'description_width': 'initial'}, layout = layout_small)\n",
    "\n",
    "view_prompt_button.style.button_color = 'lightgreen'\n",
    "\n",
    "def on_view_button_prompt_clicked(event):\n",
    "    with output2:\n",
    "        clear_output()\n",
    "\n",
    "        prompt = construct_prompt(collection.value, century.value) \n",
    "        constructed_prompt = widgets.HTML(value = f\"<font size=3><font color='black'>Constructed prompt: {prompt}\" + '<hr>')\n",
    "        display(constructed_prompt)\n",
    "\n",
    "view_prompt_button.on_click(on_view_button_prompt_clicked)\n",
    "\n",
    "display(view_prompt_button, output2)\n"
   ]
  },
  {
   "cell_type": "code",
   "execution_count": 42,
   "id": "ccba78be",
   "metadata": {},
   "outputs": [],
   "source": [
    "output3 = widgets.Output()"
   ]
  },
  {
   "cell_type": "code",
   "execution_count": 43,
   "id": "0291b895",
   "metadata": {},
   "outputs": [],
   "source": [
    "import os\n",
    "\n",
    "def on_run_button_clicked(event):\n",
    "    with output3:\n",
    "        clear_output()\n",
    "        print(\"Generating your image ...\")\n",
    "\n",
    "        if not os.path.exists('output/'):\n",
    "            os.mkdir('output/')\n",
    "        prompt = construct_prompt(collection.value, century.value)\n",
    "\n",
    "        files = dropbox_download_file(dbx,f'/zipped_pregenerated/{prompt}.zip'\n",
    "        , 'content_zipped.zip')\n",
    "        with zipfile.ZipFile('content_zipped.zip', 'r') as zip_ref:\n",
    "            zip_ref.extractall('content_zipped')\n",
    "            filename = os.listdir(f'content_zipped/pregenerated/{prompt}')[0]\n",
    "\n",
    "            img = Image(f'content_zipped/pregenerated/{prompt}/{filename}', width = 400, height = 400)\n",
    "\n",
    "            display(img)\n",
    "            os.remove(f'content_zipped.zip')\n",
    "\n",
    "            os.remove(f'content_zipped/pregenerated/{prompt}/{filename}')\n",
    "\n",
    "\n"
   ]
  },
  {
   "cell_type": "code",
   "execution_count": 44,
   "id": "a84e315c",
   "metadata": {},
   "outputs": [],
   "source": [
    "#Run model \n",
    "button_run = widgets.Button(description = 'Run model', tooltip='Send',\n",
    "                style={'description_width': 'initial'}, layout = layout_big)\n",
    "button_run.style.button_color = 'lightblue'\n",
    "button_run.on_click(on_run_button_clicked)\n"
   ]
  },
  {
   "cell_type": "code",
   "execution_count": 45,
   "id": "414b9465",
   "metadata": {},
   "outputs": [
    {
     "data": {
      "application/vnd.jupyter.widget-view+json": {
       "model_id": "adddc5bec0a640c89089af01932762b4",
       "version_major": 2,
       "version_minor": 0
      },
      "text/plain": [
       "Button(description='Run model', layout=Layout(height='50px', width='400px'), style=ButtonStyle(button_color='l…"
      ]
     },
     "metadata": {},
     "output_type": "display_data"
    },
    {
     "data": {
      "application/vnd.jupyter.widget-view+json": {
       "model_id": "1006356b695541fea5875feaf89ddcf4",
       "version_major": 2,
       "version_minor": 0
      },
      "text/plain": [
       "Output()"
      ]
     },
     "metadata": {},
     "output_type": "display_data"
    }
   ],
   "source": [
    "display(button_run,output3)\n",
    "vbox_result = widgets.VBox([button_run, output3])"
   ]
  }
 ],
 "metadata": {
  "kernelspec": {
   "display_name": "Python 3.8.13 ('test': venv)",
   "language": "python",
   "name": "python3"
  },
  "language_info": {
   "codemirror_mode": {
    "name": "ipython",
    "version": 3
   },
   "file_extension": ".py",
   "mimetype": "text/x-python",
   "name": "python",
   "nbconvert_exporter": "python",
   "pygments_lexer": "ipython3",
   "version": "3.8.13"
  },
  "vscode": {
   "interpreter": {
    "hash": "02875593e61c32bd002a0296f5b5f8b9990c6de05650a380917ddfb06c87ea63"
   }
  }
 },
 "nbformat": 4,
 "nbformat_minor": 5
}
