{
 "cells": [
  {
   "cell_type": "code",
   "execution_count": 1,
   "id": "a95bae7a",
   "metadata": {},
   "outputs": [],
   "source": [
    "# %%capture\n",
    "# !pip install widgetsnbextension\n",
    "# !pip install ipywidgets\n",
    "# !pip install voila\n",
    "# !jupyter nbextension enable --py widgetsnbextension --sys-prefix\n",
    "# !jupyter serverextension enable voila --sys-prefix\n",
    "# !pip install rudalle\n",
    "# !pip install scikit-learn==0.13"
   ]
  },
  {
   "cell_type": "code",
   "execution_count": null,
   "id": "2129b0d2",
   "metadata": {},
   "outputs": [],
   "source": [
    "#TODO: add a clear output button , write script for image generation\n",
    "#try to align the boxes better, maybe put the box label above \n",
    "#remove metalwork from prompt when wood is in it\n"
   ]
  },
  {
   "cell_type": "code",
   "execution_count": 2,
   "id": "40609c6e",
   "metadata": {},
   "outputs": [],
   "source": [
    "import time"
   ]
  },
  {
   "cell_type": "code",
   "execution_count": 3,
   "id": "bf245f78",
   "metadata": {},
   "outputs": [],
   "source": [
    "from IPython.display import display, clear_output, Image\n",
    "import ipywidgets as widgets\n",
    "import os\n",
    "from ipywidgets import Layout"
   ]
  },
  {
   "cell_type": "code",
   "execution_count": 4,
   "id": "8e2b9756",
   "metadata": {},
   "outputs": [],
   "source": [
    "import warnings \n",
    "warnings.filterwarnings('ignore')"
   ]
  },
  {
   "cell_type": "code",
   "execution_count": 5,
   "id": "0cc6b9f5",
   "metadata": {},
   "outputs": [],
   "source": [
    "#note to go through data and see which of the categories are most represented"
   ]
  },
  {
   "cell_type": "code",
   "execution_count": 6,
   "id": "4e681d11",
   "metadata": {},
   "outputs": [],
   "source": [
    "\n",
    "\n",
    "ceramic_artist_desc = {'Delft': {'description': ', also known as Delft Blue is a general term now used for Dutch tin-glazed earthenware, a form of faience. Most of it is blue and white pottery, and the city of Delft in the Netherlands was the major centre of production. Delftware includes pottery objects of all descriptions such plates, vases, figurines and other ornamental forms and tiles. The start of the style was around 1600, and the most highly regarded period of production is about 1640–1740, but Delftware continues to be produced. In the 17th and 18th centuries Delftware was a major industry, exporting all over Europe.',\n",
    "                                'source': 'Wikipedia', 'url':'https://en.wikipedia.org/wiki/Delft'},\n",
    "                        'Lucie Rie': {'description': ' was an Austrian-born British ceramics artist. Rie’s works, usually consisting of hand-thrown pots, bottles, and bowl forms, are noteworthy for their Modernist forms and her use of bright colors.',\n",
    "                                    'source': 'ArtNet', 'url':'http://www.artnet.com/artists/lucie-rie/'},\n",
    "                        'Johann Kandler': {'description': ' was a German sculptor who became the most important modeller of the Meissen porcelain manufactury, and arguably of all European porcelain. Meissen pieces of all sorts were normally made with moulds, whose designs Kändler mostly created, supervising the production of the moulds, and checking the quality of the many examples cast. He was often not involved with their painting, which can vary between examples.',\n",
    "                                            'source':'Wikipedia', 'url':'https://en.wikipedia.org/wiki/Johann_Joachim_K%C3%A4ndler'},\n",
    "                        'Martin Hunt': {'description': ', who has died aged 75, was one of Britain’s most distinguished designers. Although Hunt designed for glass and lighting, he will be remembered for the pure form of his ceramic work, characterised by an absence of surface decoration.',\n",
    "                                        'source': 'The Guardian', 'url':'https://www.theguardian.com/artanddesign/2018/jun/25/martin-hunt-obituary'},\n",
    "                        'Iznik': {'description':' pottery, or Iznik ware, named after the town of İznik in western Anatolia where it was made, is a decorated ceramic that was produced from the last quarter of the 15th century until the end of the 17th century. İznik was an established centre for the production of simple earthenware pottery with an underglaze decoration when, in the last quarter of the 15th century, craftsmen in the town began to manufacture high quality pottery with a fritware body painted with cobalt blue under a colourless transparent lead glaze. The designs combined traditional Ottoman arabesque patterns with Chinese elements. The change was almost certainly a result of active intervention and patronage by the recently established Ottoman court in Istanbul who greatly valued Chinese blue-and-white porcelain.',\n",
    "                                'source': 'Wikipedia', 'url': 'https://en.wikipedia.org/wiki/Iznik_pottery'},\n",
    "                        'Wedgwood': {'description': 'Wedgwood is an English fine china, porcelain and luxury accessories manufacturer that was founded on 1 May 1759[1] by the potter and entrepreneur Josiah Wedgwood and was first incorporated in 1895 as Josiah Wedgwood and Sons Ltd. Wedgwood is especially associated with the \"dry-bodied\" (unglazed) stoneware Jasperware in contrasting colours, and in particular that in \"Wedgwood blue\" and white, always much the most popular colours, though there are several others.',\n",
    "                                    'source': 'Wikipedia', 'url': 'https://en.wikipedia.org/wiki/Wedgwood'},\n",
    "                        'Keith Murray': {'description': ' (5 July 1892 – 16 May 1981) was a New-Zealand-born British architect and industrial designer, known for ceramic, silver and glass designs. He is considered to be one of the most influential designers of the Art Deco / Modern age.', \n",
    "                                        'source': 'Wikipedia', 'url': 'https://en.wikipedia.org/wiki/Keith_Murray_(ceramic_artist)'},\n",
    "                        'Susie Cooper': {'description': ' was a household name in the Potteries during the 1920s through to the 1980s. She is known for bright art deco pieces and fine bone china tea sets, mixed with distinctively shaped tea and coffee pots, all decorated with beautifully crafted designs – lithograph pictures, floral patterns or clean lines.',\n",
    "                                        'source': 'Potteries Auction', 'url':'https://www.potteriesauctions.com/news/susie-cooper-pottery-markings-guide'}\n",
    "                        }\n",
    "\n",
    "\n",
    "fashion_artist_desc = {'Barbara Brown': {'description': ' was a British designer, best known for her Op Art designs in the 60s and early 70s, although her career continued beyond that point. She began supplying Heals in 1958, and became their most high profile designer. Heals was one of the leading suppliers of quality fabrics (and still is). Decor is one of Brown’s most famous designs. Her work is characterised by bold designs, large geometric shapes – a sign of the exuberance, confidence and optimism of the decade, and the ascendency of youth',\n",
    "                                'source': 'Jules Tern', 'url':'https://juliennedickey.wordpress.com/archive-2015/pattern-universe-research/4-barbara-brown-textile-designer/'},\n",
    "                        'William Morris': {'description': '(24 March 1834 – 3 October 1896) was a British textile designer, poet, artist, novelist, architectural conservationist, printer, translator and socialist activist associated with the British Arts and Crafts Movement. Morris studied many examples of early woven textiles in the collections of the South Kensington Museum (later to become the V&A). Many of his designs were inspired by 16th- and 17th-century Italian silks, and Peacock and Dragon, an imposing yet popular design from 1878, used striking, medieval-style figuration.',\n",
    "                                    'source': 'Victoria and Albert', 'url':'https://www.vam.ac.uk/articles/willam-morris-textiles'},\n",
    "                        'Balenciaga': {'description': ' is a luxury fashion house founded in 1919 by the Spanish designer Cristóbal Balenciaga in San Sebastian, Spain and later acquired by French luxury group Kering. Balenciaga had a reputation as a couturier of uncompromising standards and was called \"the master of us all\" by Christian Dior. His bubble skirts and odd, feminine, yet \"modernistic\" silhouettes became the trademarks of the house. Balenciaga closed in 1972 and was reopened under new ownership in 1986. Owned by Kering, Balenciaga headquarters are in Paris. ',\n",
    "                                            'source':'Wikipedia', 'url':'https://en.wikipedia.org/wiki/Balenciaga'},\n",
    "                        'Versace': {'description': ' is an Italian luxury fashion company and trade name founded by Gianni Versace in 1978. The company produces upmarket Italian-made ready-to-wear and accessories, as well as haute couture pieces under the Atelier Versace brand.',\n",
    "                                        'source': 'Wikipedia', 'url':'https://en.wikipedia.org/wiki/Versace'},\n",
    "                        'Vivienne Westwood': {'description':' is an English fashion designer and businesswoman, largely responsible for bringing modern punk and new wave fashions into the mainstream.[1]Westwood came to public notice when she made clothes for Malcolm McLaren and her boutique in the Kings Road, which became known as SEX. Their ability to synthesise clothing and music shaped the 1970s UK punk scene which was dominated by McLarens band, the Sex Pistols. She viewed punk as a way of \"seeing if one could put a spoke in the system\".',\n",
    "                                'source': 'Wikipedia', 'url': 'https://en.wikipedia.org/wiki/Vivienne_Westwood'},\n",
    "                        'Yves Saint Laurent': {'description': 'Yves Saint Lauren is a French luxury fashion house founded by Yves Saint Laurent and his partner, Pierre Bergé. Founded in 1962, today Saint Laurent markets a range of womens and mens ready-to-wear products, leather goods, shoes and jewellery. Yves Saint Laurent Beauté also has a presence in the beauty and fragrance market, although this is owned by LOréal, which holds exclusive licenses for the name. ',\n",
    "                                    'source': 'Wikipedia', 'url': 'https://en.wikipedia.org/wiki/Yves_Saint_Laurent_(brand)'},\n",
    "\n",
    "                        'Yoruba Women': {'description': ': Adire is the name given to indigo dyed cloth produced by Yoruba women of south western Nigeria using a variety of resist dye techniques. Adire translates as tie and dye, and the earliest cloths were probably simple tied designs on locally-woven hand-spun cotton cloth much like those still produced in Mali. In the early decades of the twentieth century however, the new access to large quantities of imported shirting material made possible by the spread of European textile merchants in certain Yoruba towns, notably Abeokuta, enabled women dyers to become both artists and entrepreneurs in a booming new medium.', \n",
    "                                        'source': 'Adire African Textiles', 'url': 'https://www.adireafricantextiles.com/textiles-resources-sub-saharan-africa/some-major-west-african-textile-traditions/adire-cloth-of-the-yorubas/'},\n",
    "                        }\n",
    "\n",
    "\n",
    "\n",
    "furniture_artist_desc = {'Paul Storr': {'description': ' was an English goldsmith and silversmith working in the Neoclassical and other styles during the late eighteenth and early nineteenth centuries. His works range from simple tableware to magnificent sculptural pieces made for royalty.',\n",
    "                                'source': 'Wikipedia', 'url':'https://en.wikipedia.org/wiki/Paul_Storr'},\n",
    "                        'Ashbee Robert': {'description': ' (17 May 1863 – 23 May 1942) was an English architect and designer who was a prime mover of the Arts and Crafts movement, which took its craft ethic from the works of John Ruskin and its co-operative structure from the socialism of William Morris. Ashbee was defined by one source as \"designer, architect, entrepreneur, and social reformer\". His disciplines included metalwork, textile design, furniture, jewellery and other objects in the Modern Style (British Art Nouveau style) and Arts and Crafts genres.',\n",
    "                                    'source': 'Wikipedia', 'url':'https://en.wikipedia.org/wiki/Charles_Robert_Ashbee'},\n",
    "                        'Garrard Robert': {'description': ' was part of an important and long-established firm of silversmiths (R. and S. Garrard and Co.), specialising in elaborate domestic silver and fine jewellery, during the last century Garrard produced some of the finest presentation plate. R. and S. Garrard and Co. produced a wide variety of useful and highly decorative silverware, frequently displayed at the national and international exhibitions; these provide an idea of Garrards range of items as well as stylistic design.',\n",
    "                                            'source':'Richard Redding Antiques', 'url':'https://www.richardreddingantiques.com/artists/289-robert-garrard/biography/'},\n",
    "                        'Hester Bateman': {'description': ' (bap. 1708 – 16 September 1794[1]) was an English silversmith, renowned for her high quality flatware and ornamental silverware. A craftswoman working within the family business, she was succeeded in turn by her sons, daughter-in-law, grandson and great-grandson. The Bateman family silversmithing company lasted until the middle of the nineteenth century.',\n",
    "                                        'source': 'Wikipedia', 'url':'https://en.wikipedia.org/wiki/Hester_Bateman'},\n",
    "\n",
    "\n",
    "                        'Joseph Wilmore': {'description':', Birmingham Silvermaker. Registered his mark at the Birmingham Assay Office as a snuff-box maker in 1806. In 1816 after his grandfather Thomas Willmor (a well known silversmith himself) died Joseph incorporated his grandfathers business into his own giving him more scope to expand the variety of silver wares he could make and sell. Joseph had a showroom in Bouverie street London. He continued to register marks untill 1843 and died in 1855.',\n",
    "                                'source': 'Antiques Atlas', 'url': 'https://www.antiques-atlas.com/antiques/maker/joseph_willmore'},\n",
    "}\n"
   ]
  },
  {
   "cell_type": "code",
   "execution_count": 7,
   "id": "0dbb34f1",
   "metadata": {},
   "outputs": [],
   "source": [
    "time_period = ['16th century', '17th century', '18th century', '19th century', '20th century']\n"
   ]
  },
  {
   "cell_type": "code",
   "execution_count": null,
   "id": "913ba39f",
   "metadata": {},
   "outputs": [],
   "source": []
  },
  {
   "cell_type": "code",
   "execution_count": 8,
   "id": "408bf856",
   "metadata": {},
   "outputs": [],
   "source": [
    "ceramic_subjects = ['Dish', 'Bowl', 'Cup', 'Teapot', 'Figure', 'Tile', 'Jug', 'Vase']\n",
    "\n",
    "ceramic_materials = ['Earthenware', 'Porcelain','Stoneware', 'Gold metal', 'Glass', 'Marble']\n",
    "\n",
    "ceramic_styles = ['Ottoman', 'Armorial', 'Kakiemon', 'Chinese export', 'Modernist',  'Arts and Crafts']\n",
    "\n",
    "ceramic_artists = ['Delft', 'Lucie Rie', 'Johann Kandler', 'Martin Hunt', 'Iznik', 'Wedgwood', 'Keith Murray', 'Susie Cooper']"
   ]
  },
  {
   "cell_type": "code",
   "execution_count": 9,
   "id": "b2ba7aec",
   "metadata": {},
   "outputs": [],
   "source": [
    "\n",
    "fashion_subjects = ['Costume', 'Suit', 'Hat', 'Jacket','Trousers', 'Evening', 'Shirt',\n",
    "'Necklace', 'Dress', 'Shoes']\n",
    "\n",
    "fashion_styles = ['High Fashion', 'East Asian', 'Theatrical']\n",
    "\n",
    "fashion_materials = ['Cotton','Crystals', 'Silk', 'Pearls', 'Sequins', 'Leather',\n",
    "'Straw', 'Snakeskin']\n",
    "\n",
    "fashion_artists = ['William Morris','Balenciaga', 'Versace', 'Vivienne Westwood',  'Yves Saint Laurent', 'Yoruba Women' ]"
   ]
  },
  {
   "cell_type": "code",
   "execution_count": 10,
   "id": "4f303236",
   "metadata": {},
   "outputs": [],
   "source": [
    "\n",
    "furniture_subjects = ['Table', 'Chair', 'Candlestick', 'Carving', 'Clock']\n",
    "\n",
    "furniture_styles = ['Rococo', 'Baroque', 'Art Nouveau', 'Art Deco']\n",
    "\n",
    "furniture_materials = ['Wood', 'Metal', 'Glass', 'Silver']\n",
    "\n",
    "furniture_artists = ['Ashbee Robert', 'Garrard Robert', 'Hester Bateman', 'Joseph Wilmore']"
   ]
  },
  {
   "cell_type": "code",
   "execution_count": 15,
   "id": "13c49a46",
   "metadata": {},
   "outputs": [],
   "source": [
    "ceramic_materials.sort()\n",
    "fashion_materials.sort()\n",
    "furniture_materials.sort()"
   ]
  },
  {
   "cell_type": "code",
   "execution_count": 16,
   "id": "aa5202e2",
   "metadata": {},
   "outputs": [],
   "source": [
    "ceramic_material = widgets.SelectMultiple(options = ceramic_materials, description = 'Material',style= {'description_width': 'initial'},)\n",
    "fashion_material = widgets.SelectMultiple(options = fashion_materials)\n",
    "furniture_material = widgets.SelectMultiple(options = furniture_materials)"
   ]
  },
  {
   "cell_type": "code",
   "execution_count": null,
   "id": "14bf09ab",
   "metadata": {},
   "outputs": [],
   "source": [
    "layout_big = widgets.Layout(width='400px', height='50px')\n",
    "\n",
    "layout_small = widgets.Layout(width='200px', height='25px')\n",
    "\n",
    "select_layout = Layout(width='12%', height='80px')"
   ]
  },
  {
   "cell_type": "code",
   "execution_count": null,
   "id": "116bc531",
   "metadata": {},
   "outputs": [],
   "source": [
    "century = widgets.Dropdown(options = time_period, layout = Layout(width='15%', height='30px'))"
   ]
  },
  {
   "cell_type": "code",
   "execution_count": null,
   "id": "d261a42a",
   "metadata": {},
   "outputs": [],
   "source": [
    "%%capture\n",
    "\n",
    "from rudalle import get_rudalle_model, get_vae\n",
    "import torch\n",
    "from model.functions import generate, get_closest_training_images_by_clip\n",
    "\n",
    "device = torch.device(\"cuda:0\" if torch.cuda.is_available() else \"cpu\")\n",
    "model = get_rudalle_model(\"Malevich\", pretrained=True, fp16=True, device=device)\n",
    "\n",
    "vae = get_vae().to(\"cuda\")"
   ]
  },
  {
   "cell_type": "code",
   "execution_count": null,
   "id": "316e78fa",
   "metadata": {},
   "outputs": [],
   "source": [
    "text1 = widgets.HTML(value = \"<font size=2><font color='black'>Welcome to the Design Generator. Below you can generate a custom AI art piece inspired by items in the Victoria & Albert collection. We'll ask you to select from objects, styles, materials and makers across three different collections. You can select multiple in one category box by ctrl+clicking. \", layout=Layout(width='80%', height='60px'))\n",
    "text12 = widgets.HTML(value = \"<font size=2><font color='black'>If you want more information about the generator, check out this link:\", layout=Layout(width='80%', height='30px'))\n",
    "display(text1)\n",
    "display(text12)\n"
   ]
  },
  {
   "cell_type": "code",
   "execution_count": null,
   "id": "af1aa5ef",
   "metadata": {},
   "outputs": [],
   "source": [
    "text2 = widgets.HTML(value = \"<font size=2><font color='black'>First, select the number of images you want to create. Note that the more you select, the longer it'll take to run!\", layout=Layout(width='60%', height='20px'))\n",
    "display(text2)"
   ]
  },
  {
   "cell_type": "code",
   "execution_count": null,
   "id": "4fd91e51",
   "metadata": {},
   "outputs": [],
   "source": [
    "img_amount = widgets.IntSlider(value=2,min=1,max=8,step=1,description='<b>Image amount: </b>',style= {'description_width': 'initial'}, layout = layout_big)\n",
    "img_amount.style.handle_color = 'lightblue'\n",
    "display(img_amount)"
   ]
  },
  {
   "cell_type": "code",
   "execution_count": null,
   "id": "d7123191",
   "metadata": {},
   "outputs": [],
   "source": [
    "text3 = widgets.HTML(value = \"<font size=2><font color='black'>Next, select a collection and a century. You must choose one of each - but you can still select from categories across all 3 collections below, this is just to help the AI by narrowing down what to focus on.\", layout=Layout(width='100%', height='20px'))\n",
    "display(text3)"
   ]
  },
  {
   "cell_type": "code",
   "execution_count": null,
   "id": "5dea153a",
   "metadata": {},
   "outputs": [],
   "source": [
    "collection = widgets.Dropdown(options = ['Ceramics', 'Fashion', 'Furniture & Metalwork'], layout = Layout(width='15%', height='30px'))\n",
    "collection_and_century = widgets.HTML(value = \"<b>Collection & Century: </b>\", layout=Layout(width='11%', height='20px'))"
   ]
  },
  {
   "cell_type": "code",
   "execution_count": null,
   "id": "49dc72f5",
   "metadata": {},
   "outputs": [],
   "source": [
    "display(widgets.HBox((collection_and_century, collection, century)))"
   ]
  },
  {
   "cell_type": "code",
   "execution_count": null,
   "id": "22cdc7cf",
   "metadata": {},
   "outputs": [],
   "source": [
    "space = widgets.HTML(value = \"\", layout=Layout(width='3%', height='40px'))\n",
    "space1 = widgets.HTML(value = \"\", layout=Layout(width='9%', height='20px'))\n",
    "header1 = widgets.HTML(value = \"<font size=3><font color='black'>Ceramics\", layout=Layout(width='15%', height='20px'))\n",
    "header2 = widgets.HTML(value = \"<font size=3><font color='black'>Fashion\", layout=Layout(width='15%', height='20px'))\n",
    "header3 = widgets.HTML(value = \"<font size=3><font color='black'>Furniture\", layout=Layout(width='15%', height='20px'))\n",
    "\n",
    "object_text = widgets.HTML(value = \"<font size=2><font color='black'>Object\", layout=Layout(width='5%', height='80px'))\n"
   ]
  },
  {
   "cell_type": "code",
   "execution_count": null,
   "id": "40a8525c",
   "metadata": {},
   "outputs": [],
   "source": [
    "ceramic_subjects.sort()\n",
    "fashion_subjects.sort()\n",
    "furniture_subjects.sort()"
   ]
  },
  {
   "cell_type": "code",
   "execution_count": null,
   "id": "1858a9e2",
   "metadata": {},
   "outputs": [],
   "source": [
    "ceramic_subject = widgets.SelectMultiple(options = ceramic_subjects,layout=Layout(width='12%', height='80px'))\n",
    "fashion_subject = widgets.SelectMultiple(options = fashion_subjects,layout=Layout(width='12%', height='80px'))\n",
    "furniture_subject = widgets.SelectMultiple(options = furniture_subjects,layout=Layout(width='12%', height='80px'))"
   ]
  },
  {
   "cell_type": "code",
   "execution_count": null,
   "id": "1e56eb94",
   "metadata": {},
   "outputs": [],
   "source": [
    "text4 = widgets.HTML(value = \"<font size=2><font color='black'>Here, you can select across styles, materials, objects and makers. Also feel free to leave some blank! Remember, ctrl+click to select multiple. Get creative!\", layout=Layout(width='100%', height='40px'))\n",
    "display(text4)"
   ]
  },
  {
   "cell_type": "code",
   "execution_count": null,
   "id": "704a5152",
   "metadata": {},
   "outputs": [],
   "source": [
    "display(widgets.HBox((space1, header1, header2, header3)))"
   ]
  },
  {
   "cell_type": "code",
   "execution_count": null,
   "id": "f56cc9f2",
   "metadata": {},
   "outputs": [],
   "source": [
    "display(widgets.HBox((object_text, ceramic_subject, space, fashion_subject, space, furniture_subject)))\n"
   ]
  },
  {
   "cell_type": "code",
   "execution_count": null,
   "id": "299d80c6",
   "metadata": {},
   "outputs": [],
   "source": [
    "ceramic_styles.sort()\n",
    "fashion_styles.sort()\n",
    "furniture_styles.sort()"
   ]
  },
  {
   "cell_type": "code",
   "execution_count": null,
   "id": "c1fb0c45",
   "metadata": {},
   "outputs": [],
   "source": [
    "style_text = widgets.HTML(value = \"<font size=2><font color='black'>Style\", layout=Layout(width='5%', height='80px'))\n",
    "material_text = widgets.HTML(value = \"<font size=2><font color='black'>Material\", layout=Layout(width='5%', height='80px'))\n"
   ]
  },
  {
   "cell_type": "code",
   "execution_count": null,
   "id": "5a384749",
   "metadata": {},
   "outputs": [],
   "source": [
    "ceramic_style = widgets.SelectMultiple(options = ceramic_styles,layout = select_layout)\n",
    "fashion_style = widgets.SelectMultiple(options = fashion_styles,layout = select_layout)\n",
    "furniture_style = widgets.SelectMultiple(options = furniture_styles,layout = select_layout)"
   ]
  },
  {
   "cell_type": "code",
   "execution_count": null,
   "id": "69270d32",
   "metadata": {},
   "outputs": [],
   "source": [
    "display(widgets.HBox((style_text, ceramic_style, space, fashion_style, space, furniture_style)))\n"
   ]
  },
  {
   "cell_type": "code",
   "execution_count": null,
   "id": "23880079",
   "metadata": {},
   "outputs": [],
   "source": [
    "display(widgets.HBox((material_text, ceramic_material, space, fashion_material, space, furniture_material)))\n"
   ]
  },
  {
   "cell_type": "code",
   "execution_count": null,
   "id": "dd7b51b4",
   "metadata": {},
   "outputs": [],
   "source": [
    "ceramic_artists.sort()\n",
    "fashion_artists.sort()\n",
    "furniture_artists.sort()"
   ]
  },
  {
   "cell_type": "code",
   "execution_count": null,
   "id": "404cccae",
   "metadata": {},
   "outputs": [],
   "source": [
    "artist_text = widgets.HTML(value = \"<font size=2><font color='black'>Maker\", layout=Layout(width='5%', height='80px'))\n"
   ]
  },
  {
   "cell_type": "code",
   "execution_count": null,
   "id": "6bb4dac2",
   "metadata": {},
   "outputs": [],
   "source": [
    "ceramic_artist = widgets.SelectMultiple(options = ceramic_artists, layout = select_layout)\n",
    "fashion_artist = widgets.SelectMultiple(options = fashion_artists, layout = select_layout)\n",
    "furniture_artist = widgets.SelectMultiple(options = furniture_artists, layout = select_layout)"
   ]
  },
  {
   "cell_type": "code",
   "execution_count": null,
   "id": "230e0841",
   "metadata": {},
   "outputs": [],
   "source": [
    "display(widgets.HBox((artist_text, ceramic_artist, space, fashion_artist,space, furniture_artist)))\n"
   ]
  },
  {
   "cell_type": "code",
   "execution_count": null,
   "id": "7f189187",
   "metadata": {},
   "outputs": [],
   "source": [
    "def artist_description():\n",
    "    if ceramic_artist.value is not None:\n",
    "        for artist in ceramic_artist.value:\n",
    "            description = ceramic_artist_desc[artist]['description']\n",
    "            ceramic_artist_widget = widgets.HTML(value = f\"<b><font size=3.5><font color='black'>{artist}</b>\" + f\"<font size=3><font color='black'>{description}\" + '<hr>', placeholder = artist)\n",
    "            display(ceramic_artist_widget)\n",
    "    if fashion_artist.value is not None:\n",
    "        for artist in fashion_artist.value:\n",
    "            description = fashion_artist_desc[artist]['description']\n",
    "            fashion_artist_widget = widgets.HTML(value = f\"<b><font size=3.5><font color='black'>{artist}</b>\" + f\"<font size=3><font color='black'>{description}\" + '<hr>', placeholder = artist)\n",
    "            display(fashion_artist_widget)\n",
    "\n",
    "    if furniture_artist.value is not None:\n",
    "        for artist in furniture_artist.value:\n",
    "            description = furniture_artist_desc[artist]['description']\n",
    "            furniture_artist_widget = widgets.HTML(value = f\"<b><font size=3.5><font color='black'>{artist}</b>\" + f\"<font size=3><font color='black'>{description}\" + '<hr>', placeholder = artist)\n",
    "            display(furniture_artist_widget)   "
   ]
  },
  {
   "cell_type": "code",
   "execution_count": null,
   "id": "6cbd6ac7",
   "metadata": {},
   "outputs": [],
   "source": [
    "#Artist Descriptions \n",
    "output1 = widgets.Output()\n",
    "\n",
    "button_description = widgets.Button(description = 'Artist / Maker Description', tooltip='Send',\n",
    "                style={'description_width': 'initial'}, layout = layout_small)\n",
    "\n",
    "button_description.style.button_color = 'lightgreen'\n",
    "\n",
    "def on_button_description_clicked(event):\n",
    "    clear_output()\n",
    "\n",
    "    with output1:\n",
    "        prompt = artist_description() \n",
    "\n",
    "    \n",
    "button_description.on_click(on_button_description_clicked)\n",
    "\n",
    "display(button_description, output1)"
   ]
  },
  {
   "cell_type": "code",
   "execution_count": null,
   "id": "bba9fa65",
   "metadata": {},
   "outputs": [],
   "source": [
    "\n",
    "\n",
    "def get_closest_training_images_by_clip(artist, prompt, directory):\n",
    "    from transformers import CLIPProcessor, CLIPModel\n",
    "    from PIL import Image\n",
    "    from tqdm import tqdm\n",
    "    model = CLIPModel.from_pretrained('openai/clip-vit-base-patch32')\n",
    "    processor = CLIPProcessor.from_pretrained('openai/clip-vit-base-patch32')\n",
    "    filenames = os.listdir(directory)\n",
    "    score = 0\n",
    "    to_search = []\n",
    "    if artist is not None:\n",
    "        for f in filenames:\n",
    "            if artist in f:\n",
    "                to_search.append(f)\n",
    "    else:\n",
    "        to_search = filenames\n",
    "    while len(to_search) > 500:\n",
    "        to_search = to_search[::2]\n",
    "    for i, f in enumerate(tqdm(to_search)):\n",
    "        image = Image.open(f'{directory}/{f}')\n",
    "        inputs = processor(text=[prompt], images = image, return_tensors = 'pt', padding=True)\n",
    "        outputs = model(**inputs)\n",
    "        logits_per_image = outputs.logits_per_image \n",
    "        s = logits_per_image.item()\n",
    "        if s > score:\n",
    "            score = s\n",
    "            index = i\n",
    "    return filenames[index]\n",
    "\n",
    "    "
   ]
  },
  {
   "cell_type": "code",
   "execution_count": null,
   "id": "9c4706d6",
   "metadata": {},
   "outputs": [],
   "source": [
    "artist_dictionary = {}"
   ]
  },
  {
   "cell_type": "code",
   "execution_count": null,
   "id": "110a4a6c",
   "metadata": {},
   "outputs": [],
   "source": [
    "def construct_prompt():\n",
    "    prompt = ''\n",
    "    if collection.value is not None:\n",
    "        prompt += f'{collection.value}, '\n",
    "    if century.value != 'Any':\n",
    "        prompt += f'{century.value}, '\n",
    "    styles = ceramic_style.value + fashion_style.value + furniture_style.value\n",
    "    for st in styles:\n",
    "        prompt += f'of style {st}, '\n",
    "\n",
    "    if ceramic_artist.value is not None:\n",
    "        for artist in ceramic_artist.value:\n",
    "            prompt += f'by {artist}, '\n",
    "    if fashion_artist.value is not None:\n",
    "        for artist in fashion_artist.value:\n",
    "            if artist == 'Rie Lucie':\n",
    "                artist = 'Lucie Rie'\n",
    "            if artist == 'Martin Hunt':\n",
    "                artist = 'Hunt Martin'\n",
    "            if artist == 'Iznik':\n",
    "                artist = 'IZNIK'\n",
    "            \n",
    "            prompt += f'by {artist}, '\n",
    "    if furniture_artist.value is not None:\n",
    "        for artist in furniture_artist.value:\n",
    "            prompt += f'by {artist}, '\n",
    "    if ceramic_subject.value is not None:\n",
    "        for subject in ceramic_subject.value:\n",
    "            prompt += f'{subject}, '\n",
    "    if fashion_subject.value is not None:\n",
    "        for subject in fashion_subject.value:\n",
    "            prompt += f'{subject}, '\n",
    "\n",
    "    if furniture_subject.value is not None:\n",
    "        for subject in furniture_subject.value:\n",
    "            prompt += f'{subject}, '\n",
    "\n",
    "    materials = ceramic_material.value + fashion_material.value + furniture_material.value\n",
    "    for m in materials:\n",
    "        prompt += f'{m}, '\n",
    "\n",
    "    return prompt"
   ]
  },
  {
   "cell_type": "code",
   "execution_count": null,
   "id": "a8ea7389",
   "metadata": {},
   "outputs": [],
   "source": [
    "output2 = widgets.Output()\n"
   ]
  },
  {
   "cell_type": "code",
   "execution_count": null,
   "id": "7fe40883",
   "metadata": {},
   "outputs": [],
   "source": [
    "#View prompt\n",
    "\n",
    "view_prompt_button = widgets.Button(description = 'Construct prompt', tooltip='Send',\n",
    "                style={'description_width': 'initial'}, layout = layout_small)\n",
    "\n",
    "view_prompt_button.style.button_color = 'lightgreen'\n",
    "\n",
    "def on_view_button_prompt_clicked(event):\n",
    "    with output2:\n",
    "        prompt = construct_prompt() \n",
    "        constructed_prompt = widgets.HTML(value = f\"<font size=3><font color='black'>Constructed prompt: {prompt}\" + '<hr>')\n",
    "        display(constructed_prompt)\n",
    "\n",
    "view_prompt_button.on_click(on_view_button_prompt_clicked)\n",
    "\n",
    "display(view_prompt_button, output2)\n"
   ]
  },
  {
   "cell_type": "code",
   "execution_count": null,
   "id": "17afdf14",
   "metadata": {},
   "outputs": [],
   "source": []
  },
  {
   "cell_type": "code",
   "execution_count": null,
   "id": "ccba78be",
   "metadata": {},
   "outputs": [],
   "source": [
    "output3 = widgets.Output()"
   ]
  },
  {
   "cell_type": "code",
   "execution_count": null,
   "id": "0291b895",
   "metadata": {},
   "outputs": [],
   "source": [
    "import os\n",
    "\n",
    "def on_run_button_clicked(event):\n",
    "    with output3:\n",
    "        model_path = os.path.join(f'../../VA-design-generator/checkpoints/lookingglass_dalle_90000.pt')\n",
    "\n",
    "        if not os.path.exists('output/'):\n",
    "            os.mkdir('output/')\n",
    "        prompt = construct_prompt()\n",
    "\n",
    "        if ('Iznik' in prompt or 'Kakiemon' in prompt) and 'Tile' not in prompt and 'Dish' not in prompt:\n",
    "            prompt += ' Dish'\n",
    "        if 'Tile' in prompt:\n",
    "            prompt.replace('Tile', 'Panel')\n",
    "        if 'Delft' in prompt and '17th' not in prompt:\n",
    "            prompt += ' 17th century'\n",
    "    \n",
    "        if 'Morris' in prompt or 'Yoruba' in prompt:\n",
    "            prompt += ' Textiles'\n",
    "        if 'Morris' in prompt:\n",
    "            prompt += ' 19th century'\n",
    "\n",
    "        if 'Wood' in prompt:\n",
    "            if 'Furniture' in prompt:\n",
    "                prompt.replace('Metalwork', '')\n",
    "        prompt += '.jpg'\n",
    "\n",
    "        filepath = f'output/{prompt}'\n",
    "        if not os.path.exists(filepath):\n",
    "            os.mkdir(filepath)\n",
    "        model.load_state_dict(torch.load(model_path))\n",
    "        filenames = generate(vae, model, prompt, confidence = 'Low', variability = 'Ultra-High', rurealesrgan_multiplier=\"x1\", output_filepath=filepath, num_filtered = img_amount.value, image_amount = int(img_amount.value*1.6))\n",
    "        print(f'Images saved in {filepath}')\n",
    "        for image in filenames:\n",
    "            img = Image(image)\n",
    "            display(img)\n",
    "        return filenames\n"
   ]
  },
  {
   "cell_type": "code",
   "execution_count": null,
   "id": "a84e315c",
   "metadata": {},
   "outputs": [],
   "source": [
    "#Run model \n",
    "button_run = widgets.Button(description = 'Run model', tooltip='Send',\n",
    "                style={'description_width': 'initial'}, layout = layout_big)\n",
    "button_run.style.button_color = 'lightblue'\n",
    "button_run.on_click(on_run_button_clicked)\n"
   ]
  },
  {
   "cell_type": "code",
   "execution_count": null,
   "id": "414b9465",
   "metadata": {},
   "outputs": [],
   "source": [
    "display(button_run,output3)\n",
    "vbox_result = widgets.VBox([button_run, output3])"
   ]
  },
  {
   "cell_type": "code",
   "execution_count": null,
   "id": "2e15ec6e",
   "metadata": {},
   "outputs": [],
   "source": [
    "\n",
    "        "
   ]
  },
  {
   "cell_type": "code",
   "execution_count": null,
   "id": "b0d7d6fa",
   "metadata": {},
   "outputs": [],
   "source": [
    "output4 = widgets.Output()"
   ]
  },
  {
   "cell_type": "code",
   "execution_count": null,
   "id": "083d355d",
   "metadata": {},
   "outputs": [],
   "source": [
    "def explore_images_button(event):\n",
    "    from PIL import Image\n",
    "    with output4:\n",
    "        prompt = construct_prompt()\n",
    "        if collection.value == 'Ceramics':\n",
    "            if len(ceramic_artist.value) == 0:\n",
    "                artist = None \n",
    "            else:\n",
    "                artist = ceramic_artist.value[0]\n",
    "                if artist == 'Rie Lucie':\n",
    "                    artist = 'Lucie Rie'\n",
    "                if artist == 'Martin Hunt':\n",
    "                    artist = 'Hunt Martin'\n",
    "            \n",
    "            img_filename = get_closest_training_images_by_clip(artist, prompt, '../../VA-design-generator/images-labelled/images-labelled/ceramics')\n",
    "            img = Image.open(f'../../VA-design-generator/images-labelled/images-labelled/ceramics/{img_filename}')\n",
    "        elif collection.value == 'Fashion':\n",
    "            if len(fashion_artist.value) == 0:\n",
    "                artist = None \n",
    "            else:\n",
    "                artist = fashion_artist.value[0]\n",
    "            img_filename = get_closest_training_images_by_clip(artist, prompt, '../../VA-design-generator/images-labelled/images-labelled/fashion')\n",
    "            img = Image.open(f'../../VA-design-generator/images-labelled/images-labelled/fashion/{img_filename}')\n",
    "        elif collection.value == 'Furniture & Metalwork':\n",
    "            if len(furniture_artist.value) == 0:\n",
    "                artist = None \n",
    "            else:\n",
    "                artist = furniture_artist.value[0]\n",
    "            img_filename = get_closest_training_images_by_clip(artist, prompt, '../../VA-design-generator/images-labelled/images-labelled/furniture')\n",
    "            img = Image.open(f'../../VA-design-generator/images-labelled/images-labelled/furniture/{img_filename}')\n",
    "        display(img.resize((int(img.width*0.3), int(img.height*0.3))))\n"
   ]
  },
  {
   "cell_type": "code",
   "execution_count": null,
   "id": "c587c036",
   "metadata": {},
   "outputs": [],
   "source": [
    "#Explore training images \n",
    "\n",
    "button_run_2 = widgets.Button(description = 'Explore training images', tooltip='Send',\n",
    "                style={'description_width': 'initial'}, layout = layout_big)\n",
    "\n",
    "button_run_2.style.button_color = 'lightblue'\n",
    "\n",
    "button_run_2.on_click(explore_images_button)"
   ]
  },
  {
   "cell_type": "code",
   "execution_count": null,
   "id": "c9bee757",
   "metadata": {},
   "outputs": [],
   "source": [
    "\n",
    "\n",
    "display(button_run_2, output4)\n",
    "vbox_result_2 = widgets.VBox([button_run_2, output4])"
   ]
  },
  {
   "cell_type": "code",
   "execution_count": null,
   "id": "8e77b6e0",
   "metadata": {},
   "outputs": [],
   "source": [
    "clear_output_button = widgets.Button(description = 'Clear output', tooltip='Send', style={'description_width': 'initial'}, layout = layout_small)\n",
    "button_run_2.style.button_color = 'lightgreen'\n",
    "\n",
    "output = widgets.Output()\n",
    "def clear_output_():\n",
    "    clear_output()\n",
    "\n",
    "clear_output_button.on_click(clear_output_)\n",
    "\n",
    "display(clear_output_button, output)"
   ]
  }
 ],
 "metadata": {
  "kernelspec": {
   "display_name": "Python 3.6.9 64-bit",
   "language": "python",
   "name": "python3"
  },
  "language_info": {
   "codemirror_mode": {
    "name": "ipython",
    "version": 3
   },
   "file_extension": ".py",
   "mimetype": "text/x-python",
   "name": "python",
   "nbconvert_exporter": "python",
   "pygments_lexer": "ipython3",
   "version": "3.8.9"
  },
  "vscode": {
   "interpreter": {
    "hash": "31f2aee4e71d21fbe5cf8b01ff0e069b9275f58929596ceb00d14d90e3e16cd6"
   }
  }
 },
 "nbformat": 4,
 "nbformat_minor": 5
}
