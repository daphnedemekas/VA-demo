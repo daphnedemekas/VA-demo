{
 "cells": [
  {
   "cell_type": "code",
   "execution_count": 2,
   "id": "a95bae7a",
   "metadata": {},
   "outputs": [],
   "source": [
    "%%capture\n",
    "!pip install widgetsnbextension\n",
    "!pip install ipywidgets\n",
    "!pip install voila\n",
    "!jupyter nbextension enable --py widgetsnbextension --sys-prefix\n",
    "!jupyter serverextension enable voila --sys-prefix\n",
    "!pip install rudalle\n",
    "!pip install scikit-learn==0.13"
   ]
  },
  {
   "cell_type": "code",
   "execution_count": null,
   "id": "dc3fae93",
   "metadata": {},
   "outputs": [],
   "source": []
  },
  {
   "cell_type": "code",
   "execution_count": 4,
   "id": "e56db6a9",
   "metadata": {},
   "outputs": [],
   "source": [
    "import warnings \n",
    "warnings.filterwarnings('ignore')"
   ]
  },
  {
   "cell_type": "code",
   "execution_count": 5,
   "id": "408bf856",
   "metadata": {},
   "outputs": [],
   "source": [
    "collections = ['Ceramics']\n",
    "\n",
    "techniques = ['glazing', 'coating', 'incising', 'tin-glazed', 'transfer-printed', 'mounted', 'applied-work', 'silver staining', 'acid etching', \n",
    "'pot metal', 'cerre eglomise', 'painted and stained', 'painted', 'printing', 'dust-pressed']\n",
    "\n",
    "\n",
    "artists = ['Rie Lucie', 'Johann Kandler', 'Hunt Martin', 'Clarke Casper', 'Stanley Lane', 'Guy Green', 'Keith Murray', 'Tapio Wirkkala']\n",
    "\n",
    "materials = ['hard paste porcelain', 'earthenware', 'stoneware', 'metal', 'porcelain', 'enamel', 'bone china', 'glaze', 'glass', 'tenmoku', \n",
    "'stained glass', 'resin']\n",
    "\n",
    "subjects = ['bowl', 'cup', 'Jesus Christ', 'dish', 'Figure', 'Saucer', 'Bottle', 'Ewer', 'Pot', 'Plate', 'Islamic', 'Vase', \n",
    "'Tile', 'Turkish', 'Architectural', 'Teapot', 'Teacup', 'Jug']"
   ]
  },
  {
   "cell_type": "code",
   "execution_count": null,
   "id": "a1fdb91c",
   "metadata": {},
   "outputs": [],
   "source": []
  },
  {
   "cell_type": "code",
   "execution_count": 6,
   "id": "73c2a42d",
   "metadata": {},
   "outputs": [],
   "source": [
    "import ipywidgets as widgets\n",
    "from IPython.display import display, clear_output, Image\n",
    "import os"
   ]
  },
  {
   "cell_type": "code",
   "execution_count": 7,
   "id": "14bf09ab",
   "metadata": {},
   "outputs": [],
   "source": [
    "layout = widgets.Layout(width='400px', height='50px')"
   ]
  },
  {
   "cell_type": "code",
   "execution_count": 8,
   "id": "4a7c5bd6",
   "metadata": {},
   "outputs": [],
   "source": [
    "import numpy as np\n",
    "checkpoint = widgets.Dropdown(\n",
    "            options=[20,40,60,80,100,120,140,160,180,200], description = 'Model Checkpoint',\n",
    "        )"
   ]
  },
  {
   "cell_type": "code",
   "execution_count": 9,
   "id": "2ed825ae",
   "metadata": {},
   "outputs": [],
   "source": [
    "confidence = widgets.ToggleButtons(\n",
    "            options=['Ultra-Low', 'Low', 'Medium', 'High', 'Ultra-High'],description='Confidence',\n",
    "            style= {'description_width': 'initial'})\n",
    "variability = widgets.ToggleButtons(\n",
    "            options=['Ultra-Low', 'Low', 'Medium', 'High', 'Ultra-High'], description = 'Variability',\n",
    "            style= {'description_width': 'initial'})"
   ]
  },
  {
   "cell_type": "code",
   "execution_count": 10,
   "id": "4fd91e51",
   "metadata": {},
   "outputs": [],
   "source": [
    "img_amount = widgets.IntSlider(value=2,min=1,max=9,step=1,description='Image amount',style= {'description_width': 'initial'}, layout = layout)"
   ]
  },
  {
   "cell_type": "code",
   "execution_count": 11,
   "id": "e8bf378b",
   "metadata": {},
   "outputs": [],
   "source": [
    "filtered = widgets.IntSlider(value=2,min=1,max=9,step=1,description='Filtered Images',style= {'description_width': 'initial'}, layout = layout)"
   ]
  },
  {
   "cell_type": "code",
   "execution_count": 12,
   "id": "17ff8148",
   "metadata": {},
   "outputs": [],
   "source": [
    "img_amount.style.handle_color = 'lightblue'\n",
    "filtered.style.handle_color = 'lightblue'"
   ]
  },
  {
   "cell_type": "code",
   "execution_count": 13,
   "id": "1262958d",
   "metadata": {},
   "outputs": [
    {
     "data": {
      "application/vnd.jupyter.widget-view+json": {
       "model_id": "22d783aeded54323bc26f3287e227d68",
       "version_major": 2,
       "version_minor": 0
      },
      "text/plain": [
       "IntSlider(value=2, description='Image amount', layout=Layout(height='50px', width='400px'), max=9, min=1, styl…"
      ]
     },
     "metadata": {},
     "output_type": "display_data"
    },
    {
     "data": {
      "application/vnd.jupyter.widget-view+json": {
       "model_id": "dc2848a9b34a4bbdaf5603fea5255ab2",
       "version_major": 2,
       "version_minor": 0
      },
      "text/plain": [
       "IntSlider(value=2, description='Filtered Images', layout=Layout(height='50px', width='400px'), max=9, min=1, s…"
      ]
     },
     "metadata": {},
     "output_type": "display_data"
    }
   ],
   "source": [
    "display(img_amount)\n",
    "display(filtered)"
   ]
  },
  {
   "cell_type": "code",
   "execution_count": 14,
   "id": "043fab57",
   "metadata": {},
   "outputs": [],
   "source": [
    "collection = widgets.Dropdown(options = sorted(collections), description = 'Collection', value = None)\n"
   ]
  },
  {
   "cell_type": "code",
   "execution_count": 15,
   "id": "2c465765",
   "metadata": {},
   "outputs": [],
   "source": [
    "subject = widgets.Dropdown(options = sorted(subjects), description = 'Subject', value = None)\n",
    "material = widgets.Dropdown(options = sorted(materials), description = 'Materials',  value = None)\n",
    "technique = widgets.Dropdown(options = sorted(techniques), description = 'Techniques', value = None)\n",
    "artist = widgets.Dropdown(options = sorted(artists), description = 'Artists', value = None)"
   ]
  },
  {
   "cell_type": "code",
   "execution_count": null,
   "id": "2258668e",
   "metadata": {},
   "outputs": [],
   "source": []
  },
  {
   "cell_type": "code",
   "execution_count": null,
   "id": "5e994ae4",
   "metadata": {},
   "outputs": [],
   "source": []
  },
  {
   "cell_type": "code",
   "execution_count": null,
   "id": "0dc90fec",
   "metadata": {},
   "outputs": [],
   "source": []
  },
  {
   "cell_type": "code",
   "execution_count": 16,
   "id": "4e21047a",
   "metadata": {},
   "outputs": [
    {
     "data": {
      "application/vnd.jupyter.widget-view+json": {
       "model_id": "d3dbd3ee49304a9fb59801fca5d74426",
       "version_major": 2,
       "version_minor": 0
      },
      "text/plain": [
       "Dropdown(description='Model Checkpoint', options=(20, 40, 60, 80, 100, 120, 140, 160, 180, 200), value=20)"
      ]
     },
     "metadata": {},
     "output_type": "display_data"
    }
   ],
   "source": [
    "display(checkpoint)\n"
   ]
  },
  {
   "cell_type": "code",
   "execution_count": 17,
   "id": "5c577562",
   "metadata": {},
   "outputs": [
    {
     "data": {
      "application/vnd.jupyter.widget-view+json": {
       "model_id": "61b235d4521e4aafb7ac6675f314e2af",
       "version_major": 2,
       "version_minor": 0
      },
      "text/plain": [
       "ToggleButtons(description='Confidence', options=('Ultra-Low', 'Low', 'Medium', 'High', 'Ultra-High'), style=To…"
      ]
     },
     "metadata": {},
     "output_type": "display_data"
    }
   ],
   "source": [
    "display(confidence)"
   ]
  },
  {
   "cell_type": "code",
   "execution_count": 18,
   "id": "23aaa461",
   "metadata": {},
   "outputs": [
    {
     "data": {
      "application/vnd.jupyter.widget-view+json": {
       "model_id": "77d2e6ad2d1a4509b080b6341c15d706",
       "version_major": 2,
       "version_minor": 0
      },
      "text/plain": [
       "ToggleButtons(description='Variability', options=('Ultra-Low', 'Low', 'Medium', 'High', 'Ultra-High'), style=T…"
      ]
     },
     "metadata": {},
     "output_type": "display_data"
    }
   ],
   "source": [
    "display(variability)"
   ]
  },
  {
   "cell_type": "code",
   "execution_count": 19,
   "id": "caf506f8",
   "metadata": {},
   "outputs": [
    {
     "name": "stdout",
     "output_type": "stream",
     "text": [
      "Below you can construct the inputs for the model. Feel free to leave some of them blank if you prefer!\n"
     ]
    }
   ],
   "source": [
    "print(\"Below you can construct the inputs for the model. Feel free to leave some of them blank if you prefer!\")"
   ]
  },
  {
   "cell_type": "code",
   "execution_count": 27,
   "id": "4b8dd53d",
   "metadata": {},
   "outputs": [
    {
     "data": {
      "application/vnd.jupyter.widget-view+json": {
       "model_id": "b69e079c95244983801cd06a55e7d8d6",
       "version_major": 2,
       "version_minor": 0
      },
      "text/plain": [
       "Dropdown(description='Collection', options=('Ceramics',), value=None)"
      ]
     },
     "metadata": {},
     "output_type": "display_data"
    }
   ],
   "source": [
    "display(collection)"
   ]
  },
  {
   "cell_type": "code",
   "execution_count": 21,
   "id": "5e994ae4",
   "metadata": {},
   "outputs": [
    {
     "data": {
      "application/vnd.jupyter.widget-view+json": {
       "model_id": "5f1415cc7a67489bb53b504d5b7121cb",
       "version_major": 2,
       "version_minor": 0
      },
      "text/plain": [
       "Dropdown(description='Subject', options=('Architectural', 'Bottle', 'Ewer', 'Figure', 'Islamic', 'Jesus Christ…"
      ]
     },
     "metadata": {},
     "output_type": "display_data"
    },
    {
     "data": {
      "application/vnd.jupyter.widget-view+json": {
       "model_id": "b823a78ac1934291af8650b3c951fb09",
       "version_major": 2,
       "version_minor": 0
      },
      "text/plain": [
       "Dropdown(description='Artists', options=('Clarke Casper', 'Guy Green', 'Hunt Martin', 'Johann Kandler', 'Keith…"
      ]
     },
     "metadata": {},
     "output_type": "display_data"
    },
    {
     "data": {
      "application/vnd.jupyter.widget-view+json": {
       "model_id": "158e1f2472354de490cc3405fa7ca7a5",
       "version_major": 2,
       "version_minor": 0
      },
      "text/plain": [
       "Dropdown(description='Techniques', options=('acid etching', 'applied-work', 'cerre eglomise', 'coating', 'dust…"
      ]
     },
     "metadata": {},
     "output_type": "display_data"
    },
    {
     "data": {
      "application/vnd.jupyter.widget-view+json": {
       "model_id": "bf50bb99d246491fa3b3ce49828cde4f",
       "version_major": 2,
       "version_minor": 0
      },
      "text/plain": [
       "Dropdown(description='Materials', options=('bone china', 'earthenware', 'enamel', 'glass', 'glaze', 'hard past…"
      ]
     },
     "metadata": {},
     "output_type": "display_data"
    }
   ],
   "source": [
    "\n",
    "display(subject)\n",
    "display(artist)\n",
    "display(technique)\n",
    "display(material)"
   ]
  },
  {
   "cell_type": "code",
   "execution_count": null,
   "id": "4685484e",
   "metadata": {},
   "outputs": [],
   "source": []
  },
  {
   "cell_type": "code",
   "execution_count": 28,
   "id": "126e54aa",
   "metadata": {},
   "outputs": [],
   "source": [
    "button_run = widgets.Button(description = 'Run model', tooltip='Send',\n",
    "                style={'description_width': 'initial'}, layout = layout)"
   ]
  },
  {
   "cell_type": "code",
   "execution_count": 29,
   "id": "23d66307",
   "metadata": {},
   "outputs": [],
   "source": [
    "button_run.style.button_color = 'lightblue'"
   ]
  },
  {
   "cell_type": "code",
   "execution_count": 30,
   "id": "8fc10339",
   "metadata": {},
   "outputs": [],
   "source": [
    "output = widgets.Output()"
   ]
  },
  {
   "cell_type": "code",
   "execution_count": 31,
   "id": "2fa6fc71",
   "metadata": {
    "scrolled": true
   },
   "outputs": [],
   "source": [
    "%%capture\n",
    "\n",
    "from rudalle import get_rudalle_model, get_vae\n",
    "import torch\n",
    "from model.functions import generate, get_closest_training_images_by_clip\n",
    "\n",
    "device = torch.device(\"cuda:0\" if torch.cuda.is_available() else \"cpu\")\n",
    "model = get_rudalle_model(\"Malevich\", pretrained=True, fp16=True, device=device)"
   ]
  },
  {
   "cell_type": "code",
   "execution_count": 32,
   "id": "3e97c025",
   "metadata": {
    "scrolled": true
   },
   "outputs": [],
   "source": [
    "%%capture\n",
    "vae = get_vae().to(\"cuda\")"
   ]
  },
  {
   "cell_type": "code",
   "execution_count": 33,
   "id": "43fd322d",
   "metadata": {},
   "outputs": [],
   "source": [
    "def construct_prompt():\n",
    "    prompt = ''\n",
    "    if collection.value is not None:\n",
    "        prompt += f'{collection.value}, '\n",
    "    if artist.value is not None:\n",
    "        prompt += f'by {artist.value}, '\n",
    "    if subject.value is not None:\n",
    "        prompt += f'{subject.value}, '\n",
    "    if material.value is not None:\n",
    "        prompt += f'made of {material.value}, '\n",
    "    if technique.value is not None:\n",
    "        prompt += f'with technique {technique.value} '\n",
    "    \n",
    "    print(prompt)\n",
    "    prompt += '.jpg'\n",
    "    return prompt"
   ]
  },
  {
   "cell_type": "code",
   "execution_count": 34,
   "id": "9a64e34e",
   "metadata": {},
   "outputs": [],
   "source": [
    "import os\n",
    "\n",
    "def on_button_clicked(event):\n",
    "    with output:\n",
    "        prompt = construct_prompt()\n",
    "\n",
    "        print(f'Running model with prompt: {prompt}')\n",
    "\n",
    "        clear_output()\n",
    "        model_path = os.path.join(f'../VA-design-generator/checkpoints/lookingglass_dalle_{checkpoint.value}00.pt')\n",
    "        if not os.path.exists('output/'):\n",
    "            os.mkdir('output/')\n",
    "        filepath = f'output/{prompt}:{checkpoint.value}:{confidence.value}:{variability.value}'\n",
    "        if not os.path.exists(filepath):\n",
    "            os.mkdir(filepath)\n",
    "        model.load_state_dict(torch.load(model_path))\n",
    "        filenames = generate(vae, model, prompt, confidence = confidence.value, variability = variability.value, rurealesrgan_multiplier=\"x1\", output_filepath=filepath, num_filtered = filtered.value, image_amount = img_amount.value)\n",
    "        print(f'Images saved in {filepath}')\n",
    "\n",
    "        for image in filenames:\n",
    "            img = Image(image)\n",
    "            display(img)\n",
    "            "
   ]
  },
  {
   "cell_type": "code",
   "execution_count": 35,
   "id": "e6bfb185",
   "metadata": {},
   "outputs": [],
   "source": [
    "button_run.on_click(on_button_clicked)"
   ]
  },
  {
   "cell_type": "code",
   "execution_count": 36,
   "id": "cb9e0013",
   "metadata": {},
   "outputs": [
    {
     "data": {
      "application/vnd.jupyter.widget-view+json": {
       "model_id": "c7cea6041d484c2dbf3b332d3b92836f",
       "version_major": 2,
       "version_minor": 0
      },
      "text/plain": [
       "Button(description='Run model', layout=Layout(height='50px', width='400px'), style=ButtonStyle(button_color='l…"
      ]
     },
     "metadata": {},
     "output_type": "display_data"
    },
    {
     "data": {
      "application/vnd.jupyter.widget-view+json": {
       "model_id": "60870ca23da44079816da7bb51be52f2",
       "version_major": 2,
       "version_minor": 0
      },
      "text/plain": [
       "Output()"
      ]
     },
     "metadata": {},
     "output_type": "display_data"
    }
   ],
   "source": [
    "display(button_run, output)"
   ]
  },
  {
   "cell_type": "code",
   "execution_count": 38,
   "id": "52acba0b",
   "metadata": {},
   "outputs": [],
   "source": [
    "vbox_result = widgets.VBox([button_run, output])"
   ]
  },
  {
   "cell_type": "code",
   "execution_count": null,
   "id": "3b683f94",
   "metadata": {},
   "outputs": [],
   "source": []
  },
  {
   "cell_type": "code",
   "execution_count": 39,
   "id": "b413691f",
   "metadata": {},
   "outputs": [],
   "source": [
    "button_run_2 = widgets.Button(description = 'Explore training images', tooltip='Send',\n",
    "                style={'description_width': 'initial'}, layout = layout)"
   ]
  },
  {
   "cell_type": "code",
   "execution_count": 40,
   "id": "adc2b5f9",
   "metadata": {},
   "outputs": [],
   "source": [
    "button_run_2.style.button_color = 'lightblue'"
   ]
  },
  {
   "cell_type": "code",
   "execution_count": 41,
   "id": "5f9bedd3",
   "metadata": {},
   "outputs": [],
   "source": [
    "output = widgets.Output()"
   ]
  },
  {
   "cell_type": "code",
   "execution_count": 63,
   "id": "4d991595",
   "metadata": {},
   "outputs": [],
   "source": [
    "def on_button_clicked_2(event):\n",
    "    from PIL import Image\n",
    "    with output:\n",
    "        prompt = construct_prompt()\n",
    "\n",
    "        img_filename = get_closest_training_images_by_clip(artist.value, prompt, '../VA-design-generator/images-labelled/ceramics')\n",
    "        img = Image.open(f'../VA-design-generator/images-labelled/ceramics/{img_filename}')\n",
    "        display(img.resize((int(img.width*0.3), int(img.height*0.3))))\n",
    "\n",
    "        "
   ]
  },
  {
   "cell_type": "code",
   "execution_count": 64,
   "id": "50b6e512",
   "metadata": {},
   "outputs": [],
   "source": [
    "button_run_2.on_click(on_button_clicked_2)"
   ]
  },
  {
   "cell_type": "code",
   "execution_count": 67,
   "id": "3829d0df",
   "metadata": {},
   "outputs": [],
   "source": [
    "\n",
    "\n",
    "def get_closest_training_images_by_clip(artist, prompt, directory):\n",
    "    from transformers import CLIPProcessor, CLIPModel\n",
    "    from PIL import Image\n",
    "    from tqdm import tqdm\n",
    "    model = CLIPModel.from_pretrained('openai/clip-vit-base-patch32')\n",
    "    processor = CLIPProcessor.from_pretrained('openai/clip-vit-base-patch32')\n",
    "    filenames = os.listdir(directory)\n",
    "    score = 0\n",
    "    to_search = []\n",
    "    for f in filenames:\n",
    "        if artist in f:\n",
    "            to_search.append(f)\n",
    "    for i, f in enumerate(tqdm(to_search)):\n",
    "        image = Image.open(f'{directory}/{f}')\n",
    "        inputs = processor(text=[prompt], images = image, return_tensors = 'pt', padding=True)\n",
    "        outputs = model(**inputs)\n",
    "        logits_per_image = outputs.logits_per_image \n",
    "        s = logits_per_image.item()\n",
    "        if s > score:\n",
    "            score = s\n",
    "            index = i\n",
    "    return filenames[index]\n",
    "\n",
    "    "
   ]
  },
  {
   "cell_type": "code",
   "execution_count": 68,
   "id": "9306a14b",
   "metadata": {},
   "outputs": [
    {
     "data": {
      "application/vnd.jupyter.widget-view+json": {
       "model_id": "89e09c9b11ae48989e83dc42db5d508b",
       "version_major": 2,
       "version_minor": 0
      },
      "text/plain": [
       "Button(description='Explore training images', layout=Layout(height='50px', width='400px'), style=ButtonStyle(b…"
      ]
     },
     "metadata": {},
     "output_type": "display_data"
    },
    {
     "data": {
      "application/vnd.jupyter.widget-view+json": {
       "model_id": "a231ebae82b04fd98318ef8d8aa9c2e2",
       "version_major": 2,
       "version_minor": 0
      },
      "text/plain": [
       "Output(outputs=({'traceback': ['\\x1b[0;31m--------------------------------------------------------------------…"
      ]
     },
     "metadata": {},
     "output_type": "display_data"
    }
   ],
   "source": [
    "display(button_run_2, output)"
   ]
  },
  {
   "cell_type": "code",
   "execution_count": 45,
   "id": "947d0316",
   "metadata": {},
   "outputs": [],
   "source": [
    "vbox_result_2 = widgets.VBox([button_run_2, output])"
   ]
  },
  {
   "cell_type": "code",
   "execution_count": null,
   "id": "0694888c",
   "metadata": {},
   "outputs": [],
   "source": []
  }
 ],
 "metadata": {
  "interpreter": {
   "hash": "31f2aee4e71d21fbe5cf8b01ff0e069b9275f58929596ceb00d14d90e3e16cd6"
  },
  "kernelspec": {
   "display_name": "Python 3.6.9 64-bit",
   "language": "python",
   "name": "python3"
  },
  "language_info": {
   "codemirror_mode": {
    "name": "ipython",
    "version": 3
   },
   "file_extension": ".py",
   "mimetype": "text/x-python",
   "name": "python",
   "nbconvert_exporter": "python",
   "pygments_lexer": "ipython3",
   "version": "3.6.9"
  }
 },
 "nbformat": 4,
 "nbformat_minor": 5
}
