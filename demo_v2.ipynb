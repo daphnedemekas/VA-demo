{
 "cells": [
  {
   "cell_type": "code",
   "execution_count": 220,
   "id": "a95bae7a",
   "metadata": {},
   "outputs": [],
   "source": [
    "# %%capture\n",
    "# !pip install widgetsnbextension\n",
    "# !pip install ipywidgets\n",
    "# !pip install voila\n",
    "# !jupyter nbextension enable --py widgetsnbextension --sys-prefix\n",
    "# !jupyter serverextension enable voila --sys-prefix\n",
    "# !pip install rudalle\n",
    "# !pip install scikit-learn==0.13"
   ]
  },
  {
   "cell_type": "markdown",
   "id": "a192dfed",
   "metadata": {},
   "source": [
    "Below are some of the Victoria & Albert Collections. Each column is specific to the collection, and you can explore images of V&A objects with the explore button below. "
   ]
  },
  {
   "cell_type": "markdown",
   "id": "152792a0",
   "metadata": {},
   "source": [
    "To make the AI Art, you can mix and match across collections, styles, artists and subjects to come up with your own creation! "
   ]
  },
  {
   "cell_type": "markdown",
   "id": "7354417e",
   "metadata": {},
   "source": [
    "Feel free to leave some fields blank if you like, but we recommend selecting at least 3!"
   ]
  },
  {
   "cell_type": "code",
   "execution_count": 221,
   "id": "8e2b9756",
   "metadata": {},
   "outputs": [],
   "source": [
    "import warnings \n",
    "warnings.filterwarnings('ignore')"
   ]
  },
  {
   "cell_type": "code",
   "execution_count": null,
   "id": "f74cff44",
   "metadata": {},
   "outputs": [],
   "source": [
    "from IPython.display import display\n",
    "from ipywidgets import widgets\n"
   ]
  },
  {
   "cell_type": "code",
   "execution_count": 4,
   "id": "0dbb34f1",
   "metadata": {},
   "outputs": [],
   "source": [
    "time_period = ['Any', '16th century', '17th century', '18th century', '19th century', '20th century']\n"
   ]
  },
  {
   "cell_type": "code",
   "execution_count": 5,
   "id": "408bf856",
   "metadata": {},
   "outputs": [],
   "source": [
    "ceramic_subjects = ['Dish', 'Bowl', 'Cup', 'Jug', 'Teapot', 'Figure', 'Figurine', 'Tile', 'Vase']\n",
    "\n",
    "ceramic_materials = ['Paint', 'Earthenware', 'Porcelain','Enamels', 'Steel', 'Glaze', 'Stoneware', 'Gold metal', 'Glass', 'Fritware', 'Marble']\n",
    "\n",
    "ceramic_styles = ['Ottoman', 'Armorial', 'Kakiemon', 'Chinese export', 'Modernist', 'Iznik', 'Baroque', 'Arts and Crafts']\n",
    "\n",
    "ceramic_artists = ['Delft', 'Rie Lucie', 'Johann Kandler', 'Hunt Martin', 'IZNIK', 'Wedgwood', 'Keith Murray', 'Susie Cooper', 'William de Morgan']"
   ]
  },
  {
   "cell_type": "code",
   "execution_count": 6,
   "id": "b2ba7aec",
   "metadata": {},
   "outputs": [],
   "source": [
    "\n",
    "fashion_subjects = ['Textiles', 'Belt', 'Bow', 'Costume', 'Suit', 'Coat', 'Hat', 'Man', 'Jacket','Flannel', 'Waistcoat',\n",
    " 'Trousers', 'Designed', 'Furnishing', 'Evening', 'Shirt','Ensemble'\n",
    "'Necklace', 'Cocktail', 'Dress', 'Belt', 'Woman']\n",
    "\n",
    "fashion_styles = ['Arts and Crafts', 'High Fashion', 'East Asian', 'Theatrical', 'Modernist']\n",
    "\n",
    "fashion_materials = ['Cotton','Organza', 'Beads', 'Crystals', 'Diamente', 'Silk', 'Glass-Beads', 'Pearls', 'Sequins', 'Thread', 'Rhinestone', 'Taffeta', 'Wool', 'Leather',\n",
    "'Straw', 'Suede', 'Linen thread', 'Rayon', 'Metal', 'Gazar', 'Plastic', 'Chiffon', 'Synthetic Fibre', 'Snakeskin']\n",
    "\n",
    "fashion_artists = ['Barbara Brown', 'William Morris','Balenciaga', 'Versace', 'Vivienne Westwood',  'Yves Saint Laurent', 'Yoruba Women' ]"
   ]
  },
  {
   "cell_type": "code",
   "execution_count": 7,
   "id": "4f303236",
   "metadata": {},
   "outputs": [],
   "source": [
    "\n",
    "furniture_subjects = ['Table', 'Chair', 'Metalwork', 'Furniture', 'Candlestick']\n",
    "\n",
    "furniture_styles = ['Rococo', 'Neoclassical', 'Baroque', 'Art Nouveau', 'Art Deco']\n",
    "\n",
    "furniture_materials = ['Wood', 'Steel', 'Mahogany', 'Metal', 'Glass', 'Silver']\n",
    "\n",
    "furniture_artists = ['Paul Storr', 'Ashbee Robert', 'Garrard Robert', 'Hester Bateman', 'Joseph Wilmore']"
   ]
  },
  {
   "cell_type": "code",
   "execution_count": 8,
   "id": "ca60487a",
   "metadata": {},
   "outputs": [],
   "source": [
    "\n",
    "\n",
    "ceramic_artist_desc = {'Delft': {'description': ', also known as Delft Blue is a general term now used for Dutch tin-glazed earthenware, a form of faience. Most of it is blue and white pottery, and the city of Delft in the Netherlands was the major centre of production. Delftware includes pottery objects of all descriptions such plates, vases, figurines and other ornamental forms and tiles. The start of the style was around 1600, and the most highly regarded period of production is about 1640–1740, but Delftware continues to be produced. In the 17th and 18th centuries Delftware was a major industry, exporting all over Europe.',\n",
    "                                'source': 'Wikipedia', 'url':'https://en.wikipedia.org/wiki/Delft'},\n",
    "                        'Rie Lucie': {'description': ' was an Austrian-born British ceramics artist. Rie’s works, usually consisting of hand-thrown pots, bottles, and bowl forms, are noteworthy for their Modernist forms and her use of bright colors.',\n",
    "                                    'source': 'ArtNet', 'url':'http://www.artnet.com/artists/lucie-rie/'},\n",
    "                        'Johann Kandler': {'description': 'Johann Joachim Kändler (June 15, 1706 – May 18, 1775) was a German sculptor who became the most important modeller of the Meissen porcelain manufactury, and arguably of all European porcelain. Meissen pieces of all sorts were normally made with moulds, whose designs Kändler mostly created, supervising the production of the moulds, and checking the quality of the many examples cast. He was often not involved with their painting, which can vary between examples.',\n",
    "                                            'source':'Wikipedia', 'url':'https://en.wikipedia.org/wiki/Johann_Joachim_K%C3%A4ndler'},\n",
    "                        'Hunt Martin': {'description': ', who has died aged 75, was one of Britain’s most distinguished designers. Although Hunt designed for glass and lighting, he will be remembered for the pure form of his ceramic work, characterised by an absence of surface decoration.',\n",
    "                                        'source': 'The Guardian', 'url':'https://www.theguardian.com/artanddesign/2018/jun/25/martin-hunt-obituary'},\n",
    "                        'IZNIK': {'description':' pottery, or Iznik ware, named after the town of İznik in western Anatolia where it was made, is a decorated ceramic that was produced from the last quarter of the 15th century until the end of the 17th century. İznik was an established centre for the production of simple earthenware pottery with an underglaze decoration when, in the last quarter of the 15th century, craftsmen in the town began to manufacture high quality pottery with a fritware body painted with cobalt blue under a colourless transparent lead glaze. The designs combined traditional Ottoman arabesque patterns with Chinese elements. The change was almost certainly a result of active intervention and patronage by the recently established Ottoman court in Istanbul who greatly valued Chinese blue-and-white porcelain.',\n",
    "                                'source': 'Wikipedia', 'url': 'https://en.wikipedia.org/wiki/Iznik_pottery'},\n",
    "                        'Wedgwood': {'description': 'Wedgwood is an English fine china, porcelain and luxury accessories manufacturer that was founded on 1 May 1759[1] by the potter and entrepreneur Josiah Wedgwood and was first incorporated in 1895 as Josiah Wedgwood and Sons Ltd. Wedgwood is especially associated with the \"dry-bodied\" (unglazed) stoneware Jasperware in contrasting colours, and in particular that in \"Wedgwood blue\" and white, always much the most popular colours, though there are several others.',\n",
    "                                    'source': 'Wikipedia', 'url': 'https://en.wikipedia.org/wiki/Wedgwood'},\n",
    "                        'Keith Murray': {'description': ' (5 July 1892 – 16 May 1981) was a New-Zealand-born British architect and industrial designer, known for ceramic, silver and glass designs. He is considered to be one of the most influential designers of the Art Deco / Modern age.', \n",
    "                                        'source': 'Wikipedia', 'url': 'https://en.wikipedia.org/wiki/Keith_Murray_(ceramic_artist)'},\n",
    "                        'Susie Cooper': {'description': 'was a household name in the Potteries during the 1920s through to the 1980s. She is known for bright art deco pieces and fine bone china tea sets, mixed with distinctively shaped tea and coffee pots, all decorated with beautifully crafted designs – lithograph pictures, floral patterns or clean lines.',\n",
    "                                        'source': 'Potteries Auction', 'url':'https://www.potteriesauctions.com/news/susie-cooper-pottery-markings-guide'},\n",
    "                        'Wiliam de Morgan': {'description': ', With their vibrant colours and captivating designs, the ceramics of William De Morgan (1839 – 1917) are among the most attractive, recognisable, and enduringly popular decorative arts of the late Victorian period. De Morgan was a highly imaginative and innovative artist-potter, who produced thousands of designs for tiles, vases and dishes, as well as experimenting with the technical aspects of pottery production.',\n",
    "                                            'source': 'Victoria and Albert', 'url': 'https://www.vam.ac.uk/articles/william-de-morgan-an-introduction'}\n",
    "                        }\n",
    "\n",
    "\n",
    "fashion_artist_desc = {'Barbara Brown': {'description': ' was a British designer, best known for her Op Art designs in the 60s and early 70s, although her career continued beyond that point. She began supplying Heals in 1958, and became their most high profile designer. Heals was one of the leading suppliers of quality fabrics (and still is). Decor is one of Brown’s most famous designs. Her work is characterised by bold designs, large geometric shapes – a sign of the exuberance, confidence and optimism of the decade, and the ascendency of youth',\n",
    "                                'source': 'Jules Tern', 'url':'https://juliennedickey.wordpress.com/archive-2015/pattern-universe-research/4-barbara-brown-textile-designer/'},\n",
    "                        'William Morris': {'description': '(24 March 1834 – 3 October 1896) was a British textile designer, poet, artist, novelist, architectural conservationist, printer, translator and socialist activist associated with the British Arts and Crafts Movement. Morris studied many examples of early woven textiles in the collections of the South Kensington Museum (later to become the V&A). Many of his designs were inspired by 16th- and 17th-century Italian silks, and Peacock and Dragon, an imposing yet popular design from 1878, used striking, medieval-style figuration.',\n",
    "                                    'source': 'Victoria and Albert', 'url':'https://www.vam.ac.uk/articles/willam-morris-textiles'},\n",
    "                        'Balenciaga': {'description': ' is a luxury fashion house founded in 1919 by the Spanish designer Cristóbal Balenciaga in San Sebastian, Spain and later acquired by French luxury group Kering. Balenciaga had a reputation as a couturier of uncompromising standards and was called \"the master of us all\" by Christian Dior. His bubble skirts and odd, feminine, yet \"modernistic\" silhouettes became the trademarks of the house. Balenciaga closed in 1972 and was reopened under new ownership in 1986. Owned by Kering, Balenciaga headquarters are in Paris. ',\n",
    "                                            'source':'Wikipedia', 'url':'https://en.wikipedia.org/wiki/Balenciaga'},\n",
    "                        'Versace': {'description': ' is an Italian luxury fashion company and trade name founded by Gianni Versace in 1978. The company produces upmarket Italian-made ready-to-wear and accessories, as well as haute couture pieces under the Atelier Versace brand.',\n",
    "                                        'source': 'Wikipedia', 'url':'https://en.wikipedia.org/wiki/Versace'},\n",
    "                        'Vivienne Westwood': {'description':' is an English fashion designer and businesswoman, largely responsible for bringing modern punk and new wave fashions into the mainstream.[1]Westwood came to public notice when she made clothes for Malcolm McLaren and her boutique in the Kings Road, which became known as SEX. Their ability to synthesise clothing and music shaped the 1970s UK punk scene which was dominated by McLarens band, the Sex Pistols. She viewed punk as a way of \"seeing if one could put a spoke in the system\".',\n",
    "                                'source': 'Wikipedia', 'url': 'https://en.wikipedia.org/wiki/Vivienne_Westwood'},\n",
    "                        'Yves Saint Laurent': {'description': 'Yves Saint Lauren is a French luxury fashion house founded by Yves Saint Laurent and his partner, Pierre Bergé. Founded in 1962, today Saint Laurent markets a range of womens and mens ready-to-wear products, leather goods, shoes and jewellery. Yves Saint Laurent Beauté also has a presence in the beauty and fragrance market, although this is owned by LOréal, which holds exclusive licenses for the name. ',\n",
    "                                    'source': 'Wikipedia', 'url': 'https://en.wikipedia.org/wiki/Yves_Saint_Laurent_(brand)'},\n",
    "\n",
    "                        'Yoruba Women': {'description': ': Adire is the name given to indigo dyed cloth produced by Yoruba women of south western Nigeria using a variety of resist dye techniques. Adire translates as tie and dye, and the earliest cloths were probably simple tied designs on locally-woven hand-spun cotton cloth much like those still produced in Mali. In the early decades of the twentieth century however, the new access to large quantities of imported shirting material made possible by the spread of European textile merchants in certain Yoruba towns, notably Abeokuta, enabled women dyers to become both artists and entrepreneurs in a booming new medium.', \n",
    "                                        'source': 'Adire African Textiles', 'url': 'https://www.adireafricantextiles.com/textiles-resources-sub-saharan-africa/some-major-west-african-textile-traditions/adire-cloth-of-the-yorubas/'},\n",
    "                        }\n",
    "\n",
    "\n",
    "\n",
    "furniture_artist_desc = {'Paul Storr': {'description': ' was an English goldsmith and silversmith working in the Neoclassical and other styles during the late eighteenth and early nineteenth centuries. His works range from simple tableware to magnificent sculptural pieces made for royalty.',\n",
    "                                'source': 'Wikipedia', 'url':'https://en.wikipedia.org/wiki/Paul_Storr'},\n",
    "                        'Ashbee Robert': {'description': ' (17 May 1863 – 23 May 1942) was an English architect and designer who was a prime mover of the Arts and Crafts movement, which took its craft ethic from the works of John Ruskin and its co-operative structure from the socialism of William Morris. Ashbee was defined by one source as \"designer, architect, entrepreneur, and social reformer\". His disciplines included metalwork, textile design, furniture, jewellery and other objects in the Modern Style (British Art Nouveau style) and Arts and Crafts genres.',\n",
    "                                    'source': 'Wikipedia', 'url':'https://en.wikipedia.org/wiki/Charles_Robert_Ashbee'},\n",
    "                        'Garrard Robert': {'description': ' was part of an important and long-established firm of silversmiths (R. and S. Garrard and Co.), specialising in elaborate domestic silver and fine jewellery, during the last century Garrard produced some of the finest presentation plate. R. and S. Garrard and Co. produced a wide variety of useful and highly decorative silverware, frequently displayed at the national and international exhibitions; these provide an idea of Garrards range of items as well as stylistic design.',\n",
    "                                            'source':'Richard Redding Antiques', 'url':'https://www.richardreddingantiques.com/artists/289-robert-garrard/biography/'},\n",
    "                        'Hester Bateman': {'description': ' (bap. 1708 – 16 September 1794[1]) was an English silversmith, renowned for her high quality flatware and ornamental silverware. A craftswoman working within the family business, she was succeeded in turn by her sons, daughter-in-law, grandson and great-grandson. The Bateman family silversmithing company lasted until the middle of the nineteenth century.',\n",
    "                                        'source': 'Wikipedia', 'url':'https://en.wikipedia.org/wiki/Hester_Bateman'},\n",
    "\n",
    "\n",
    "                        'Joseph Wilmore': {'description':', Birmingham Silvermaker. Registered his mark at the Birmingham Assay Office as a snuff-box maker in 1806. In 1816 after his grandfather Thomas Willmor (a well known silversmith himself) died Joseph incorporated his grandfathers business into his own giving him more scope to expand the variety of silver wares he could make and sell. Joseph had a showroom in Bouverie street London. He continued to register marks untill 1843 and died in 1855.',\n",
    "                                'source': 'Antiques Atlas', 'url': 'https://www.antiques-atlas.com/antiques/maker/joseph_willmore'},\n",
    "}\n"
   ]
  },
  {
   "cell_type": "code",
   "execution_count": null,
   "id": "102c6719",
   "metadata": {},
   "outputs": [],
   "source": []
  },
  {
   "cell_type": "code",
   "execution_count": 9,
   "id": "73c2a42d",
   "metadata": {},
   "outputs": [],
   "source": [
    "import ipywidgets as widgets\n",
    "from IPython.display import display, clear_output, Image\n",
    "import os"
   ]
  },
  {
   "cell_type": "code",
   "execution_count": 10,
   "id": "14bf09ab",
   "metadata": {},
   "outputs": [],
   "source": [
    "layout = widgets.Layout(width='400px', height='50px')"
   ]
  },
  {
   "cell_type": "code",
   "execution_count": 11,
   "id": "4a7c5bd6",
   "metadata": {},
   "outputs": [],
   "source": [
    "import numpy as np\n",
    "checkpoint = widgets.Dropdown(\n",
    "            options=[200,500,900, 'Final'], description = 'Model Checkpoint',\n",
    "        )"
   ]
  },
  {
   "cell_type": "code",
   "execution_count": 12,
   "id": "909bff71",
   "metadata": {},
   "outputs": [],
   "source": [
    "#display(checkpoint)"
   ]
  },
  {
   "cell_type": "code",
   "execution_count": 13,
   "id": "a26e70fe",
   "metadata": {},
   "outputs": [],
   "source": [
    "output = widgets.Output()"
   ]
  },
  {
   "cell_type": "code",
   "execution_count": 14,
   "id": "4fd91e51",
   "metadata": {},
   "outputs": [
    {
     "name": "stdout",
     "output_type": "stream",
     "text": [
      "Choose how many images you want to generate. The more you choose, the longer it will take!\n"
     ]
    },
    {
     "data": {
      "application/vnd.jupyter.widget-view+json": {
       "model_id": "db14942b6db44a3db0726622a2534a0d",
       "version_major": 2,
       "version_minor": 0
      },
      "text/plain": [
       "IntSlider(value=2, description='Image amount', layout=Layout(height='50px', width='400px'), max=20, min=1, sty…"
      ]
     },
     "metadata": {},
     "output_type": "display_data"
    }
   ],
   "source": [
    "img_amount = widgets.IntSlider(value=2,min=1,max=20,step=1,description='Image amount',style= {'description_width': 'initial'}, layout = layout)\n",
    "img_amount.style.handle_color = 'lightblue'\n",
    "print('Choose how many images you want to generate. The more you choose, the longer it will take!')\n",
    "display(img_amount)\n"
   ]
  },
  {
   "cell_type": "code",
   "execution_count": 15,
   "id": "224d3407",
   "metadata": {},
   "outputs": [
    {
     "data": {
      "application/vnd.jupyter.widget-view+json": {
       "model_id": "4f20fb3867194f82b1f754fbe0ac21a4",
       "version_major": 2,
       "version_minor": 0
      },
      "text/plain": [
       "Dropdown(description='Select a Collection', options=('Ceramics', 'Fashion', 'Furniture & Metalwork'), style=De…"
      ]
     },
     "metadata": {},
     "output_type": "display_data"
    }
   ],
   "source": [
    "collection = widgets.Dropdown(options = ['Ceramics', 'Fashion', 'Furniture & Metalwork'], description = 'Select a Collection', style= {'description_width': 'initial'})\n",
    "display(collection)"
   ]
  },
  {
   "cell_type": "code",
   "execution_count": 16,
   "id": "0e36b413",
   "metadata": {},
   "outputs": [
    {
     "data": {
      "application/vnd.jupyter.widget-view+json": {
       "model_id": "8ff03fd53d724b68988f7ebf603a73cf",
       "version_major": 2,
       "version_minor": 0
      },
      "text/plain": [
       "HBox(children=(SelectMultiple(description='Ceramic Object', options=('Dish', 'Bowl', 'Cup', 'Jug', 'Teapot', '…"
      ]
     },
     "metadata": {},
     "output_type": "display_data"
    }
   ],
   "source": [
    "ceramic_subject = widgets.SelectMultiple(options = ceramic_subjects, description = 'Ceramic Object',style= {'description_width': 'initial'},)\n",
    "fashion_subject = widgets.SelectMultiple(options = fashion_subjects, description = 'Fashion Object',style= {'description_width': 'initial'},)\n",
    "furniture_subject = widgets.SelectMultiple(options = furniture_subjects, description = 'Furniture Object',style= {'description_width': 'initial'},)\n",
    "\n",
    "\n",
    "display(widgets.HBox((ceramic_subject, fashion_subject, furniture_subject)))\n"
   ]
  },
  {
   "cell_type": "code",
   "execution_count": 235,
   "id": "35988670",
   "metadata": {},
   "outputs": [],
   "source": [
    "century = widgets.Dropdown(options = time_period, description = 'Select a Time Period', value = 'Any', style= {'description_width': 'initial'})\n",
    "display(century)"
   ]
  },
  {
   "cell_type": "code",
   "execution_count": 247,
   "id": "910ec5b4",
   "metadata": {},
   "outputs": [],
   "source": [
    "ceramic_material = widgets.SelectMultiple(options = ceramic_materials, description = 'Material',style= {'description_width': 'initial'},)\n",
    "fashion_material = widgets.SelectMultiple(options = fashion_materials)\n",
    "furniture_material = widgets.SelectMultiple(options = furniture_materials)\n",
    "\n",
    "display(widgets.HBox((ceramic_material, fashion_material, furniture_material)))\n",
    "\n",
    "ceramic_style = widgets.SelectMultiple(options = ceramic_styles, description = 'Style',style= {'description_width': 'initial'},)\n",
    "fashion_style = widgets.SelectMultiple(options = fashion_styles)\n",
    "furniture_style = widgets.SelectMultiple(options = furniture_styles)\n",
    "display(widgets.HBox((ceramic_style, fashion_style, furniture_style)))\n"
   ]
  },
  {
   "cell_type": "code",
   "execution_count": 248,
   "id": "88082540",
   "metadata": {},
   "outputs": [],
   "source": []
  },
  {
   "cell_type": "code",
   "execution_count": 250,
   "id": "ea228da4",
   "metadata": {},
   "outputs": [],
   "source": [
    "ceramic_artist = widgets.SelectMultiple(options = ceramic_artists, description = 'Artist / Maker',style= {'description_width': 'initial'},)\n",
    "fashion_artist = widgets.SelectMultiple(options = fashion_artists)\n",
    "furniture_artist = widgets.SelectMultiple(options = furniture_artists)"
   ]
  },
  {
   "cell_type": "code",
   "execution_count": null,
   "id": "c30d2fbb",
   "metadata": {},
   "outputs": [],
   "source": [
    "display(widgets.HBox((ceramic_artist, fashion_artist, furniture_artist)))\n"
   ]
  },
  {
   "cell_type": "code",
   "execution_count": 251,
   "id": "8589538d",
   "metadata": {},
   "outputs": [],
   "source": [
    "def artist_description():\n",
    "    if ceramic_artist.value is not None:\n",
    "        for artist in ceramic_artist.value:\n",
    "            description = ceramic_artist_desc[artist]['description']\n",
    "            ceramic_artist_widget = widgets.HTML(value = f\"<b><font size=3.5><font color='black'>{artist}</b>\" + f\"<font size=3><font color='black'>{description}\" + '<hr>', placeholder = artist)\n",
    "            display(ceramic_artist_widget)\n",
    "    if fashion_artist.value is not None:\n",
    "        for artist in fashion_artist.value:\n",
    "            description = fashion_artist_desc[artist]['description']\n",
    "            fashion_artist_widget = widgets.HTML(value = f\"<b><font size=3.5><font color='black'>{artist}</b>\" + f\"<font size=3><font color='black'>{description}\" + '<hr>', placeholder = artist)\n",
    "            display(fashion_artist_widget)\n",
    "\n",
    "    if furniture_artist.value is not None:\n",
    "        for artist in furniture_artist.value:\n",
    "            description = furniture_artist_desc[artist]['description']\n",
    "            furniture_artist_widget = widgets.HTML(value = f\"<b><font size=3.5><font color='black'>{artist}</b>\" + f\"<font size=3><font color='black'>{description}\" + '<hr>', placeholder = artist)\n",
    "            display(furniture_artist_widget)   "
   ]
  },
  {
   "cell_type": "code",
   "execution_count": 253,
   "id": "1064e11b",
   "metadata": {},
   "outputs": [],
   "source": [
    "button_description = widgets.Button(description = 'Artist / Maker Description', tooltip='Send',\n",
    "                style={'description_width': 'initial'}, layout = layout)\n",
    "button_description.style.button_color = 'lightgreen'"
   ]
  },
  {
   "cell_type": "code",
   "execution_count": 257,
   "id": "6d219746",
   "metadata": {},
   "outputs": [],
   "source": [
    "def on_button_description_clicked(event):\n",
    "\n",
    "    with output:\n",
    "        prompt = artist_description() \n"
   ]
  },
  {
   "cell_type": "code",
   "execution_count": 258,
   "id": "a91a0d8b",
   "metadata": {},
   "outputs": [],
   "source": [
    "button_description.on_click(on_button_description_clicked)"
   ]
  },
  {
   "cell_type": "code",
   "execution_count": 259,
   "id": "2d8c2c1b",
   "metadata": {},
   "outputs": [
    {
     "data": {
      "application/vnd.jupyter.widget-view+json": {
       "model_id": "54c3e386c6634dadaec1b71d96b0b064",
       "version_major": 2,
       "version_minor": 0
      },
      "text/plain": [
       "Button(description='Artist / Maker Description', layout=Layout(height='50px', width='400px'), style=ButtonStyl…"
      ]
     },
     "metadata": {},
     "output_type": "display_data"
    },
    {
     "data": {
      "application/vnd.jupyter.widget-view+json": {
       "model_id": "d657a00c456742bea2dbc3e57c71e3f8",
       "version_major": 2,
       "version_minor": 0
      },
      "text/plain": [
       "Output()"
      ]
     },
     "metadata": {},
     "output_type": "display_data"
    }
   ],
   "source": [
    "display(button_description, output)"
   ]
  },
  {
   "cell_type": "code",
   "execution_count": 261,
   "id": "6a393f32",
   "metadata": {},
   "outputs": [
    {
     "data": {
      "application/vnd.jupyter.widget-view+json": {
       "model_id": "ca0102a2785c41daafd4867e5f6e19f4",
       "version_major": 2,
       "version_minor": 0
      },
      "text/plain": [
       "HBox(children=(SelectMultiple(description='Subject', options=('Dish', 'Bowl', 'Cup', 'Jug', 'Teapot', 'Figure'…"
      ]
     },
     "metadata": {},
     "output_type": "display_data"
    }
   ],
   "source": []
  },
  {
   "cell_type": "code",
   "execution_count": 262,
   "id": "70940486",
   "metadata": {},
   "outputs": [],
   "source": []
  },
  {
   "cell_type": "code",
   "execution_count": 23,
   "id": "126e54aa",
   "metadata": {},
   "outputs": [],
   "source": [
    "button_run = widgets.Button(description = 'Run model', tooltip='Send',\n",
    "                style={'description_width': 'initial'}, layout = layout)"
   ]
  },
  {
   "cell_type": "code",
   "execution_count": 24,
   "id": "23d66307",
   "metadata": {},
   "outputs": [],
   "source": [
    "button_run.style.button_color = 'lightblue'"
   ]
  },
  {
   "cell_type": "code",
   "execution_count": null,
   "id": "8fc10339",
   "metadata": {},
   "outputs": [],
   "source": []
  },
  {
   "cell_type": "code",
   "execution_count": 17,
   "id": "2fa6fc71",
   "metadata": {
    "scrolled": true
   },
   "outputs": [],
   "source": [
    "%%capture\n",
    "\n",
    "from rudalle import get_rudalle_model, get_vae\n",
    "import torch\n",
    "from model.functions import generate, get_closest_training_images_by_clip\n",
    "\n",
    "device = torch.device(\"cuda:0\" if torch.cuda.is_available() else \"cpu\")\n",
    "model = get_rudalle_model(\"Malevich\", pretrained=True, fp16=True, device=device)"
   ]
  },
  {
   "cell_type": "code",
   "execution_count": 18,
   "id": "3e97c025",
   "metadata": {
    "scrolled": true
   },
   "outputs": [],
   "source": [
    "%%capture\n",
    "vae = get_vae().to(\"cuda\")"
   ]
  },
  {
   "cell_type": "code",
   "execution_count": 19,
   "id": "2da035ed",
   "metadata": {},
   "outputs": [
    {
     "ename": "NameError",
     "evalue": "name 'ceramic_artist' is not defined",
     "output_type": "error",
     "traceback": [
      "\u001b[0;31m---------------------------------------------------------------------------\u001b[0m",
      "\u001b[0;31mNameError\u001b[0m                                 Traceback (most recent call last)",
      "\u001b[0;32m<ipython-input-19-a455aaf5cc58>\u001b[0m in \u001b[0;36m<module>\u001b[0;34m\u001b[0m\n\u001b[0;32m----> 1\u001b[0;31m \u001b[0mceramic_artist\u001b[0m\u001b[0;34m.\u001b[0m\u001b[0mvalue\u001b[0m\u001b[0;34m\u001b[0m\u001b[0;34m\u001b[0m\u001b[0m\n\u001b[0m",
      "\u001b[0;31mNameError\u001b[0m: name 'ceramic_artist' is not defined"
     ]
    }
   ],
   "source": [
    "ceramic_artist.value"
   ]
  },
  {
   "cell_type": "code",
   "execution_count": null,
   "id": "43fd322d",
   "metadata": {},
   "outputs": [],
   "source": [
    "def construct_prompt():\n",
    "    prompt = ''\n",
    "    if collection.value is not None:\n",
    "        prompt += f'{collection.value}, '\n",
    "    if century.value != 'Any':\n",
    "        prompt += f'{century.value}, '\n",
    "    styles = ceramic_style.value + fashion_style.value + furniture_style.value\n",
    "    for st in styles:\n",
    "        prompt += f'of style {st}, '\n",
    "\n",
    "    if len(ceramic_artist.value) != 0:\n",
    "        for artist in ceramic_artist.value:\n",
    "            prompt += f'by {artist}, '\n",
    "    if len(fashion_artist.value) != 0:\n",
    "        for artist in fashion_artist.value:\n",
    "            prompt += f'by {artist}, '\n",
    "    if len(furniture_artist.value) != 0:\n",
    "        for artist in furniture_artist.value:\n",
    "            prompt += f'by {artist}, '\n",
    "    if len(ceramic_subject.value) != 0:\n",
    "        for subject in ceramic_subject.value:\n",
    "            prompt += f'by {subject}, '\n",
    "    if len(fashion_subject.value) != 0:\n",
    "        for subject in fashion_subject.value:\n",
    "            prompt += f'by {subject}, '\n",
    "\n",
    "    if furniture_subject.value is not None:\n",
    "        for subject in furniture_subject.value:\n",
    "            prompt += f'{subject}, '\n",
    "\n",
    "    materials = ceramic_material.value + fashion_material.value + furniture_material.value\n",
    "    for m in materials:\n",
    "        prompt += f'{m}, '\n",
    "\n",
    "    prompt += '.jpg'\n",
    "    return prompt"
   ]
  },
  {
   "cell_type": "code",
   "execution_count": null,
   "id": "b88e7e18",
   "metadata": {},
   "outputs": [],
   "source": []
  },
  {
   "cell_type": "code",
   "execution_count": null,
   "id": "20ad5d5b",
   "metadata": {},
   "outputs": [],
   "source": [
    "filenames = None"
   ]
  },
  {
   "cell_type": "code",
   "execution_count": 389,
   "id": "ee5904a4",
   "metadata": {},
   "outputs": [],
   "source": [
    "button_prompt = widgets.Button(description = 'Construct prompt', tooltip='Send',\n",
    "                style={'description_width': 'initial'}, layout = layout)\n",
    "\n",
    "button_prompt.style.button_color = 'lightgreen'"
   ]
  },
  {
   "cell_type": "code",
   "execution_count": 390,
   "id": "0b04a77c",
   "metadata": {},
   "outputs": [],
   "source": [
    "def on_button_prompt_clicked(event):\n",
    "    with output:\n",
    "        prompt = construct_prompt() \n",
    "        print(f'Constructed prompt: {prompt}')\n",
    "        return prompt\n"
   ]
  },
  {
   "cell_type": "code",
   "execution_count": 391,
   "id": "3fe23931",
   "metadata": {},
   "outputs": [],
   "source": [
    "prompt = button_prompt.on_click(on_button_prompt_clicked)"
   ]
  },
  {
   "cell_type": "code",
   "execution_count": 392,
   "id": "b1605e3e",
   "metadata": {},
   "outputs": [
    {
     "data": {
      "application/vnd.jupyter.widget-view+json": {
       "model_id": "76196556626d444a99e29f874617e592",
       "version_major": 2,
       "version_minor": 0
      },
      "text/plain": [
       "Button(description='Construct prompt', layout=Layout(height='50px', width='400px'), style=ButtonStyle(button_c…"
      ]
     },
     "metadata": {},
     "output_type": "display_data"
    },
    {
     "data": {
      "application/vnd.jupyter.widget-view+json": {
       "model_id": "27a3c2fecc2f4db48329973366453e63",
       "version_major": 2,
       "version_minor": 0
      },
      "text/plain": [
       "Output(outputs=({'output_type': 'display_data', 'data': {'text/plain': '  0%|          | 0/1024 [00:00<?, ?it/…"
      ]
     },
     "metadata": {},
     "output_type": "display_data"
    }
   ],
   "source": [
    "display(button_prompt, output)"
   ]
  },
  {
   "cell_type": "code",
   "execution_count": 403,
   "id": "c82abbbc",
   "metadata": {},
   "outputs": [],
   "source": [
    "output = widgets.Output()"
   ]
  },
  {
   "cell_type": "code",
   "execution_count": 30,
   "id": "6b8840e8",
   "metadata": {},
   "outputs": [
    {
     "data": {
      "text/plain": [
       "200"
      ]
     },
     "execution_count": 30,
     "metadata": {},
     "output_type": "execute_result"
    }
   ],
   "source": [
    "checkpoint.value"
   ]
  },
  {
   "cell_type": "code",
   "execution_count": 66,
   "id": "e7d75355",
   "metadata": {},
   "outputs": [],
   "source": [
    "prompt = 'Fashion & Textiles, 20th century, of style High Fashion, of style Modernist, Figure, Silk, by Balenciaga.jpg'\n"
   ]
  },
  {
   "cell_type": "code",
   "execution_count": 71,
   "id": "9a64e34e",
   "metadata": {},
   "outputs": [],
   "source": [
    "import os\n",
    "\n",
    "def on_button_clicked(event):\n",
    "    with output:\n",
    "        clear_output()\n",
    "        model_path = os.path.join(f'../../VA-design-generator/checkpoints/lookingglass_dalle_90000.pt')\n",
    "        prompt = 'Fashion & Textiles, 20th century, of style High Fashion, of style Modernist, Figure, Silk, by Balenciaga.jpg'\n",
    "        print(prompt)\n",
    "        if not os.path.exists('output/'):\n",
    "            os.mkdir('output/')\n",
    "        filepath = f'output/{prompt}:{checkpoint.value}'\n",
    "        if not os.path.exists(filepath):\n",
    "            os.mkdir(filepath)\n",
    "        model.load_state_dict(torch.load(model_path))\n",
    "        filenames = generate(vae, model, prompt, confidence = 'Low', variability = 'Ultra-High', rurealesrgan_multiplier=\"x1\", output_filepath=filepath, num_filtered = img_amount.value, image_amount =  img_amount.value)\n",
    "        print(f'Images saved in {filepath}')\n",
    "        for image in filenames:\n",
    "            img = Image(image)\n",
    "            display(img)\n",
    "        return filenames\n"
   ]
  },
  {
   "cell_type": "code",
   "execution_count": 72,
   "id": "e9bc9f39",
   "metadata": {},
   "outputs": [
    {
     "data": {
      "text/plain": [
       "20"
      ]
     },
     "execution_count": 72,
     "metadata": {},
     "output_type": "execute_result"
    }
   ],
   "source": [
    "img_amount.value"
   ]
  },
  {
   "cell_type": "code",
   "execution_count": 73,
   "id": "31cd77ce",
   "metadata": {},
   "outputs": [],
   "source": [
    "clear_output()\n"
   ]
  },
  {
   "cell_type": "code",
   "execution_count": 74,
   "id": "e6bfb185",
   "metadata": {},
   "outputs": [],
   "source": [
    "button_run.on_click(on_button_clicked)"
   ]
  },
  {
   "cell_type": "code",
   "execution_count": 75,
   "id": "89976f6b",
   "metadata": {},
   "outputs": [],
   "source": [
    "if filenames:\n",
    "    for image in filenames:\n",
    "        img = Image(image)\n",
    "        display(img)\n",
    "        "
   ]
  },
  {
   "cell_type": "code",
   "execution_count": 76,
   "id": "49072dfd",
   "metadata": {},
   "outputs": [
    {
     "name": "stdout",
     "output_type": "stream",
     "text": [
      "Fashion & Textiles, 20th century, of style High Fashion, of style Modernist, Figure, Silk, by Balenciaga.jpg\n"
     ]
    }
   ],
   "source": [
    "print(prompt)"
   ]
  },
  {
   "cell_type": "code",
   "execution_count": 77,
   "id": "cb9e0013",
   "metadata": {},
   "outputs": [
    {
     "data": {
      "application/vnd.jupyter.widget-view+json": {
       "model_id": "fb5c953b016c42bb8855c5e83d5e27a5",
       "version_major": 2,
       "version_minor": 0
      },
      "text/plain": [
       "Button(description='Run model', layout=Layout(height='50px', width='400px'), style=ButtonStyle(button_color='l…"
      ]
     },
     "metadata": {},
     "output_type": "display_data"
    },
    {
     "data": {
      "application/vnd.jupyter.widget-view+json": {
       "model_id": "cf4d432b58394b3086145a74f011f483",
       "version_major": 2,
       "version_minor": 0
      },
      "text/plain": [
       "Output(outputs=({'name': 'stdout', 'text': 'Fashion & Textiles, 20th century, of style High Fashion, of style …"
      ]
     },
     "metadata": {},
     "output_type": "display_data"
    },
    {
     "ename": "",
     "evalue": "",
     "output_type": "error",
     "traceback": [
      "\u001b[1;31mThe Kernel crashed while executing code in the the current cell or a previous cell. Please review the code in the cell(s) to identify a possible cause of the failure. Click <a href='https://aka.ms/vscodeJupyterKernelCrash'>here</a> for more info. View Jupyter <a href='command:jupyter.viewOutput'>log</a> for further details."
     ]
    }
   ],
   "source": [
    "display(button_run, output)"
   ]
  },
  {
   "cell_type": "code",
   "execution_count": null,
   "id": "52acba0b",
   "metadata": {},
   "outputs": [],
   "source": [
    "vbox_result = widgets.VBox([button_run, output])"
   ]
  },
  {
   "cell_type": "code",
   "execution_count": null,
   "id": "3b683f94",
   "metadata": {},
   "outputs": [],
   "source": []
  },
  {
   "cell_type": "code",
   "execution_count": null,
   "id": "b413691f",
   "metadata": {},
   "outputs": [],
   "source": [
    "button_run_2 = widgets.Button(description = 'Explore training images', tooltip='Send',\n",
    "                style={'description_width': 'initial'}, layout = layout)"
   ]
  },
  {
   "cell_type": "code",
   "execution_count": null,
   "id": "adc2b5f9",
   "metadata": {},
   "outputs": [],
   "source": [
    "button_run_2.style.button_color = 'lightblue'"
   ]
  },
  {
   "cell_type": "code",
   "execution_count": null,
   "id": "5f9bedd3",
   "metadata": {},
   "outputs": [],
   "source": [
    "output = widgets.Output()"
   ]
  },
  {
   "cell_type": "code",
   "execution_count": null,
   "id": "4d991595",
   "metadata": {},
   "outputs": [],
   "source": [
    "def on_button_clicked_2(event):\n",
    "    from PIL import Image\n",
    "    with output:\n",
    "        prompt = construct_prompt()\n",
    "        if collection.value == 'Ceramics':\n",
    "            img_filename = get_closest_training_images_by_clip(ceramic_artist.value, prompt, '../VA-design-generator/images-labelled/ceramics')\n",
    "            img = Image.open(f'../VA-design-generator/images-labelled/ceramics/{img_filename}')\n",
    "        elif collection.value == 'Fashion & Textiles':\n",
    "            img_filename = get_closest_training_images_by_clip(fashion_artist.value, prompt, '../VA-design-generator/images-labelled/fashion')\n",
    "            img = Image.open(f'../VA-design-generator/images-labelled/fashion/{img_filename}')\n",
    "        elif collection.value == 'Furniture & Metalwork':\n",
    "            img_filename = get_closest_training_images_by_clip(furniture_artist.value, prompt, '../VA-design-generator/images-labelled/furniture')\n",
    "            img = Image.open(f'../VA-design-generator/images-labelled/furniture/{img_filename}')\n",
    "        display(img.resize((int(img.width*0.3), int(img.height*0.3))))\n",
    "\n",
    "        "
   ]
  },
  {
   "cell_type": "code",
   "execution_count": null,
   "id": "50b6e512",
   "metadata": {},
   "outputs": [],
   "source": [
    "button_run_2.on_click(on_button_clicked_2)"
   ]
  },
  {
   "cell_type": "code",
   "execution_count": null,
   "id": "3829d0df",
   "metadata": {},
   "outputs": [],
   "source": [
    "\n",
    "\n",
    "def get_closest_training_images_by_clip(artist, prompt, directory):\n",
    "    from transformers import CLIPProcessor, CLIPModel\n",
    "    from PIL import Image\n",
    "    from tqdm import tqdm\n",
    "    model = CLIPModel.from_pretrained('openai/clip-vit-base-patch32')\n",
    "    processor = CLIPProcessor.from_pretrained('openai/clip-vit-base-patch32')\n",
    "    filenames = os.listdir(directory)\n",
    "    score = 0\n",
    "    to_search = []\n",
    "    for f in filenames:\n",
    "        if artist in f:\n",
    "            to_search.append(f)\n",
    "    for i, f in enumerate(tqdm(to_search)):\n",
    "        image = Image.open(f'{directory}/{f}')\n",
    "        inputs = processor(text=[prompt], images = image, return_tensors = 'pt', padding=True)\n",
    "        outputs = model(**inputs)\n",
    "        logits_per_image = outputs.logits_per_image \n",
    "        s = logits_per_image.item()\n",
    "        if s > score:\n",
    "            score = s\n",
    "            index = i\n",
    "    return filenames[index]\n",
    "\n",
    "    "
   ]
  },
  {
   "cell_type": "code",
   "execution_count": null,
   "id": "9306a14b",
   "metadata": {},
   "outputs": [
    {
     "data": {
      "application/vnd.jupyter.widget-view+json": {
       "model_id": "8700bcbdd8764eebb305954d94841ceb",
       "version_major": 2,
       "version_minor": 0
      },
      "text/plain": [
       "Button(description='Explore training images', layout=Layout(height='50px', width='400px'), style=ButtonStyle(b…"
      ]
     },
     "metadata": {},
     "output_type": "display_data"
    },
    {
     "data": {
      "application/vnd.jupyter.widget-view+json": {
       "model_id": "4de2afbfa9ca472eb91412a1289ed533",
       "version_major": 2,
       "version_minor": 0
      },
      "text/plain": [
       "Output()"
      ]
     },
     "metadata": {},
     "output_type": "display_data"
    }
   ],
   "source": [
    "display(button_run_2, output)"
   ]
  },
  {
   "cell_type": "code",
   "execution_count": null,
   "id": "947d0316",
   "metadata": {},
   "outputs": [],
   "source": [
    "vbox_result_2 = widgets.VBox([button_run_2, output])"
   ]
  },
  {
   "cell_type": "code",
   "execution_count": null,
   "id": "0694888c",
   "metadata": {},
   "outputs": [],
   "source": []
  }
 ],
 "metadata": {
  "kernelspec": {
   "display_name": "Python 3.6.9 64-bit",
   "language": "python",
   "name": "python3"
  },
  "language_info": {
   "codemirror_mode": {
    "name": "ipython",
    "version": 3
   },
   "file_extension": ".py",
   "mimetype": "text/x-python",
   "name": "python",
   "nbconvert_exporter": "python",
   "pygments_lexer": "ipython3",
   "version": "3.6.9"
  },
  "vscode": {
   "interpreter": {
    "hash": "31f2aee4e71d21fbe5cf8b01ff0e069b9275f58929596ceb00d14d90e3e16cd6"
   }
  }
 },
 "nbformat": 4,
 "nbformat_minor": 5
}
