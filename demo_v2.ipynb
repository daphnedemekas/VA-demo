{
 "cells": [
  {
   "cell_type": "code",
   "execution_count": 1,
   "id": "a95bae7a",
   "metadata": {},
   "outputs": [],
   "source": [
    "%%capture\n",
    "!pip install widgetsnbextension\n",
    "!pip install ipywidgets\n",
    "!pip install voila\n",
    "!jupyter nbextension enable --py widgetsnbextension --sys-prefix\n",
    "!jupyter serverextension enable voila --sys-prefix\n",
    "!pip install rudalle\n",
    "!pip install scikit-learn==0.13"
   ]
  },
  {
   "cell_type": "markdown",
   "id": "a192dfed",
   "metadata": {},
   "source": [
    "Below are some of the Victoria & Albert Collections. Each column is specific to the collection, and you can explore images of V&A objects with the explore button below. "
   ]
  },
  {
   "cell_type": "markdown",
   "id": "152792a0",
   "metadata": {},
   "source": [
    "To make the AI Art, you can mix and match across collections, styles, artists and subjects to come up with your own creation! "
   ]
  },
  {
   "cell_type": "markdown",
   "id": "7354417e",
   "metadata": {},
   "source": [
    "Feel free to leave some fields blank if you like, but we recommend selecting at least 3!"
   ]
  },
  {
   "cell_type": "code",
   "execution_count": 2,
   "id": "8e2b9756",
   "metadata": {},
   "outputs": [],
   "source": [
    "import warnings \n",
    "warnings.filterwarnings('ignore')"
   ]
  },
  {
   "cell_type": "code",
   "execution_count": 3,
   "id": "0dbb34f1",
   "metadata": {},
   "outputs": [],
   "source": [
    "time_period = ['Any', '16th century', '17th century', '18th century', '19th century', '20th century']\n"
   ]
  },
  {
   "cell_type": "code",
   "execution_count": 4,
   "id": "408bf856",
   "metadata": {},
   "outputs": [],
   "source": [
    "ceramic_subjects = ['Dish', 'Bowl', 'Cup', 'Jug', 'Teapot', 'Figure', 'Tile', 'Vase']\n",
    "\n",
    "ceramic_materials = ['Paint', 'Earthenware', 'Porcelain','Enamels', 'Steel', 'Glaze', 'Stoneware', 'Gold metal', 'Glass', 'Fritware', 'Marble']\n",
    "\n",
    "ceramic_styles = ['Ottoman', 'Armorial', 'Kakiemon', 'Chinese export', 'Modernist', 'Iznik', 'Baroque', 'Arts and Crafts']\n",
    "\n",
    "ceramic_artists = ['Delft', 'Rie Lucie', 'Johann Kandler', 'Hunt Martin', 'IZNIK', 'Wedgwood', 'Keith Murray', 'Susie Cooper', 'William de Morgan']"
   ]
  },
  {
   "cell_type": "code",
   "execution_count": 5,
   "id": "b2ba7aec",
   "metadata": {},
   "outputs": [],
   "source": [
    "\n",
    "fashion_subjects = ['Textiles', 'Belt', 'Bow', 'Costume', 'Suit', 'Coat', 'Hat', 'Man', 'Jacket','Flannel', 'Waistcoat',\n",
    " 'Trousers', 'Designed', 'Furnishing', 'Evening', 'Shirt','Ensemble'\n",
    "'Necklace', 'Cocktail', 'Dress', 'Belt', 'Woman']\n",
    "\n",
    "fashion_styles = ['Arts and Crafts', 'High Fashion', 'East Asian', 'Theatrical', 'Modernist']\n",
    "\n",
    "fashion_materials = ['Cotton','Organza', 'Beads', 'Crystals', 'Diamente', 'Silk', 'Glass-Beads', 'Pearls', 'Sequins', 'Thread', 'Rhinestone', 'Taffeta', 'Wool', 'Leather',\n",
    "'Straw', 'Suede', 'Linen thread', 'Rayon', 'Metal', 'Gazar', 'Plastic', 'Chiffon', 'Synthetic Fibre', 'Snakeskin']\n",
    "\n",
    "fashion_artists = ['Barbara Brown', 'William Morris','Balenciaga', 'Versace', 'Vivienne Westwood',  'Yves Saint Laurent', 'Yoruba Women' ]"
   ]
  },
  {
   "cell_type": "code",
   "execution_count": 6,
   "id": "4f303236",
   "metadata": {},
   "outputs": [],
   "source": [
    "\n",
    "furniture_subjects = ['Table', 'Chair', 'Metalwork', 'Furniture', 'Candlestick']\n",
    "\n",
    "furniture_styles = ['Rococo', 'Neoclassical', 'Baroque', 'Art Nouveau', 'Art Deco']\n",
    "\n",
    "furniture_materials = ['Wood', 'Steel', 'Mahogany', 'Metal', 'Glass', 'Silver']\n",
    "\n",
    "furniture_artists = ['Paul Storr', 'Ashbee Robert', 'Garrard Robert', 'Hester Bateman', 'Joseph Wilmore']"
   ]
  },
  {
   "cell_type": "code",
   "execution_count": 7,
   "id": "73c2a42d",
   "metadata": {},
   "outputs": [],
   "source": [
    "import ipywidgets as widgets\n",
    "from IPython.display import display, clear_output, Image\n",
    "import os"
   ]
  },
  {
   "cell_type": "code",
   "execution_count": 8,
   "id": "14bf09ab",
   "metadata": {},
   "outputs": [],
   "source": [
    "layout = widgets.Layout(width='400px', height='50px')"
   ]
  },
  {
   "cell_type": "code",
   "execution_count": 9,
   "id": "4a7c5bd6",
   "metadata": {},
   "outputs": [],
   "source": [
    "import numpy as np\n",
    "checkpoint = widgets.Dropdown(\n",
    "            options=[200,500,900], description = 'Model Checkpoint',\n",
    "        )"
   ]
  },
  {
   "cell_type": "code",
   "execution_count": 11,
   "id": "4fd91e51",
   "metadata": {},
   "outputs": [],
   "source": [
    "img_amount = widgets.IntSlider(value=2,min=1,max=9,step=1,description='Image amount',style= {'description_width': 'initial'}, layout = layout)"
   ]
  },
  {
   "cell_type": "code",
   "execution_count": 12,
   "id": "e8bf378b",
   "metadata": {},
   "outputs": [],
   "source": [
    "filtered = widgets.IntSlider(value=2,min=1,max=9,step=1,description='Filtered Images',style= {'description_width': 'initial'}, layout = layout)"
   ]
  },
  {
   "cell_type": "code",
   "execution_count": 13,
   "id": "17ff8148",
   "metadata": {},
   "outputs": [],
   "source": [
    "img_amount.style.handle_color = 'lightblue'\n",
    "filtered.style.handle_color = 'lightblue'"
   ]
  },
  {
   "cell_type": "code",
   "execution_count": 14,
   "id": "1262958d",
   "metadata": {},
   "outputs": [
    {
     "data": {
      "application/vnd.jupyter.widget-view+json": {
       "model_id": "d4c6546ca95345be857ca79f1ab856cc",
       "version_major": 2,
       "version_minor": 0
      },
      "text/plain": [
       "IntSlider(value=2, description='Image amount', layout=Layout(height='50px', width='400px'), max=9, min=1, styl…"
      ]
     },
     "metadata": {},
     "output_type": "display_data"
    },
    {
     "data": {
      "application/vnd.jupyter.widget-view+json": {
       "model_id": "d8c0f16358744ca3b8fda80777efa4fc",
       "version_major": 2,
       "version_minor": 0
      },
      "text/plain": [
       "IntSlider(value=2, description='Filtered Images', layout=Layout(height='50px', width='400px'), max=9, min=1, s…"
      ]
     },
     "metadata": {},
     "output_type": "display_data"
    }
   ],
   "source": [
    "display(img_amount)\n",
    "display(filtered)"
   ]
  },
  {
   "cell_type": "code",
   "execution_count": 15,
   "id": "35988670",
   "metadata": {},
   "outputs": [],
   "source": [
    "century = widgets.Dropdown(options = time_period, description = 'Select a Time Period', value = 'Any', style= {'description_width': 'initial'})"
   ]
  },
  {
   "cell_type": "code",
   "execution_count": 16,
   "id": "6db72ecd",
   "metadata": {},
   "outputs": [
    {
     "data": {
      "application/vnd.jupyter.widget-view+json": {
       "model_id": "c136a751214544efbb048082e09c074d",
       "version_major": 2,
       "version_minor": 0
      },
      "text/plain": [
       "Dropdown(description='Select a Time Period', options=('Any', '16th century', '17th century', '18th century', '…"
      ]
     },
     "metadata": {},
     "output_type": "display_data"
    }
   ],
   "source": [
    "display(century)"
   ]
  },
  {
   "cell_type": "code",
   "execution_count": 17,
   "id": "910ec5b4",
   "metadata": {},
   "outputs": [],
   "source": [
    "collection = widgets.Dropdown(options = ['Ceramics', 'Fashion', 'Furniture & Metalwork'], description = 'Select a Collection', style= {'description_width': 'initial'})"
   ]
  },
  {
   "cell_type": "code",
   "execution_count": 18,
   "id": "88082540",
   "metadata": {},
   "outputs": [],
   "source": [
    "from IPython.display import display\n",
    "from ipywidgets import widgets\n"
   ]
  },
  {
   "cell_type": "code",
   "execution_count": 19,
   "id": "5e965bae",
   "metadata": {},
   "outputs": [
    {
     "data": {
      "application/vnd.jupyter.widget-view+json": {
       "model_id": "bfca25d46c1241d498c160012aa43657",
       "version_major": 2,
       "version_minor": 0
      },
      "text/plain": [
       "Dropdown(description='Select a Collection', options=('Ceramics', 'Fashion & Textiles', 'Furniture & Metalwork'…"
      ]
     },
     "metadata": {},
     "output_type": "display_data"
    }
   ],
   "source": [
    "display(collection)"
   ]
  },
  {
   "cell_type": "code",
   "execution_count": 20,
   "id": "ea228da4",
   "metadata": {},
   "outputs": [],
   "source": [
    "ceramic_artist = widgets.Dropdown(options = ceramic_artists, description = 'Artist / Maker',style= {'description_width': 'initial'},)\n",
    "fashion_artist = widgets.Dropdown(options = fashion_artists)\n",
    "furniture_artist = widgets.Dropdown(options = furniture_artists)"
   ]
  },
  {
   "cell_type": "code",
   "execution_count": 21,
   "id": "2d7947a4",
   "metadata": {},
   "outputs": [
    {
     "data": {
      "application/vnd.jupyter.widget-view+json": {
       "model_id": "2aa24fd693144a238d6a97934eab895a",
       "version_major": 2,
       "version_minor": 0
      },
      "text/plain": [
       "HBox(children=(Dropdown(description='Artist / Maker', options=('Any', 'Delft', 'Rie Lucie', 'Johann Kandler', …"
      ]
     },
     "metadata": {},
     "output_type": "display_data"
    }
   ],
   "source": [
    "display(widgets.HBox((ceramic_artist, fashion_artist, furniture_artist)))\n"
   ]
  },
  {
   "cell_type": "code",
   "execution_count": 22,
   "id": "7d84286a",
   "metadata": {},
   "outputs": [],
   "source": [
    "ceramic_subject = widgets.SelectMultiple(options = ceramic_subjects, description = 'Subject',style= {'description_width': 'initial'},)\n",
    "fashion_subject = widgets.SelectMultiple(options = fashion_subjects)\n",
    "furniture_subject = widgets.SelectMultiple(options = furniture_subjects)"
   ]
  },
  {
   "cell_type": "code",
   "execution_count": 23,
   "id": "6a393f32",
   "metadata": {},
   "outputs": [
    {
     "data": {
      "application/vnd.jupyter.widget-view+json": {
       "model_id": "f910ddb567f94e4e93b6aacfcc85f9c0",
       "version_major": 2,
       "version_minor": 0
      },
      "text/plain": [
       "HBox(children=(Dropdown(description='Subject', options=('Any', 'Dish', 'Bowl', 'Pot', 'Cup', 'Plate', 'Jug', '…"
      ]
     },
     "metadata": {},
     "output_type": "display_data"
    }
   ],
   "source": [
    "display(widgets.HBox((ceramic_subject, fashion_subject, furniture_subject)))\n"
   ]
  },
  {
   "cell_type": "code",
   "execution_count": 24,
   "id": "70940486",
   "metadata": {},
   "outputs": [],
   "source": [
    "ceramic_material = widgets.SelectMultiple(options = ceramic_materials, description = 'Material',style= {'description_width': 'initial'},)\n",
    "fashion_material = widgets.SelectMultiple(options = fashion_materials)\n",
    "furniture_material = widgets.SelectMultiple(options = furniture_materials)"
   ]
  },
  {
   "cell_type": "code",
   "execution_count": 25,
   "id": "ec0e09d5",
   "metadata": {},
   "outputs": [
    {
     "data": {
      "application/vnd.jupyter.widget-view+json": {
       "model_id": "4a9365995835494baa24589b6de8804c",
       "version_major": 2,
       "version_minor": 0
      },
      "text/plain": [
       "HBox(children=(SelectMultiple(description='Material', options=('Any', 'Paint', 'China', 'Earthenware', 'Porcel…"
      ]
     },
     "metadata": {},
     "output_type": "display_data"
    }
   ],
   "source": [
    "display(widgets.HBox((ceramic_material, fashion_material, furniture_material)))\n"
   ]
  },
  {
   "cell_type": "code",
   "execution_count": 26,
   "id": "2c465765",
   "metadata": {},
   "outputs": [],
   "source": [
    "ceramic_style = widgets.SelectMultiple(options = ceramic_styles, description = 'Style',style= {'description_width': 'initial'},)\n",
    "fashion_style = widgets.SelectMultiple(options = fashion_styles)\n",
    "furniture_style = widgets.SelectMultiple(options = furniture_styles)"
   ]
  },
  {
   "cell_type": "code",
   "execution_count": 27,
   "id": "2258668e",
   "metadata": {},
   "outputs": [
    {
     "data": {
      "application/vnd.jupyter.widget-view+json": {
       "model_id": "94e3f6bbcabc4dbc86973e2a5d6731b4",
       "version_major": 2,
       "version_minor": 0
      },
      "text/plain": [
       "HBox(children=(SelectMultiple(description='Style', options=('Any', 'Ottoman', 'Armorial', 'Kakiemon', 'Chinese…"
      ]
     },
     "metadata": {},
     "output_type": "display_data"
    }
   ],
   "source": [
    "display(widgets.HBox((ceramic_style, fashion_style, furniture_style)))\n"
   ]
  },
  {
   "cell_type": "code",
   "execution_count": 29,
   "id": "4e21047a",
   "metadata": {},
   "outputs": [
    {
     "data": {
      "application/vnd.jupyter.widget-view+json": {
       "model_id": "2e4c281022b94d3ba176b902f860fd7b",
       "version_major": 2,
       "version_minor": 0
      },
      "text/plain": [
       "Dropdown(description='Model Checkpoint', options=(100, 200, 300, 400, 500, 600, 700, 800, 900), value=100)"
      ]
     },
     "metadata": {},
     "output_type": "display_data"
    }
   ],
   "source": [
    "display(checkpoint)\n"
   ]
  },
  {
   "cell_type": "code",
   "execution_count": 30,
   "id": "5c577562",
   "metadata": {},
   "outputs": [
    {
     "data": {
      "application/vnd.jupyter.widget-view+json": {
       "model_id": "8b5a97a40f3c4e8ea2dc54a909648e4e",
       "version_major": 2,
       "version_minor": 0
      },
      "text/plain": [
       "ToggleButtons(description='Confidence', options=('Ultra-Low', 'Low', 'Medium', 'High', 'Ultra-High'), style=To…"
      ]
     },
     "metadata": {},
     "output_type": "display_data"
    }
   ],
   "source": [
    "display(confidence)"
   ]
  },
  {
   "cell_type": "code",
   "execution_count": 31,
   "id": "23aaa461",
   "metadata": {},
   "outputs": [
    {
     "data": {
      "application/vnd.jupyter.widget-view+json": {
       "model_id": "4a372749dcb148a39e464260ccd4ada0",
       "version_major": 2,
       "version_minor": 0
      },
      "text/plain": [
       "ToggleButtons(description='Variability', options=('Ultra-Low', 'Low', 'Medium', 'High', 'Ultra-High'), style=T…"
      ]
     },
     "metadata": {},
     "output_type": "display_data"
    }
   ],
   "source": [
    "display(variability)"
   ]
  },
  {
   "cell_type": "code",
   "execution_count": null,
   "id": "4685484e",
   "metadata": {},
   "outputs": [],
   "source": []
  },
  {
   "cell_type": "code",
   "execution_count": 32,
   "id": "126e54aa",
   "metadata": {},
   "outputs": [],
   "source": [
    "button_run = widgets.Button(description = 'Run model', tooltip='Send',\n",
    "                style={'description_width': 'initial'}, layout = layout)"
   ]
  },
  {
   "cell_type": "code",
   "execution_count": 33,
   "id": "23d66307",
   "metadata": {},
   "outputs": [],
   "source": [
    "button_run.style.button_color = 'lightblue'"
   ]
  },
  {
   "cell_type": "code",
   "execution_count": 34,
   "id": "8fc10339",
   "metadata": {},
   "outputs": [],
   "source": [
    "output = widgets.Output()"
   ]
  },
  {
   "cell_type": "code",
   "execution_count": 35,
   "id": "2fa6fc71",
   "metadata": {
    "scrolled": true
   },
   "outputs": [],
   "source": [
    "%%capture\n",
    "\n",
    "from rudalle import get_rudalle_model, get_vae\n",
    "import torch\n",
    "from model.functions import generate, get_closest_training_images_by_clip\n",
    "\n",
    "device = torch.device(\"cuda:0\" if torch.cuda.is_available() else \"cpu\")\n",
    "model = get_rudalle_model(\"Malevich\", pretrained=True, fp16=True, device=device)"
   ]
  },
  {
   "cell_type": "code",
   "execution_count": 36,
   "id": "3e97c025",
   "metadata": {
    "scrolled": true
   },
   "outputs": [],
   "source": [
    "%%capture\n",
    "vae = get_vae().to(\"cuda\")"
   ]
  },
  {
   "cell_type": "code",
   "execution_count": 38,
   "id": "43fd322d",
   "metadata": {},
   "outputs": [],
   "source": [
    "def construct_prompt():\n",
    "    prompt = ''\n",
    "    if collection.value is not None:\n",
    "        prompt += f'{collection.value}, '\n",
    "    if century.value is not None:\n",
    "        prompt += f'{century.value}, '\n",
    "    styles = ceramic_style.value + fashion_style.value + furniture_style.value\n",
    "    for st in styles:\n",
    "        prompt += f'of style {st}, '\n",
    "    prompt += 'by '\n",
    "\n",
    "    if ceramic_artist.value != 'Any': \n",
    "        prompt += f'{ceramic_artist.value}, '\n",
    "    if fashion_artist.value != 'Any': \n",
    "        prompt += f'{fashion_artist.value}, '\n",
    "    if furniture_artist.value != 'Any': \n",
    "        prompt += f'{furniture_artist.value}, '\n",
    "\n",
    "    if ceramic_subject.value != 'Any': \n",
    "        prompt += f'{ceramic_subject.value}, '\n",
    "    if fashion_subject.value != 'Any': \n",
    "        prompt += f'{fashion_subject.value}, '\n",
    "    if furniture_subject.value != 'Any': \n",
    "        prompt += f'{furniture_subject.value}, '\n",
    "\n",
    "    materials = ceramic_material.value + fashion_material.value + furniture_material.value\n",
    "    for m in materials:\n",
    "        prompt += f'{m}, '\n",
    "\n",
    "    print(prompt)\n",
    "    prompt += '.jpg'\n",
    "    return prompt"
   ]
  },
  {
   "cell_type": "code",
   "execution_count": 39,
   "id": "b88e7e18",
   "metadata": {},
   "outputs": [
    {
     "name": "stdout",
     "output_type": "stream",
     "text": [
      "Ceramics, Any, by \n"
     ]
    }
   ],
   "source": []
  },
  {
   "cell_type": "code",
   "execution_count": 40,
   "id": "20ad5d5b",
   "metadata": {},
   "outputs": [],
   "source": [
    "filenames = None"
   ]
  },
  {
   "cell_type": "code",
   "execution_count": 67,
   "id": "ee5904a4",
   "metadata": {},
   "outputs": [],
   "source": [
    "button_prompt = widgets.Button(description = 'Construct prompt', tooltip='Send',\n",
    "                style={'description_width': 'initial'}, layout = layout)\n",
    "\n",
    "button_prompt.style.button_color = 'lightgreen'"
   ]
  },
  {
   "cell_type": "code",
   "execution_count": 76,
   "id": "0b04a77c",
   "metadata": {},
   "outputs": [],
   "source": [
    "def on_button_prompt_clicked(event):\n",
    "    with output:\n",
    "        prompt = construct_prompt() \n",
    "        print(f'Constructed prompt: {prompt}')\n",
    "        return prompt"
   ]
  },
  {
   "cell_type": "code",
   "execution_count": 77,
   "id": "3fe23931",
   "metadata": {},
   "outputs": [],
   "source": [
    "prompt = button_prompt.on_click(on_button_prompt_clicked)"
   ]
  },
  {
   "cell_type": "code",
   "execution_count": 81,
   "id": "b1605e3e",
   "metadata": {},
   "outputs": [
    {
     "data": {
      "application/vnd.jupyter.widget-view+json": {
       "model_id": "6a2085fb1bbc40de98f34d5316d9eae6",
       "version_major": 2,
       "version_minor": 0
      },
      "text/plain": [
       "Button(description='Construct prompt', layout=Layout(height='50px', width='400px'), style=ButtonStyle(button_c…"
      ]
     },
     "metadata": {},
     "output_type": "display_data"
    },
    {
     "data": {
      "application/vnd.jupyter.widget-view+json": {
       "model_id": "c59ca1de82d34cd7ab62157794dc67f6",
       "version_major": 2,
       "version_minor": 0
      },
      "text/plain": [
       "Output(outputs=({'name': 'stdout', 'text': 'Ceramics, Any, by \\nConstructed prompt: Ceramics, Any, by .jpg\\nCe…"
      ]
     },
     "metadata": {},
     "output_type": "display_data"
    }
   ],
   "source": [
    "display(button_prompt, output)"
   ]
  },
  {
   "cell_type": "code",
   "execution_count": 41,
   "id": "9a64e34e",
   "metadata": {},
   "outputs": [],
   "source": [
    "import os\n",
    "\n",
    "def on_button_clicked(event):\n",
    "    with output:\n",
    "        clear_output()\n",
    "        model_path = os.path.join(f'../VA-design-generator/checkpoints/lookingglass_dalle_{checkpoint.value}00.pt')\n",
    "        if not os.path.exists('output/'):\n",
    "            os.mkdir('output/')\n",
    "        filepath = f'output/{prompt}:{checkpoint.value}'\n",
    "        if not os.path.exists(filepath):\n",
    "            os.mkdir(filepath)\n",
    "        model.load_state_dict(torch.load(model_path))\n",
    "        filenames = generate(vae, model, prompt, confidence = 'Low', variability = 'Ultra-High', rurealesrgan_multiplier=\"x1\", output_filepath=filepath, num_filtered = filtered.value, image_amount = img_amount.value)\n",
    "        print(f'Images saved in {filepath}')\n",
    "        for image in filenames:\n",
    "            img = Image(image)\n",
    "            display(img)\n",
    "        return filenames\n"
   ]
  },
  {
   "cell_type": "code",
   "execution_count": 42,
   "id": "e6bfb185",
   "metadata": {},
   "outputs": [],
   "source": [
    "filenames = button_run.on_click(on_button_clicked)"
   ]
  },
  {
   "cell_type": "code",
   "execution_count": 43,
   "id": "89976f6b",
   "metadata": {},
   "outputs": [],
   "source": [
    "if filenames:\n",
    "    for image in filenames:\n",
    "        img = Image(image)\n",
    "        display(img)\n",
    "        "
   ]
  },
  {
   "cell_type": "code",
   "execution_count": 44,
   "id": "cb9e0013",
   "metadata": {},
   "outputs": [
    {
     "data": {
      "application/vnd.jupyter.widget-view+json": {
       "model_id": "ce73bb7761f945f592e7e69512f1a61e",
       "version_major": 2,
       "version_minor": 0
      },
      "text/plain": [
       "Button(description='Run model', layout=Layout(height='50px', width='400px'), style=ButtonStyle(button_color='l…"
      ]
     },
     "metadata": {},
     "output_type": "display_data"
    },
    {
     "data": {
      "application/vnd.jupyter.widget-view+json": {
       "model_id": "20f2de616821499b88ff667942e45848",
       "version_major": 2,
       "version_minor": 0
      },
      "text/plain": [
       "Output()"
      ]
     },
     "metadata": {},
     "output_type": "display_data"
    }
   ],
   "source": [
    "display(button_run, output)"
   ]
  },
  {
   "cell_type": "code",
   "execution_count": 45,
   "id": "52acba0b",
   "metadata": {},
   "outputs": [],
   "source": [
    "vbox_result = widgets.VBox([button_run, output])"
   ]
  },
  {
   "cell_type": "code",
   "execution_count": null,
   "id": "3b683f94",
   "metadata": {},
   "outputs": [],
   "source": []
  },
  {
   "cell_type": "code",
   "execution_count": 46,
   "id": "b413691f",
   "metadata": {},
   "outputs": [],
   "source": [
    "button_run_2 = widgets.Button(description = 'Explore training images', tooltip='Send',\n",
    "                style={'description_width': 'initial'}, layout = layout)"
   ]
  },
  {
   "cell_type": "code",
   "execution_count": 47,
   "id": "adc2b5f9",
   "metadata": {},
   "outputs": [],
   "source": [
    "button_run_2.style.button_color = 'lightblue'"
   ]
  },
  {
   "cell_type": "code",
   "execution_count": 48,
   "id": "5f9bedd3",
   "metadata": {},
   "outputs": [],
   "source": [
    "output = widgets.Output()"
   ]
  },
  {
   "cell_type": "code",
   "execution_count": 49,
   "id": "4d991595",
   "metadata": {},
   "outputs": [],
   "source": [
    "def on_button_clicked_2(event):\n",
    "    from PIL import Image\n",
    "    with output:\n",
    "        prompt = construct_prompt()\n",
    "        if collection.value == 'Ceramics':\n",
    "            img_filename = get_closest_training_images_by_clip(ceramic_artist.value, prompt, '../VA-design-generator/images-labelled/ceramics')\n",
    "            img = Image.open(f'../VA-design-generator/images-labelled/ceramics/{img_filename}')\n",
    "        elif collection.value == 'Fashion & Textiles':\n",
    "            img_filename = get_closest_training_images_by_clip(fashion_artist.value, prompt, '../VA-design-generator/images-labelled/fashion')\n",
    "            img = Image.open(f'../VA-design-generator/images-labelled/fashion/{img_filename}')\n",
    "        elif collection.value == 'Furniture & Metalwork':\n",
    "            img_filename = get_closest_training_images_by_clip(furniture_artist.value, prompt, '../VA-design-generator/images-labelled/furniture')\n",
    "            img = Image.open(f'../VA-design-generator/images-labelled/furniture/{img_filename}')\n",
    "        display(img.resize((int(img.width*0.3), int(img.height*0.3))))\n",
    "\n",
    "        "
   ]
  },
  {
   "cell_type": "code",
   "execution_count": 50,
   "id": "50b6e512",
   "metadata": {},
   "outputs": [],
   "source": [
    "button_run_2.on_click(on_button_clicked_2)"
   ]
  },
  {
   "cell_type": "code",
   "execution_count": 51,
   "id": "3829d0df",
   "metadata": {},
   "outputs": [],
   "source": [
    "\n",
    "\n",
    "def get_closest_training_images_by_clip(artist, prompt, directory):\n",
    "    from transformers import CLIPProcessor, CLIPModel\n",
    "    from PIL import Image\n",
    "    from tqdm import tqdm\n",
    "    model = CLIPModel.from_pretrained('openai/clip-vit-base-patch32')\n",
    "    processor = CLIPProcessor.from_pretrained('openai/clip-vit-base-patch32')\n",
    "    filenames = os.listdir(directory)\n",
    "    score = 0\n",
    "    to_search = []\n",
    "    for f in filenames:\n",
    "        if artist in f:\n",
    "            to_search.append(f)\n",
    "    for i, f in enumerate(tqdm(to_search)):\n",
    "        image = Image.open(f'{directory}/{f}')\n",
    "        inputs = processor(text=[prompt], images = image, return_tensors = 'pt', padding=True)\n",
    "        outputs = model(**inputs)\n",
    "        logits_per_image = outputs.logits_per_image \n",
    "        s = logits_per_image.item()\n",
    "        if s > score:\n",
    "            score = s\n",
    "            index = i\n",
    "    return filenames[index]\n",
    "\n",
    "    "
   ]
  },
  {
   "cell_type": "code",
   "execution_count": 52,
   "id": "9306a14b",
   "metadata": {},
   "outputs": [
    {
     "data": {
      "application/vnd.jupyter.widget-view+json": {
       "model_id": "c15e2b46f0ff4a5da7b9c722b9a2804a",
       "version_major": 2,
       "version_minor": 0
      },
      "text/plain": [
       "Button(description='Explore training images', layout=Layout(height='50px', width='400px'), style=ButtonStyle(b…"
      ]
     },
     "metadata": {},
     "output_type": "display_data"
    },
    {
     "data": {
      "application/vnd.jupyter.widget-view+json": {
       "model_id": "c59ca1de82d34cd7ab62157794dc67f6",
       "version_major": 2,
       "version_minor": 0
      },
      "text/plain": [
       "Output()"
      ]
     },
     "metadata": {},
     "output_type": "display_data"
    }
   ],
   "source": [
    "display(button_run_2, output)"
   ]
  },
  {
   "cell_type": "code",
   "execution_count": 53,
   "id": "947d0316",
   "metadata": {},
   "outputs": [],
   "source": [
    "vbox_result_2 = widgets.VBox([button_run_2, output])"
   ]
  },
  {
   "cell_type": "code",
   "execution_count": null,
   "id": "0694888c",
   "metadata": {},
   "outputs": [],
   "source": []
  }
 ],
 "metadata": {
  "kernelspec": {
   "display_name": "Python 3.6.9 64-bit",
   "language": "python",
   "name": "python3"
  },
  "language_info": {
   "codemirror_mode": {
    "name": "ipython",
    "version": 3
   },
   "file_extension": ".py",
   "mimetype": "text/x-python",
   "name": "python",
   "nbconvert_exporter": "python",
   "pygments_lexer": "ipython3",
   "version": "3.6.9"
  },
  "vscode": {
   "interpreter": {
    "hash": "31f2aee4e71d21fbe5cf8b01ff0e069b9275f58929596ceb00d14d90e3e16cd6"
   }
  }
 },
 "nbformat": 4,
 "nbformat_minor": 5
}
