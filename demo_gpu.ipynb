{
 "cells": [
  {
   "cell_type": "code",
   "execution_count": 2,
   "id": "a95bae7a",
   "metadata": {},
   "outputs": [],
   "source": [
    "%%capture\n",
    "!pip install widgetsnbextension\n",
    "!pip install ipywidgets\n",
    "!pip install voila\n",
    "!jupyter nbextension enable --py widgetsnbextension --sys-prefix\n",
    "!jupyter serverextension enable voila --sys-prefix\n",
    "!pip install rudalle\n",
    "!pip install scikit-learn==0.13"
   ]
  },
  {
   "cell_type": "code",
   "execution_count": 15,
   "id": "e56db6a9",
   "metadata": {},
   "outputs": [],
   "source": [
    "import warnings \n",
    "warnings.filterwarnings('ignore')"
   ]
  },
  {
   "cell_type": "code",
   "execution_count": 16,
   "id": "73c2a42d",
   "metadata": {},
   "outputs": [],
   "source": [
    "import ipywidgets as widgets\n",
    "from IPython.display import display, clear_output, Image\n",
    "import os"
   ]
  },
  {
   "cell_type": "code",
   "execution_count": null,
   "id": "5c78e25c",
   "metadata": {},
   "outputs": [],
   "source": []
  },
  {
   "cell_type": "code",
   "execution_count": 9,
   "id": "14bf09ab",
   "metadata": {},
   "outputs": [],
   "source": [
    "layout = widgets.Layout(width='400px', height='50px')"
   ]
  },
  {
   "cell_type": "code",
   "execution_count": 10,
   "id": "2be8ce21",
   "metadata": {},
   "outputs": [],
   "source": [
    "model_version = widgets.ToggleButtons(options = ['Model_1', 'Model_2'], layout = layout)"
   ]
  },
  {
   "cell_type": "code",
   "execution_count": null,
   "id": "1669902f",
   "metadata": {},
   "outputs": [],
   "source": [
    "display(model_version)"
   ]
  },
  {
   "cell_type": "code",
   "execution_count": 11,
   "id": "4a7c5bd6",
   "metadata": {},
   "outputs": [],
   "source": [
    "checkpoint = widgets.ToggleButtons(\n",
    "            options=['12','20','40',\n",
    "                     '60','80','100',\n",
    "                     '120','140',\n",
    "                    '160','200'], description = 'Model Version',\n",
    "            layout = layout,\n",
    "            display='flex',\n",
    "            align_items='stretch',\n",
    "            style= {'description_width': 'initial'}\n",
    "        )"
   ]
  },
  {
   "cell_type": "code",
   "execution_count": null,
   "id": "3b0e4e00",
   "metadata": {},
   "outputs": [],
   "source": [
    "checkpoint = widgets.ToggleButtons(\n",
    "            options=['20','40',\n",
    "                     '60','80'], description = 'Model Version',\n",
    "            layout = layout,\n",
    "            display='flex',\n",
    "            align_items='stretch',\n",
    "            style= {'description_width': 'initial'}\n",
    "        )"
   ]
  },
  {
   "cell_type": "code",
   "execution_count": 12,
   "id": "3d08d1c4",
   "metadata": {},
   "outputs": [],
   "source": [
    "checkpoint_1 = widgets.ToggleButtons(\n",
    "            options=['20','40',\n",
    "                     '60','80'], description = 'Model Version',\n",
    "                     layout = layout,\n",
    "            display='flex',\n",
    "            align_items='stretch',\n",
    "        )"
   ]
  },
  {
   "cell_type": "code",
   "execution_count": 13,
   "id": "2ed825ae",
   "metadata": {},
   "outputs": [],
   "source": [
    "confidence = widgets.ToggleButtons(\n",
    "            options=['Ultra-Low', 'Low', 'Medium', 'High', 'Ultra-High'],description='Confidence',\n",
    "            style= {'description_width': 'initial'})\n",
    "variability = widgets.ToggleButtons(\n",
    "            options=['Ultra-Low', 'Low', 'Medium', 'High', 'Ultra-High'], description = 'Variability',\n",
    "            style= {'description_width': 'initial'})"
   ]
  },
  {
   "cell_type": "code",
   "execution_count": null,
   "id": "4fd91e51",
   "metadata": {},
   "outputs": [],
   "source": [
    "img_amount = widgets.IntSlider(value=2,min=1,max=9,step=1,description='Image amount',style= {'description_width': 'initial'}, layout = layout)"
   ]
  },
  {
   "cell_type": "code",
   "execution_count": null,
   "id": "e8bf378b",
   "metadata": {},
   "outputs": [],
   "source": [
    "filtered = widgets.IntSlider(value=2,min=1,max=9,step=1,description='Filtered Images',style= {'description_width': 'initial'}, layout = layout)"
   ]
  },
  {
   "cell_type": "code",
   "execution_count": null,
   "id": "17ff8148",
   "metadata": {},
   "outputs": [],
   "source": [
    "img_amount.style.handle_color = 'lightblue'\n",
    "filtered.style.handle_color = 'lightblue'"
   ]
  },
  {
   "cell_type": "code",
   "execution_count": null,
   "id": "1262958d",
   "metadata": {},
   "outputs": [
    {
     "data": {
      "application/vnd.jupyter.widget-view+json": {
       "model_id": "84981f992b3c40b6afd8d0c922415690",
       "version_major": 2,
       "version_minor": 0
      },
      "text/plain": [
       "IntSlider(value=2, description='Image amount', max=9, min=1)"
      ]
     },
     "metadata": {},
     "output_type": "display_data"
    },
    {
     "data": {
      "application/vnd.jupyter.widget-view+json": {
       "model_id": "15ae6d55ab3d467eb64b6fc415d89790",
       "version_major": 2,
       "version_minor": 0
      },
      "text/plain": [
       "IntSlider(value=2, description='Filtered Images', max=9, min=1)"
      ]
     },
     "metadata": {},
     "output_type": "display_data"
    }
   ],
   "source": [
    "display(img_amount)\n",
    "display(filtered)"
   ]
  },
  {
   "cell_type": "code",
   "execution_count": null,
   "id": "0dc90fec",
   "metadata": {},
   "outputs": [],
   "source": [
    "prompt = widgets.Text(placeholder='Input your prompt', layout = layout)"
   ]
  },
  {
   "cell_type": "code",
   "execution_count": null,
   "id": "4e21047a",
   "metadata": {},
   "outputs": [],
   "source": [
    "if model_version.value == 'Model_1':\n",
    "    display(checkpoint_1)\n",
    "elif model_version.value == 'Model 2':\n",
    "    display(checkpoint)"
   ]
  },
  {
   "cell_type": "code",
   "execution_count": null,
   "id": "5c577562",
   "metadata": {},
   "outputs": [
    {
     "data": {
      "application/vnd.jupyter.widget-view+json": {
       "model_id": "1b88bf570526435790c523c65e7df277",
       "version_major": 2,
       "version_minor": 0
      },
      "text/plain": [
       "ToggleButtons(description='confidence', options=('Ultra-Low', 'Low', 'Medium', 'High', 'Ultra-High'), value='U…"
      ]
     },
     "metadata": {},
     "output_type": "display_data"
    }
   ],
   "source": [
    "display(confidence)"
   ]
  },
  {
   "cell_type": "code",
   "execution_count": null,
   "id": "23aaa461",
   "metadata": {},
   "outputs": [
    {
     "data": {
      "application/vnd.jupyter.widget-view+json": {
       "model_id": "eb5aa349d2754c68bda4aba8e152b8d2",
       "version_major": 2,
       "version_minor": 0
      },
      "text/plain": [
       "ToggleButtons(description='variability', options=('Ultra-Low', 'Low', 'Medium', 'High', 'Ultra-High'), value='…"
      ]
     },
     "metadata": {},
     "output_type": "display_data"
    }
   ],
   "source": [
    "display(variability)"
   ]
  },
  {
   "cell_type": "code",
   "execution_count": null,
   "id": "5e994ae4",
   "metadata": {},
   "outputs": [
    {
     "data": {
      "application/vnd.jupyter.widget-view+json": {
       "model_id": "39215c828b5c4afea466ebd36b8b2eaf",
       "version_major": 2,
       "version_minor": 0
      },
      "text/plain": [
       "Text(value='', placeholder='Input your prompt')"
      ]
     },
     "metadata": {},
     "output_type": "display_data"
    }
   ],
   "source": [
    "display(prompt)"
   ]
  },
  {
   "cell_type": "code",
   "execution_count": null,
   "id": "4685484e",
   "metadata": {},
   "outputs": [],
   "source": []
  },
  {
   "cell_type": "code",
   "execution_count": null,
   "id": "126e54aa",
   "metadata": {},
   "outputs": [],
   "source": [
    "button_run = widgets.Button(description = 'Run model', tooltip='Send',\n",
    "                style={'description_width': 'initial'}, layout = layout)"
   ]
  },
  {
   "cell_type": "code",
   "execution_count": null,
   "id": "23d66307",
   "metadata": {},
   "outputs": [],
   "source": [
    "button_run.style.button_color = 'lightblue'"
   ]
  },
  {
   "cell_type": "code",
   "execution_count": null,
   "id": "8fc10339",
   "metadata": {},
   "outputs": [],
   "source": [
    "output = widgets.Output()"
   ]
  },
  {
   "cell_type": "code",
   "execution_count": null,
   "id": "2fa6fc71",
   "metadata": {
    "scrolled": true
   },
   "outputs": [],
   "source": [
    "%%capture\n",
    "\n",
    "from rudalle import get_rudalle_model, get_vae\n",
    "import torch\n",
    "from model.functions import generate, get_closest_training_images_by_clip\n",
    "\n",
    "device = torch.device(\"cuda:0\" if torch.cuda.is_available() else \"cpu\")\n",
    "model = get_rudalle_model(\"Malevich\", pretrained=True, fp16=True, device=device)"
   ]
  },
  {
   "cell_type": "code",
   "execution_count": null,
   "id": "3e97c025",
   "metadata": {
    "scrolled": true
   },
   "outputs": [],
   "source": [
    "%%capture\n",
    "vae = get_vae().to(\"cuda\")"
   ]
  },
  {
   "cell_type": "code",
   "execution_count": null,
   "id": "9a64e34e",
   "metadata": {},
   "outputs": [],
   "source": [
    "import os\n",
    "\n",
    "def on_button_clicked(event):\n",
    "    with output:\n",
    "        clear_output()\n",
    "        if model_version.value == 'Model_1':\n",
    "            checkpoint_str = 'checkpoints_1'\n",
    "            v = checkpoint_1.value\n",
    "        elif model_version.value == 'Model_2':\n",
    "            checkpoint_str = 'checkpoints'\n",
    "            v = checkpoint.value\n",
    "        model_path = os.path.join(f'{checkpoint_str}/lookingglass_dalle_{v}00.pt')\n",
    "        if not os.path.exists('output/'):\n",
    "            os.mkdir('output/')\n",
    "        filepath = f'output/{prompt.value}:{checkpoint.value}:{confidence.value}:{variability.value}'\n",
    "        if not os.path.exists(filepath):\n",
    "            os.mkdir(filepath)\n",
    "        model.load_state_dict(torch.load(model_path))\n",
    "        filenames = generate(vae, model, prompt.value, confidence = confidence.value, variability = variability.value, rurealesrgan_multiplier=\"x1\", output_filepath=filepath, num_filtered = filtered.value, image_amount = img_amount.value)\n",
    "        print(f'Images saved in {filepath}')\n",
    "\n",
    "        for image in filenames:\n",
    "            img = Image(image)\n",
    "            display(img)\n",
    "            "
   ]
  },
  {
   "cell_type": "code",
   "execution_count": null,
   "id": "e6bfb185",
   "metadata": {},
   "outputs": [
    {
     "ename": "NameError",
     "evalue": "name 'button_run' is not defined",
     "output_type": "error",
     "traceback": [
      "\u001b[0;31m---------------------------------------------------------------------------\u001b[0m",
      "\u001b[0;31mNameError\u001b[0m                                 Traceback (most recent call last)",
      "\u001b[0;32m<ipython-input-31-874c3cbd5fbb>\u001b[0m in \u001b[0;36m<module>\u001b[0;34m\u001b[0m\n\u001b[0;32m----> 1\u001b[0;31m \u001b[0mbutton_run\u001b[0m\u001b[0;34m.\u001b[0m\u001b[0mon_click\u001b[0m\u001b[0;34m(\u001b[0m\u001b[0mon_button_clicked\u001b[0m\u001b[0;34m)\u001b[0m\u001b[0;34m\u001b[0m\u001b[0;34m\u001b[0m\u001b[0m\n\u001b[0m",
      "\u001b[0;31mNameError\u001b[0m: name 'button_run' is not defined"
     ]
    }
   ],
   "source": [
    "button_run.on_click(on_button_clicked)"
   ]
  },
  {
   "cell_type": "code",
   "execution_count": null,
   "id": "cb9e0013",
   "metadata": {},
   "outputs": [],
   "source": [
    "display(button_run, output)"
   ]
  },
  {
   "cell_type": "code",
   "execution_count": null,
   "id": "52acba0b",
   "metadata": {},
   "outputs": [],
   "source": [
    "vbox_result = widgets.VBox([button_run, output])"
   ]
  },
  {
   "cell_type": "code",
   "execution_count": null,
   "id": "3b683f94",
   "metadata": {},
   "outputs": [
    {
     "data": {
      "application/vnd.jupyter.widget-view+json": {
       "model_id": "f28a154faef74006b2cb6365e91d3853",
       "version_major": 2,
       "version_minor": 0
      },
      "text/plain": [
       "Button(description='Explore training images', style=ButtonStyle(), tooltip='Send')"
      ]
     },
     "metadata": {},
     "output_type": "display_data"
    },
    {
     "data": {
      "application/vnd.jupyter.widget-view+json": {
       "model_id": "023dd77ff4c94b18bd61c24d83e4ab25",
       "version_major": 2,
       "version_minor": 0
      },
      "text/plain": [
       "Output()"
      ]
     },
     "metadata": {},
     "output_type": "display_data"
    }
   ],
   "source": []
  },
  {
   "cell_type": "code",
   "execution_count": null,
   "id": "b413691f",
   "metadata": {},
   "outputs": [],
   "source": [
    "button_run_2 = widgets.Button(description = 'Explore training images', tooltip='Send',\n",
    "                style={'description_width': 'initial'}, layout = layout)"
   ]
  },
  {
   "cell_type": "code",
   "execution_count": null,
   "id": "adc2b5f9",
   "metadata": {},
   "outputs": [],
   "source": [
    "button_run_2.style.button_color = 'lightblue'"
   ]
  },
  {
   "cell_type": "code",
   "execution_count": null,
   "id": "5f9bedd3",
   "metadata": {},
   "outputs": [],
   "source": [
    "output = widgets.Output()"
   ]
  },
  {
   "cell_type": "code",
   "execution_count": null,
   "id": "4d991595",
   "metadata": {},
   "outputs": [],
   "source": [
    "def on_button_clicked_2(event):\n",
    "    from PIL import Image\n",
    "    with output:\n",
    "        img_filename = get_closest_training_images_by_clip(prompt.value, '../images-labelled')\n",
    "        img = Image.open(f'../images-labelled/{img_filename}')\n",
    "        display(img.resize((int(img.width*0.3), int(img.height*0.3))))\n",
    "\n",
    "        "
   ]
  },
  {
   "cell_type": "code",
   "execution_count": null,
   "id": "50b6e512",
   "metadata": {},
   "outputs": [],
   "source": [
    "button_run_2.on_click(on_button_clicked_2)"
   ]
  },
  {
   "cell_type": "code",
   "execution_count": null,
   "id": "9306a14b",
   "metadata": {},
   "outputs": [],
   "source": [
    "display(button_run_2, output)"
   ]
  },
  {
   "cell_type": "code",
   "execution_count": null,
   "id": "947d0316",
   "metadata": {},
   "outputs": [],
   "source": [
    "vbox_result_2 = widgets.VBox([button_run_2, output])"
   ]
  }
 ],
 "metadata": {
  "interpreter": {
   "hash": "31f2aee4e71d21fbe5cf8b01ff0e069b9275f58929596ceb00d14d90e3e16cd6"
  },
  "kernelspec": {
   "display_name": "Python 3.6.9 64-bit",
   "language": "python",
   "name": "python3"
  },
  "language_info": {
   "codemirror_mode": {
    "name": "ipython",
    "version": 3
   },
   "file_extension": ".py",
   "mimetype": "text/x-python",
   "name": "python",
   "nbconvert_exporter": "python",
   "pygments_lexer": "ipython3",
   "version": "3.6.9"
  }
 },
 "nbformat": 4,
 "nbformat_minor": 5
}
