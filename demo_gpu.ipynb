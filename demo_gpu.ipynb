{
 "cells": [
  {
   "cell_type": "code",
   "execution_count": 26,
   "id": "a95bae7a",
   "metadata": {},
   "outputs": [],
   "source": [
    "#pip install widgetsnbextension"
   ]
  },
  {
   "cell_type": "code",
   "execution_count": 27,
   "id": "f35e8556",
   "metadata": {},
   "outputs": [],
   "source": [
    "#pip install ipywidgets"
   ]
  },
  {
   "cell_type": "code",
   "execution_count": 28,
   "id": "79cdfc39",
   "metadata": {},
   "outputs": [],
   "source": [
    "#pip install voila"
   ]
  },
  {
   "cell_type": "code",
   "execution_count": 29,
   "id": "c787610b",
   "metadata": {},
   "outputs": [],
   "source": [
    "#!jupyter nbextension enable --py widgetsnbextension --sys-prefix\n",
    "#!jupyter serverextension enable voila --sys-prefix"
   ]
  },
  {
   "cell_type": "code",
   "execution_count": 1,
   "id": "73c2a42d",
   "metadata": {},
   "outputs": [],
   "source": [
    "import ipywidgets as widgets\n",
    "from IPython.display import display, clear_output, Image\n",
    "import os"
   ]
  },
  {
   "cell_type": "code",
   "execution_count": 2,
   "id": "557f7bbb",
   "metadata": {},
   "outputs": [],
   "source": [
    "checkpoint = widgets.ToggleButtons(\n",
    "            options=['lookingglass_dalle_12000.pt','lookingglass_dalle_2000.pt','lookingglass_dalle_4000.pt',\n",
    "                     'lookingglass_dalle_6000.pt','lookingglass_dalle_8000.pt','lookingglass_dalle_10000.pt',\n",
    "                     'lookingglass_dalle_12000.pt','lookingglass_dalle_14000.pt',\n",
    "                    'lookingglass_dalle_16000.pt','lookingglass_dalle_20000.pt']\n",
    "        )"
   ]
  },
  {
   "cell_type": "code",
   "execution_count": 13,
   "id": "2ed825ae",
   "metadata": {},
   "outputs": [],
   "source": [
    "confidence = widgets.ToggleButtons(\n",
    "            options=['Ultra-Low', 'Low', 'Medium', 'High', 'Ultra-High'],description='confidence')\n",
    "variability = widgets.ToggleButtons(\n",
    "            options=['Ultra-Low', 'Low', 'Medium', 'High', 'Ultra-High'], description = 'variability')"
   ]
  },
  {
   "cell_type": "code",
   "execution_count": null,
   "id": "4fd91e51",
   "metadata": {},
   "outputs": [],
   "source": [
    "img_amount = widgets.IntSlider(value=2,min=1,max=9,step=1,description='Image amount')"
   ]
  },
  {
   "cell_type": "code",
   "execution_count": null,
   "id": "e8bf378b",
   "metadata": {},
   "outputs": [],
   "source": [
    "filtered = widgets.IntSlider(value=2,min=1,max=9,step=1,description='Filtered Images')"
   ]
  },
  {
   "cell_type": "code",
   "execution_count": null,
   "id": "1262958d",
   "metadata": {},
   "outputs": [],
   "source": [
    "display(img_amount)\n",
    "display(filtered)"
   ]
  },
  {
   "cell_type": "code",
   "execution_count": 14,
   "id": "0dc90fec",
   "metadata": {},
   "outputs": [],
   "source": [
    "prompt = widgets.Text(placeholder='Input your prompt')"
   ]
  },
  {
   "cell_type": "code",
   "execution_count": null,
   "id": "e1528351",
   "metadata": {},
   "outputs": [],
   "source": [
    "display(checkpoint)"
   ]
  },
  {
   "cell_type": "code",
   "execution_count": 15,
   "id": "5c577562",
   "metadata": {},
   "outputs": [
    {
     "data": {
      "application/vnd.jupyter.widget-view+json": {
       "model_id": "2521d9a791604d89898b85b75585b4cb",
       "version_major": 2,
       "version_minor": 0
      },
      "text/plain": [
       "ToggleButtons(description='confidence', options=('Ultra-Low', 'Low', 'Medium', 'High', 'Ultra-High'), value='U…"
      ]
     },
     "metadata": {},
     "output_type": "display_data"
    }
   ],
   "source": [
    "display(confidence)"
   ]
  },
  {
   "cell_type": "code",
   "execution_count": 16,
   "id": "23aaa461",
   "metadata": {},
   "outputs": [
    {
     "data": {
      "application/vnd.jupyter.widget-view+json": {
       "model_id": "c4fabf2cd4ad40dab21cbe3e7742d4e6",
       "version_major": 2,
       "version_minor": 0
      },
      "text/plain": [
       "ToggleButtons(description='variability', options=('Ultra-Low', 'Low', 'Medium', 'High', 'Ultra-High'), value='…"
      ]
     },
     "metadata": {},
     "output_type": "display_data"
    }
   ],
   "source": [
    "display(variability)"
   ]
  },
  {
   "cell_type": "code",
   "execution_count": 17,
   "id": "5e994ae4",
   "metadata": {},
   "outputs": [
    {
     "data": {
      "application/vnd.jupyter.widget-view+json": {
       "model_id": "b2fc079a8a414a13b6427207d8f9fb94",
       "version_major": 2,
       "version_minor": 0
      },
      "text/plain": [
       "Text(value='', placeholder='Input your prompt')"
      ]
     },
     "metadata": {},
     "output_type": "display_data"
    }
   ],
   "source": [
    "display(prompt)"
   ]
  },
  {
   "cell_type": "code",
   "execution_count": null,
   "id": "4685484e",
   "metadata": {},
   "outputs": [],
   "source": []
  },
  {
   "cell_type": "code",
   "execution_count": 18,
   "id": "126e54aa",
   "metadata": {},
   "outputs": [],
   "source": [
    "button_run = widgets.Button(description = 'Run model', tooltip='Send',\n",
    "                style={'description_width': 'initial'})"
   ]
  },
  {
   "cell_type": "code",
   "execution_count": 19,
   "id": "8fc10339",
   "metadata": {},
   "outputs": [],
   "source": [
    "output = widgets.Output()"
   ]
  },
  {
   "cell_type": "code",
   "execution_count": 2,
   "id": "2fa6fc71",
   "metadata": {
    "scrolled": false
   },
   "outputs": [
    {
     "name": "stdout",
     "output_type": "stream",
     "text": [
      "tokenizer --> ready\n",
      "cuda:0\n",
      "◼️ Malevich is 1.3 billion params model from the family GPT3-like, that uses Russian language and text+image multi-modality.\n"
     ]
    }
   ],
   "source": [
    "from rudalle import get_rudalle_model, get_tokenizer, get_vae\n",
    "import torch\n",
    "from model.functions import generate\n",
    "\n",
    "device = torch.device(\"cuda:0\" if torch.cuda.is_available() else \"cpu\")\n",
    "print(device)\n",
    "\n",
    "model = get_rudalle_model(\"Malevich\", pretrained=True, fp16=True, device=device)"
   ]
  },
  {
   "cell_type": "code",
   "execution_count": 3,
   "id": "3e97c025",
   "metadata": {},
   "outputs": [
    {
     "name": "stdout",
     "output_type": "stream",
     "text": [
      "Working with z of shape (1, 256, 32, 32) = 262144 dimensions.\n",
      "vae --> ready\n"
     ]
    }
   ],
   "source": [
    "vae = get_vae().to(\"cuda\")"
   ]
  },
  {
   "cell_type": "code",
   "execution_count": 6,
   "id": "9a64e34e",
   "metadata": {},
   "outputs": [],
   "source": [
    "import os\n",
    "\n",
    "def on_button_clicked(event):\n",
    "    with output:\n",
    "        clear_output()\n",
    "        model_path = os.path.join(f'checkpoints/{checkpoint.value}')\n",
    "        if not os.path.exists('output/'):\n",
    "            os.mkdir('output/')\n",
    "        filepath = f'output/{prompt.value}:{checkpoint.value}:{confidence.value}:{variability.value}'\n",
    "        if not os.path.exists(filepath):\n",
    "            os.mkdir(filepath)\n",
    "        model.load_state_dict(torch.load(model_path))\n",
    "        generate(vae, model, prompt.value, confidence = confidence.value, variability = variability.value, rurealesrgan_multiplier=\"x1\", output_filepath=filepath, num_filtered = filtered.value, image_amount = img_amount.value)\n",
    "        print(f'Images saved in {filepath}')\n",
    "\n",
    "        for image in os.listdir(filepath):\n",
    "            img = Image(f'{filepath}/{image}')\n",
    "            display(img)\n",
    "            "
   ]
  },
  {
   "cell_type": "code",
   "execution_count": 23,
   "id": "e6bfb185",
   "metadata": {},
   "outputs": [],
   "source": [
    "button_run.on_click(on_button_clicked)"
   ]
  },
  {
   "cell_type": "code",
   "execution_count": 24,
   "id": "52acba0b",
   "metadata": {},
   "outputs": [],
   "source": [
    "vbox_result = widgets.VBox([button_run, output])"
   ]
  },
  {
   "cell_type": "code",
   "execution_count": 25,
   "id": "9282d1bd",
   "metadata": {},
   "outputs": [
    {
     "data": {
      "application/vnd.jupyter.widget-view+json": {
       "model_id": "4195af408fb84003a6237b62ff103f2d",
       "version_major": 2,
       "version_minor": 0
      },
      "text/plain": [
       "Button(description='Run model', style=ButtonStyle(), tooltip='Send')"
      ]
     },
     "metadata": {},
     "output_type": "display_data"
    },
    {
     "data": {
      "application/vnd.jupyter.widget-view+json": {
       "model_id": "4e6bb88e013d45a4bd217d5fd23a29f8",
       "version_major": 2,
       "version_minor": 0
      },
      "text/plain": [
       "Output()"
      ]
     },
     "metadata": {},
     "output_type": "display_data"
    }
   ],
   "source": [
    "display(button_run, output)"
   ]
  },
  {
   "cell_type": "code",
   "execution_count": 4,
   "id": "3b683f94",
   "metadata": {},
   "outputs": [
    {
     "ename": "NameError",
     "evalue": "name 'prompt' is not defined",
     "output_type": "error",
     "traceback": [
      "\u001b[0;31m---------------------------------------------------------------------------\u001b[0m",
      "\u001b[0;31mNameError\u001b[0m                                 Traceback (most recent call last)",
      "\u001b[0;32m<ipython-input-4-a5b637de8472>\u001b[0m in \u001b[0;36m<module>\u001b[0;34m\u001b[0m\n\u001b[0;32m----> 1\u001b[0;31m \u001b[0mprompt\u001b[0m\u001b[0;34m.\u001b[0m\u001b[0mvalue\u001b[0m\u001b[0;34m\u001b[0m\u001b[0;34m\u001b[0m\u001b[0m\n\u001b[0m",
      "\u001b[0;31mNameError\u001b[0m: name 'prompt' is not defined"
     ]
    }
   ],
   "source": []
  },
  {
   "cell_type": "code",
   "execution_count": null,
   "id": "4d47df54",
   "metadata": {},
   "outputs": [],
   "source": []
  }
 ],
 "metadata": {
  "kernelspec": {
   "display_name": "Python 3",
   "language": "python",
   "name": "python3"
  },
  "language_info": {
   "codemirror_mode": {
    "name": "ipython",
    "version": 3
   },
   "file_extension": ".py",
   "mimetype": "text/x-python",
   "name": "python",
   "nbconvert_exporter": "python",
   "pygments_lexer": "ipython3",
   "version": "3.6.9"
  }
 },
 "nbformat": 4,
 "nbformat_minor": 5
}
